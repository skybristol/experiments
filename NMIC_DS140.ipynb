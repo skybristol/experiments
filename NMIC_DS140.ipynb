{
  "nbformat": 4,
  "nbformat_minor": 0,
  "metadata": {
    "colab": {
      "name": "NMIC DS140.ipynb",
      "provenance": [],
      "collapsed_sections": [],
      "authorship_tag": "ABX9TyMDsWw11Jcw6NnV++nfNmiV",
      "include_colab_link": true
    },
    "kernelspec": {
      "name": "python3",
      "display_name": "Python 3"
    },
    "widgets": {
      "application/vnd.jupyter.widget-state+json": {
        "5082e395e7934c0c9dce7bf031f9126f": {
          "model_module": "@jupyter-widgets/controls",
          "model_name": "DropdownModel",
          "model_module_version": "1.5.0",
          "state": {
            "_options_labels": [
              "Bismuth",
              "Coal Combustion Products",
              "Cement",
              "Cadmium",
              "Cesium",
              "Barite",
              "Beryllium",
              "Asbestos",
              "Bromine",
              "Arsenic",
              "Boron",
              "Agriculture and Fishery",
              "Antimony",
              "Bauxite and Alumina",
              "Chromium",
              "Cobalt",
              "Copper",
              "Natural Abrasives",
              "Manufactured Abrasives",
              "Diatomite",
              "Industrial Diamond",
              "Clay",
              "Fluorspar",
              "Gallium",
              "Industrial Garnet",
              "Gemstones",
              "Germanium",
              "Natural Graphite",
              "Gold",
              "Gypsum",
              "Iodine",
              "Helium",
              "Indium",
              "Hafnium",
              "Iron and Steel",
              "Iron and Steel Scrap",
              "Iron Oxide Pigments",
              "Iron Ore",
              "Lead",
              "Magnesium Compounds",
              "Lime",
              "Lithium",
              "Magnesium Metal",
              "Mercury",
              "Molybdenum",
              "Nitrogen (fixed)—Ammonia",
              "Nonrenewable Organics",
              "Perlite",
              "Peat",
              "Potash",
              "Pumice and Pumicite",
              "Mica",
              "Platinum-Group Metals",
              "Niobium (Columbium)",
              "Rhenium",
              "Phosphate Rock",
              "Quartz Crystal (Industrial)",
              "Sand and Gravel (Industrial)",
              "Rare Earths",
              "Salt",
              "Sand and Gravel (Construction)",
              "Nickel",
              "Silicon",
              "Stone (Crushed)",
              "Stone (Dimension)",
              "Sodium Sulfate",
              "Soda Ash",
              "Strontium",
              "Sulfur",
              "Tantalum",
              "Thorium",
              "Thallium",
              "Vermiculite",
              "Talc and Pyrophyllite",
              "Titanium Dioxide Pigment",
              "Tin",
              "Titanium Metal",
              "Wollastonite",
              "Tungsten",
              "Titanium Mineral Concentrates",
              "Zirconium Mineral Concentrates",
              "Zinc"
            ],
            "_view_name": "DropdownView",
            "style": "IPY_MODEL_3cda44c02fe0461bb3921f66799ca435",
            "_dom_classes": [],
            "description": "Commodity",
            "_model_name": "DropdownModel",
            "index": 2,
            "_view_module": "@jupyter-widgets/controls",
            "_model_module_version": "1.5.0",
            "_view_count": null,
            "disabled": false,
            "_view_module_version": "1.5.0",
            "description_tooltip": null,
            "_model_module": "@jupyter-widgets/controls",
            "layout": "IPY_MODEL_cfe3a9e7d5404df3985c44e5248f9ce7"
          }
        },
        "3cda44c02fe0461bb3921f66799ca435": {
          "model_module": "@jupyter-widgets/controls",
          "model_name": "DescriptionStyleModel",
          "model_module_version": "1.5.0",
          "state": {
            "_view_name": "StyleView",
            "_model_name": "DescriptionStyleModel",
            "description_width": "",
            "_view_module": "@jupyter-widgets/base",
            "_model_module_version": "1.5.0",
            "_view_count": null,
            "_view_module_version": "1.2.0",
            "_model_module": "@jupyter-widgets/controls"
          }
        },
        "cfe3a9e7d5404df3985c44e5248f9ce7": {
          "model_module": "@jupyter-widgets/base",
          "model_name": "LayoutModel",
          "model_module_version": "1.2.0",
          "state": {
            "_view_name": "LayoutView",
            "grid_template_rows": null,
            "right": null,
            "justify_content": null,
            "_view_module": "@jupyter-widgets/base",
            "overflow": null,
            "_model_module_version": "1.2.0",
            "_view_count": null,
            "flex_flow": null,
            "width": null,
            "min_width": null,
            "border": null,
            "align_items": null,
            "bottom": null,
            "_model_module": "@jupyter-widgets/base",
            "top": null,
            "grid_column": null,
            "overflow_y": null,
            "overflow_x": null,
            "grid_auto_flow": null,
            "grid_area": null,
            "grid_template_columns": null,
            "flex": null,
            "_model_name": "LayoutModel",
            "justify_items": null,
            "grid_row": null,
            "max_height": null,
            "align_content": null,
            "visibility": null,
            "align_self": null,
            "height": null,
            "min_height": null,
            "padding": null,
            "grid_auto_rows": null,
            "grid_gap": null,
            "max_width": null,
            "order": null,
            "_view_module_version": "1.2.0",
            "grid_template_areas": null,
            "object_position": null,
            "object_fit": null,
            "grid_auto_columns": null,
            "margin": null,
            "display": null,
            "left": null
          }
        }
      }
    }
  },
  "cells": [
    {
      "cell_type": "markdown",
      "metadata": {
        "id": "view-in-github",
        "colab_type": "text"
      },
      "source": [
        "<a href=\"https://colab.research.google.com/github/skybristol/experiments/blob/dev/NMIC_DS140.ipynb\" target=\"_parent\"><img src=\"https://colab.research.google.com/assets/colab-badge.svg\" alt=\"Open In Colab\"/></a>"
      ]
    },
    {
      "cell_type": "markdown",
      "metadata": {
        "id": "OnAIQ-6pBkad"
      },
      "source": [
        "# Project Prospectus\n",
        "*A new method for integrated commodity statistics data and a cloud-based distribution point to enable expanded utility of the DS140 report*\n",
        "\n",
        "# Background and Goal\n",
        "An initial goal for the USGS National Minerals Information Center toward modernizing data processing and distribution workflows is to transform the Historical Statistics for Mineral and Material Commodities in the United States (aka [DS140 report](https://www.usgs.gov/centers/nmic/historical-statistics-mineral-and-material-commodities-united-states)), into a new data model that supports alternative methods for query, reporting, and usage. Initial focus is on the supply-demand statistics, which are distributed as Excel spreadsheets with varying formats, structures, and properties. In the long run, we may come up with a process that works directly from an alternative, more original source for these data to some type of standardized output that we can operate against.\n",
        "\n",
        "In the near term, this notebook presents a proposal to explore what a process would need to consist of to work directly with the data as presented online via the DS140 distribution site linked above. The goal is to produce a dynamic system that will operate in the USGS cloud to transform the existing DS140 data and any new files posted to that \"running\" Data Series into an amalgamated database, complete with individual commodity metadata. This database will be made available via an application programming interface (API) as a mimumum viable product along with documentation for use and a simple user interface that demonstrates the API functionality.\n",
        "\n",
        "Note: In the process of pursuing this idea, we may end up either working with a more fundamental and simply structured form of output data that comes from internal systems to the DS140 distribution point, and we may extend our thinking a bit beyond the DS140 to other data that are distributed from NMIC's processes. The size of data and amount of processes needed are not particularly constraining factors. Rather, the level of complexity in the underlying data and the need to work efficiently back and forth between code development/infrastructure deployment and data subject matter expertise will likely be the area of scope limitation.\n",
        "\n",
        "# Approach\n",
        "This notebook lays out a conceptual approach to the problem using Python code and a set of open source libraries to connect to the DS140 inventory of annual commodity statistics source files, read the files from Excel, and process the statistics and individual commodity metadata into an alternative data structure. This provides the basic elements for what could be instantiated as a serverless processing pipeline in the USGS cloud. As part of the project, we will explore options for this basic approach to include native \"extract/transform/load\" utilities as well as an approach using more vendor-agnostic methods and report on relative costs and trade-offs to the alternate methods. The project will also report on characteristics in the underlying source data and how they are currently provisioned to help inform future work at the point of production and release.\n",
        "\n",
        "The code notebook, as a method for documenting a project proposal, is itself an exploration of a new method and way of thinking about problems in data and technology we are seeking to address. Rather than only provide words that describe an idea, the notebook exercises code and processing methods that demonstrate the idea and test feasibility of the approach. If accepted as a project to move forward, the code serves as a starting point, potentially providing working process that can be further developed into a working system. The note sections provide further details about the thinking involved and demonstrate the direction the proposers are seeking to pursue.\n",
        "\n",
        "# Future Implications\n",
        "This project will test applicable design principles being developed toward a future USGS Geoscience Data System architecture. It specifically targets the concept of iterative, incremental development where we seek to take large problems, break them into actionable chunks, and work to produce something that has immediate value while working stepwise to reduce the larger problems. It persues the concept of loose coupling, building a microservice infrastructure that leverages existing data serving infrastructure (simplicity of USGS web distribution) while layering on small tools that can be composed in a different way for some other purpose. These principles will be tested in practice and described in presentation of results to inform their future development.\n",
        "\n",
        "Other aspects of the NMIC data processing and distribution infrastructure may benefit directly from demonstrating this particular approach. Either native tools to the current Amazon Web Services environment in use by the USGS Cloud or something more transportable will demonstrate basic data handling methods applicable to both proprietary and nonproprietary aspects of the NMIC data environment. Techniques and methods developed for this project can be lifted and adapted to other parts of the infrastructure to add incremental value, achieve efficiencies, and produce new types of end user value from the data.\n",
        "\n",
        "# Project Team\n",
        "We are deliberately working to develop a small project team with the majority of the resources contributed through a dedicated pilot effort funded by the Energy and Minerals Mission Area (EMMA). The project will be conducted fully in the open with regular opportunities for input welcome from anyone with an interest.\n",
        "\n",
        "* Architect: Sky Bristol (on detail with EMMA designing and future USGS Geoscience Data System)\n",
        "* Developer: Jay Shah (contractor from the USGS Cloud Hosting Solutions group, dedicated to working on EMMA development tasks)\n",
        "* Subject Matter Expert: TBD (lead focal point from NMIC to ensure accuracy in the data processing methodology and end result and production of a viable product from the work)\n",
        "\n",
        "# Timeline and Project Process\n",
        "Much of the groundwork has been laid for EMMA infrastructure like this to be deployed quickly and efficiently into the USGS cloud. This included working out many of the processes needed for infrastructure deployment for both secure and public access and methodology for continuous integration/deployment of code from the USGS GitLab environment. With that groundwork laid, we anticipate that the minimum viable products can be fully completed in 45 days or less from project start. All specific tasks, issues, and work of the project will be conducted within an open and transparent code project so that any stakeholder can check in on work in progress and weigh in on issues in need of subject matter expertise. The small project team will check in on video at least once weekly to work through any outstanding issues."
      ]
    },
    {
      "cell_type": "markdown",
      "metadata": {
        "id": "tlivQM3ayjI5"
      },
      "source": [
        "This codeblock takes care of making some of the text output used below for demonstration easier to work with by wrapping the display."
      ]
    },
    {
      "cell_type": "code",
      "metadata": {
        "id": "I7Xs6r6vtIJz",
        "outputId": "451612c1-939b-4110-b66f-a918b1f8fb17",
        "colab": {
          "base_uri": "https://localhost:8080/",
          "height": 17
        }
      },
      "source": [
        "from IPython.display import HTML, display\n",
        "\n",
        "def set_css():\n",
        "  display(HTML('''\n",
        "  <style>\n",
        "    pre {\n",
        "        white-space: pre-wrap;\n",
        "    }\n",
        "  </style>\n",
        "  '''))\n",
        "get_ipython().events.register('pre_run_cell', set_css)"
      ],
      "execution_count": 43,
      "outputs": [
        {
          "output_type": "display_data",
          "data": {
            "text/html": [
              "\n",
              "  <style>\n",
              "    pre {\n",
              "        white-space: pre-wrap;\n",
              "    }\n",
              "  </style>\n",
              "  "
            ],
            "text/plain": [
              "<IPython.core.display.HTML object>"
            ]
          },
          "metadata": {}
        }
      ]
    },
    {
      "cell_type": "markdown",
      "metadata": {
        "id": "hZXj5OSrqAnn"
      },
      "source": [
        "The only package not included in our basic Google Colab Python runtime is one needed for dealing with the Microsoft Word documents included with the XLSX file packages. These Word documents contain important metadata about each individual commodity and its specific statistics properties and processing details."
      ]
    },
    {
      "cell_type": "code",
      "metadata": {
        "colab": {
          "base_uri": "https://localhost:8080/",
          "height": 51
        },
        "id": "fdrkhEVyxVIX",
        "outputId": "aeb311cd-2d74-4835-99e9-d883491c0618"
      },
      "source": [
        "!pip install python-docx"
      ],
      "execution_count": 44,
      "outputs": [
        {
          "output_type": "display_data",
          "data": {
            "text/html": [
              "\n",
              "  <style>\n",
              "    pre {\n",
              "        white-space: pre-wrap;\n",
              "    }\n",
              "  </style>\n",
              "  "
            ],
            "text/plain": [
              "<IPython.core.display.HTML object>"
            ]
          },
          "metadata": {}
        },
        {
          "output_type": "display_data",
          "data": {
            "text/html": [
              "\n",
              "  <style>\n",
              "    pre {\n",
              "        white-space: pre-wrap;\n",
              "    }\n",
              "  </style>\n",
              "  "
            ],
            "text/plain": [
              "<IPython.core.display.HTML object>"
            ]
          },
          "metadata": {}
        },
        {
          "output_type": "stream",
          "name": "stdout",
          "text": [
            "Requirement already satisfied: python-docx in /usr/local/lib/python3.7/dist-packages (0.8.11)\n",
            "Requirement already satisfied: lxml>=2.3.2 in /usr/local/lib/python3.7/dist-packages (from python-docx) (4.2.6)\n"
          ]
        }
      ]
    },
    {
      "cell_type": "markdown",
      "metadata": {
        "id": "emqsjNKN6ton"
      },
      "source": [
        "The following are all open source and fairly standard Python packages that are mature and stable for this type of use. If these types of approaches prove useful toward a fully engineered, production solution on the USGS Cloud, some things like the method for parallel processing would likely be replaced by more efficient and robust methodology. There inclusion here helps to demonstrate the basic construct."
      ]
    },
    {
      "cell_type": "code",
      "metadata": {
        "id": "hOEUQafC5iCu",
        "colab": {
          "base_uri": "https://localhost:8080/",
          "height": 17
        },
        "outputId": "4af8834a-2575-477b-eab9-e6b82e47d408"
      },
      "source": [
        "import pandas as pd\n",
        "import numpy as np\n",
        "from bs4 import BeautifulSoup\n",
        "import requests\n",
        "import zipfile\n",
        "from io import BytesIO\n",
        "import urllib\n",
        "from docx import Document\n",
        "from itertools import cycle\n",
        "from joblib import Parallel, delayed\n",
        "from tqdm import tqdm\n",
        "import matplotlib.pyplot as plt\n",
        "import ipywidgets as widgets\n",
        "\n",
        "%matplotlib inline"
      ],
      "execution_count": 71,
      "outputs": [
        {
          "output_type": "display_data",
          "data": {
            "text/html": [
              "\n",
              "  <style>\n",
              "    pre {\n",
              "        white-space: pre-wrap;\n",
              "    }\n",
              "  </style>\n",
              "  "
            ],
            "text/plain": [
              "<IPython.core.display.HTML object>"
            ]
          },
          "metadata": {}
        },
        {
          "output_type": "display_data",
          "data": {
            "text/html": [
              "\n",
              "  <style>\n",
              "    pre {\n",
              "        white-space: pre-wrap;\n",
              "    }\n",
              "  </style>\n",
              "  "
            ],
            "text/plain": [
              "<IPython.core.display.HTML object>"
            ]
          },
          "metadata": {}
        }
      ]
    },
    {
      "cell_type": "markdown",
      "metadata": {
        "id": "a5y6QqN2Cxq9"
      },
      "source": [
        "This series of functions perform the essential logic of working with the DS140 distribution web page and could be instantiated as lambda functions on the cloud.\n",
        "\n",
        "* ds140_manifest() - Reads the web page to get the listing of links to individual commodity supply-demand statistics files that all appear to match a certain file name convention.\n",
        "* extract_ds140_data(url) - Retrieves the excel file from a given URL and processes it to retrieve data.\n",
        "* metadata_doc_from_spreadsheet(url) - Reads the excel file from a given URL into memory and checks it (as a zip package) for an included metadata document as a Word (DOCX) file. Returns a couple of error conditions, which mean we can't process the metadata.\n",
        "* parsed_metadata_doc(url) - Takes the embedded metadata document as bytes, reads it using the python-docx package, and returns a list of dictionaries containing the individual paragraphs of content that can be interpreted into a documentation structure.\n",
        "* nmic_metadata(url) - Takes the parsed metadata Word document content and interprets a documentation structure to provide us with an essential property registry. The documentation includes a note about data sources, references for the specific commodity, a recommended citation, and property information for each individual commodity included in a given package. Nominally, the properties should all line up with the columns in our individual data tables. Each one has one or more statements made about the specific property, explaining how it was derived and providing valuable notes.\n",
        "\n",
        "Note: There are still some issues in the data and metadata throughout that will need to be addressed. Most of those appear to be slight variability in how things were structured, making the standard code process here problematic. We'll work through a way to either account for the variability or suggest some cleanup to make things easier to deal with.\n",
        "\n"
      ]
    },
    {
      "cell_type": "code",
      "metadata": {
        "id": "6NgV8H8-0Zul",
        "colab": {
          "base_uri": "https://localhost:8080/",
          "height": 17
        },
        "outputId": "826bd3b2-2d64-441b-d254-474fa8c10ce3"
      },
      "source": [
        "def ds140_manifest():\n",
        "    ds140_manifest_url = 'https://www.usgs.gov/centers/nmic/historical-statistics-mineral-and-material-commodities-united-states'\n",
        "    manifest_soup = BeautifulSoup(requests.get(ds140_manifest_url).text)\n",
        "    supply_stats_links = [l[\"href\"] for l in manifest_soup.find_all(\"a\", href=True) if l[\"href\"].split(\"/\")[-1].split(\"-\")[0].lower() == \"ds140\"]\n",
        "    return supply_stats_links\n",
        "\n",
        "def extract_ds140_data(url):\n",
        "    extracted_data = list()\n",
        "\n",
        "    excel_sheets = pd.read_excel(url, sheet_name=None, header=None)\n",
        "    for commodity_name, df_commodity in excel_sheets.items():\n",
        "        if not df_commodity.empty:\n",
        "            dataset = {\n",
        "                \"commodity_name\": commodity_name.strip()\n",
        "            }\n",
        "\n",
        "            df_commodity.dropna(axis=1, how='all', inplace=True)\n",
        "            first_column_value_list = df_commodity.iloc[:, 0].tolist()\n",
        "            years_in_data = [i for i in first_column_value_list if str(i).isnumeric()]\n",
        "            first_row_with_data = next((index for index,value in enumerate(first_column_value_list) if value == min(years_in_data)))\n",
        "            last_row_with_data = next((index for index,value in enumerate(first_column_value_list) if value == max(years_in_data))) + 1\n",
        "\n",
        "            df_datatable = df_commodity.iloc[first_row_with_data:last_row_with_data]\n",
        "            df_datatable.columns = df_commodity.iloc[first_row_with_data - 1]\n",
        "            df_datatable = df_datatable.where(pd.notnull(df_datatable), None)\n",
        "            dataset[\"data\"] = df_datatable.to_dict(orient=\"records\")\n",
        "\n",
        "            extracted_data.append(dataset)\n",
        "\n",
        "    return extracted_data\n",
        "\n",
        "def metadata_doc_from_spreadsheet(url):\n",
        "    file = urllib.request.urlopen(url).read()\n",
        "    with zipfile.ZipFile(BytesIO(file), 'r') as fd:\n",
        "        docx_files_in_spreadsheet = list()\n",
        "        for zipinfo in fd.infolist():\n",
        "            fn = zipinfo.filename\n",
        "            if len(fn.split(\"/\")) > 1 and fn.split(\"/\")[1] == \"embeddings\" and fn.split(\".\")[-1] == \"docx\":\n",
        "                docx_files_in_spreadsheet.append(fn)\n",
        "        if len(docx_files_in_spreadsheet) == 0:\n",
        "            return {\"url\": url, \"error\": \"No docx files embedded in spreadsheet\"}\n",
        "        elif len(docx_files_in_spreadsheet) == 1:\n",
        "            return Document(BytesIO(fd.read(docx_files_in_spreadsheet[0])))\n",
        "        else:\n",
        "            return {\"url\": url, \"error\": \"Multiple docx files embedded in spreadsheet\", \"details\": docx_files_in_spreadsheet}\n",
        "\n",
        "def parsed_metadata_doc(url):\n",
        "    metadata_doc = metadata_doc_from_spreadsheet(url)\n",
        "    if isinstance(metadata_doc, dict):\n",
        "        return metadata_doc\n",
        "\n",
        "    last_title = None\n",
        "    last_heading = None\n",
        "\n",
        "    paragraphs_in_meta = list()\n",
        "    for index,paragraph in enumerate([i for i in metadata_doc.paragraphs if len(i.text.strip()) > 0]):\n",
        "        if paragraph.style.style_id == \"Title\":\n",
        "            last_title = paragraph.text\n",
        "        \n",
        "        if paragraph.style.style_id == \"Heading1\":\n",
        "            last_heading = paragraph.text\n",
        "    \n",
        "        paragraphs_in_meta.append({\n",
        "            \"position\": index,\n",
        "            \"style\": paragraph.style.style_id,\n",
        "            \"text\": paragraph.text.strip(),\n",
        "            \"last_title\": last_title,\n",
        "            \"last_heading\": last_heading\n",
        "        })\n",
        "\n",
        "    return paragraphs_in_meta\n",
        "\n",
        "def nmic_metadata(url):\n",
        "    parsed_meta = parsed_metadata_doc(url)\n",
        "    if \"error\" in parsed_meta:\n",
        "        return parsed_meta\n",
        "\n",
        "    title_items = [i for i in parsed_meta if i[\"style\"] == \"Title\"]\n",
        "    commodity_title = next((i[\"text\"].replace('Worksheet Notes', '').strip() for i in title_items if i[\"position\"] == 0), None)\n",
        "\n",
        "    if commodity_title is None:\n",
        "        return {\"url\": url, \"error\": \"Commodity title could not be determined in embedded document\"}\n",
        "    else:\n",
        "        dataset = {\n",
        "            \"$id\": f\"emma_schemas:nmic:historic_commodity_stats:{commodity_title}\",\n",
        "            \"title\": commodity_title,\n",
        "            \"description\": {\n",
        "                \"data_sources\": next((i[\"text\"] for i in parsed_meta if i[\"last_heading\"] == \"Data Sources\" and i[\"style\"] in [\"BodyText\",\"Normal\"]), None),\n",
        "                \"recommended_citation\": next((i[\"text\"] for i in parsed_meta if i[\"last_heading\"] == \"Recommended Citation Format:\" and i[\"style\"] in [\"BodyText\",\"Normal\"]), None),\n",
        "                \"references\": [i[\"text\"] for i in parsed_meta if i[\"last_heading\"] == \"References\" and i[\"style\"] in [\"BodyText\",\"Normal\"]],\n",
        "            },\n",
        "            \"required\": [\n",
        "                \"year\"\n",
        "            ],\n",
        "            \"properties\": {\n",
        "                \"year\": {\n",
        "                    \"$id\": \"emma_schemas:general:calendar_year\",\n",
        "                    \"title\": \"calendar_year\",\n",
        "                    \"type\": \"integer\",\n",
        "                    \"description\": \"Integer year in a time series dataset or set of summary statistics calculated to a given calendar year.\",\n",
        "                    \"examples\": [\n",
        "                        1984\n",
        "                    ],\n",
        "                    \"aliases\": [\n",
        "                        \"Year\",\n",
        "                        \"year\"\n",
        "                    ]\n",
        "                }\n",
        "            }\n",
        "        }\n",
        "\n",
        "        for title_item in title_items:\n",
        "            for prop in [i for i in parsed_meta if i[\"last_title\"].strip() == title_item[\"text\"] and i[\"style\"] == \"Heading1\" and i[\"text\"] not in [\"Data Sources\",\"References\",\"Recommended Citation Format:\"]]:\n",
        "                dataset[\"properties\"][prop[\"text\"]] = {\n",
        "                    \"$id\": \":\".join([dataset[\"$id\"], prop[\"text\"]]),\n",
        "                    \"type\": \"string\",\n",
        "                    \"title\": prop[\"text\"],\n",
        "                    \"description\": [i[\"text\"] for i in parsed_meta if i[\"last_title\"].strip() == title_item[\"text\"] and i[\"last_heading\"] == prop[\"text\"] and i[\"style\"] in [\"BodyText\",\"Normal\"]],\n",
        "                    \"default\": \"\",\n",
        "                    \"examples\": list()\n",
        "                }\n",
        "\n",
        "        return dataset\n",
        "\n",
        "def accumulator_meta(url):\n",
        "    dataset_registry.append(nmic_metadata(url))\n",
        "\n",
        "def accumulator_data(url):\n",
        "    data_registry.append(extract_ds140_data(url))"
      ],
      "execution_count": 62,
      "outputs": [
        {
          "output_type": "display_data",
          "data": {
            "text/html": [
              "\n",
              "  <style>\n",
              "    pre {\n",
              "        white-space: pre-wrap;\n",
              "    }\n",
              "  </style>\n",
              "  "
            ],
            "text/plain": [
              "<IPython.core.display.HTML object>"
            ]
          },
          "metadata": {}
        },
        {
          "output_type": "display_data",
          "data": {
            "text/html": [
              "\n",
              "  <style>\n",
              "    pre {\n",
              "        white-space: pre-wrap;\n",
              "    }\n",
              "  </style>\n",
              "  "
            ],
            "text/plain": [
              "<IPython.core.display.HTML object>"
            ]
          },
          "metadata": {}
        }
      ]
    },
    {
      "cell_type": "code",
      "metadata": {
        "colab": {
          "base_uri": "https://localhost:8080/",
          "height": 34
        },
        "id": "3VZRAmJFqsvy",
        "outputId": "0cbdf2da-a493-4a9a-eca6-38e23510cf0b"
      },
      "source": [
        "dataset_registry = list()\n",
        "try:\n",
        "    Parallel(n_jobs=20, prefer=\"threads\")(\n",
        "        delayed(accumulator_meta)\n",
        "        (\n",
        "          i\n",
        "        ) for i in tqdm(ds140_manifest())\n",
        "      )\n",
        "except:\n",
        "    pass"
      ],
      "execution_count": 87,
      "outputs": [
        {
          "output_type": "display_data",
          "data": {
            "text/html": [
              "\n",
              "  <style>\n",
              "    pre {\n",
              "        white-space: pre-wrap;\n",
              "    }\n",
              "  </style>\n",
              "  "
            ],
            "text/plain": [
              "<IPython.core.display.HTML object>"
            ]
          },
          "metadata": {}
        },
        {
          "output_type": "display_data",
          "data": {
            "text/html": [
              "\n",
              "  <style>\n",
              "    pre {\n",
              "        white-space: pre-wrap;\n",
              "    }\n",
              "  </style>\n",
              "  "
            ],
            "text/plain": [
              "<IPython.core.display.HTML object>"
            ]
          },
          "metadata": {}
        },
        {
          "output_type": "stream",
          "name": "stderr",
          "text": [
            "100%|██████████| 92/92 [00:01<00:00, 51.54it/s]\n"
          ]
        }
      ]
    },
    {
      "cell_type": "markdown",
      "metadata": {
        "id": "3eQQcD-mFCbe"
      },
      "source": [
        "Errors are reported for cases where there are no DOCX files embedded in the Excel packages. These appear to be older format Word documents that will have to be dealt with separately. Another error condition came up with a couple of Word documents that need to be tracked down for formatting irregularities."
      ]
    },
    {
      "cell_type": "code",
      "metadata": {
        "colab": {
          "base_uri": "https://localhost:8080/",
          "height": 357
        },
        "id": "0a6eKkXc-UHa",
        "outputId": "9e08da89-e2e2-4851-d5d3-a395f86aa984"
      },
      "source": [
        "[i for i in dataset_registry if \"error\" in i]"
      ],
      "execution_count": 88,
      "outputs": [
        {
          "output_type": "display_data",
          "data": {
            "text/html": [
              "\n",
              "  <style>\n",
              "    pre {\n",
              "        white-space: pre-wrap;\n",
              "    }\n",
              "  </style>\n",
              "  "
            ],
            "text/plain": [
              "<IPython.core.display.HTML object>"
            ]
          },
          "metadata": {}
        },
        {
          "output_type": "display_data",
          "data": {
            "text/html": [
              "\n",
              "  <style>\n",
              "    pre {\n",
              "        white-space: pre-wrap;\n",
              "    }\n",
              "  </style>\n",
              "  "
            ],
            "text/plain": [
              "<IPython.core.display.HTML object>"
            ]
          },
          "metadata": {}
        },
        {
          "output_type": "execute_result",
          "data": {
            "text/plain": [
              "[{'error': 'No docx files embedded in spreadsheet',\n",
              "  'url': 'https://prd-wret.s3.us-west-2.amazonaws.com/assets/palladium/production/atoms/files/ds140-2018-alumi.xlsx'},\n",
              " {'error': 'No docx files embedded in spreadsheet',\n",
              "  'url': 'https://prd-wret.s3.us-west-2.amazonaws.com/assets/palladium/production/atoms/files/ds140-2017-felds.xlsx'},\n",
              " {'error': 'Commodity title could not be determined in embedded document',\n",
              "  'url': 'https://s3-us-west-2.amazonaws.com/prd-wret/assets/palladium/production/mineral-pubs/historical-statistics/ds140-fesla.xlsx'},\n",
              " {'error': 'No docx files embedded in spreadsheet',\n",
              "  'url': 'https://prd-wret.s3.us-west-2.amazonaws.com/assets/palladium/production/atoms/files/ds140-2017-kyani.xlsx'},\n",
              " {'error': 'No docx files embedded in spreadsheet',\n",
              "  'url': 'https://s3-us-west-2.amazonaws.com/prd-wret/assets/palladium/production/mineral-pubs/historical-statistics/ds140-manga.xlsx'},\n",
              " {'error': 'No docx files embedded in spreadsheet',\n",
              "  'url': 'https://prd-wret.s3.us-west-2.amazonaws.com/assets/palladium/production/atoms/files/ds140-2017-selen.xlsx'},\n",
              " {'error': 'No docx files embedded in spreadsheet',\n",
              "  'url': 'https://prd-wret.s3.us-west-2.amazonaws.com/assets/palladium/production/atoms/files/ds140-2017-silve.xlsx'},\n",
              " {'error': 'No docx files embedded in spreadsheet',\n",
              "  'url': 'https://prd-wret.s3.us-west-2.amazonaws.com/assets/palladium/production/atoms/files/ds140-2017-tellu.xlsx'},\n",
              " {'error': 'No docx files embedded in spreadsheet',\n",
              "  'url': 'https://prd-wret.s3.us-west-2.amazonaws.com/assets/palladium/production/atoms/files/ds140-2018-vanad.xlsx'},\n",
              " {'error': 'Commodity title could not be determined in embedded document',\n",
              "  'url': 'https://s3-us-west-2.amazonaws.com/prd-wret/assets/palladium/production/mineral-pubs/historical-statistics/ds140-wood.xlsx'}]"
            ]
          },
          "metadata": {},
          "execution_count": 88
        }
      ]
    },
    {
      "cell_type": "markdown",
      "metadata": {
        "id": "DHGGTBwuFpU3"
      },
      "source": [
        "#Property Registry\n",
        "Arguably, the primary reason for conducting this work is to provide a mechanism whereby the full time series dataset represented in the DS140 report with all commodities is available as part of a larger data system with query capabilities that still allow for any one commodity to be pulled out and examined but also allows for comparative analyses of different kinds across commodities and with other data. This process of scraping the web site and pulling all spreadsheet files into a common dataframe has also been built in a different programming language by Ross Manly for his own purposes and is reportedly a somewhat common practice amongst other users of the DS140 information. While syntactically, this process is mostly fairly straightforward (particularly if we resolve a few issues with the current file set), it is semantically complex since each property for each commodity has to be presumed to be different until proven otherwise. The property metadata we've pulled together in this initial process forces us to make this assumption, and commodity statistic comparability cannot be supported until we build enough intelligence into the overall system to support it.\n",
        "\n",
        "To address this challenge, we are proposing to produce a property registry as a distinct cross-cutting architectural component comprised of the information in accompanying documentation files. This will allow us to critically examine specific definitions and details about geoscientific data properties as a whole together in one place. In this case, there may be properties across commodities that can be put together and compared in different ways but with some specific differences that matter in other circumstances. One of the things our combined property registry needs to develop is an understanding of comparable statistics as a source of intelligence in any distribution or further processing and analysis.\n",
        "\n",
        "With the NMIC DS-140 case, dataset documentation is in the form of a Word document that we had to write a function to parse into attribute-level descriptive information. That information is essentially the attribute name (mostly aligning with the column names in the spreadsheet) and a descriptive paragraph written for purely human consumption. If this was a USGS data release product instead of a USGS Data Series Report, the requirement would have been for the data to be documented with formal metadata (FGDC CSDGM or ISO-19115 formatted XML). In that case, we would looked toward entity/attribute information or an ISO-19110 Feature Catalogue for documentation on each property that would include additional technical details such as the data type, range of acceptable values, code list references, etc. There are also other emergent standards and specifications for how properties in a dataset should be documented such as the [JSON Schema](https://json-schema.org/specification.html) specification. All of these different methods for data documentation essentially cover the same ground, just in slightly different ways.\n",
        "\n",
        "One framework that has tackled this problem in an interesting way is the Community Surface Dynamics Modeling System (CSDMS) from the Univerisity of Colorado-Boulder and their development of [CSDMS Standard Names](https://csdms.colorado.edu/wiki/CSN_Metadata_Names). While the CSN names are designed to serve model coupling and interoperability needs and describe fundamentally different things than statistical algorithm outputs, the basic principles are sound, and the important thing is to develop a abstract registry from all of the subsystems where the properties are used to contain the reference definitions and details of the properties. This creates a forcing factor to more critically examine the definitions and develop logical relationships that can be exploited in analysis.\n",
        "\n",
        "Partly because of personal preference and because we are pushing some of the data we are working with into a JSON/document-type of framework in Elasticsearch, we are experimenting with JSON Schema structure for a base-level dataset and property documentation approach. JSON Schema includes some interesting tooling such as efficient validation capabilities that will critically examine a given dataset to ensure compliance with a specified schema doc. A JSON Schema document describes a given dataset (e.g., one of our commodity statistics time series tables) and the properties in that dataset. A given property is initially only within the context of the dataset in which it is identified. However, by starting to pull together all dataset documentation we can examine all properties together and start to build out logical relationships or higher-level shared definitions.\n",
        "\n",
        "In this initial take on the problem, we use the id property in JSON Schema to start forcing the issue of context-specific properties. This indicates that while Cesium and Bromine both have a property called \"Production,\" \"Cesium:Production\" and \"Bromine:Production\" are fundamentally distinct properties. We further contextualize by adding \"emma_schemas:nmic:historic_commodity_stats\" to the id compound identifiers, indicating that these properties have deep roots within a particular context. The integer year property is common across all of these datasets and actually not described specifically in the documentation. We call that one \"emma_schemas:general:year\" as an initial idea for starting to define higher level properties that might be shared in common across datasets. This is not ultimately the most efficient way to characterize dataset properties, but it is what's necessary at this point because each commodity time series dataset is fundamentally different until made otherwise.\n",
        "\n",
        "In the current DS-140 suite of data, we have statements like the following:\n",
        "\n",
        "* Cesium:Production 'Production data prior to 1965 are not available. Cesium-bearing ore production data have been reported as “0” since 1965.'\n",
        "* Bromine:Production 'Production is defined as bromine data that are reported as sold or used by primary producers. All data are in terms of contained bromine. Data are reported in the MR, MYB, and the MCS. Data for 2007 to the most recent year are withheld to avoid disclosing company proprietary data.'\n",
        "* Barite:Production (sold or used) 'Production data are published for only 1927–67, therefore, crude barite (unmanufactured barite) sold or used data are used in place of production data for 1900 to the most recent year. Data are reported in the MR and the MYB. The significant drop in reported production from 1982 to 1983 resulted from a major slump in the oil drilling industry that reduced demand for drilling mud.'\n",
        "\n",
        "At this stage, the statements for each commodity and statistic are simple data notes that contain a mix of information and annotations about the particular time series of values. And in cases like Barite shown above, they include an explanation of a statistical phenomenon observed in the records.\n",
        "\n",
        "A couple of strategies could be explored for building sufficient intelligence into the property registry to support comparability between some commodity statistics.\n",
        "\n",
        "* Come to agreement on higher order common properties and move specific annotations of various types out into a different type of meta-content.\n",
        "* Keep each statistics property as completely independent but introduce another element into the model that indicates specific cases where two independent properties can be effectively analyzed together.\n",
        "\n",
        "Note: There seems to be a further issue in parsing some of the text from Word documents with features in what appear to be coming from templates that is not translating through into the programmatic way of reading the files. This will need to be resolved in some way with code or by cleaning up the source content."
      ]
    },
    {
      "cell_type": "code",
      "metadata": {
        "id": "_3bFxlTIbpxc",
        "outputId": "4f7cb58d-a8dc-4574-996a-52ccaf6a759e",
        "colab": {
          "base_uri": "https://localhost:8080/",
          "height": 1000,
          "referenced_widgets": [
            "5082e395e7934c0c9dce7bf031f9126f",
            "3cda44c02fe0461bb3921f66799ca435",
            "cfe3a9e7d5404df3985c44e5248f9ce7"
          ]
        }
      },
      "source": [
        "def get_registry_by_title(data):\n",
        "    reg_entry = next((i for i in dataset_registry if \"error\" not in i and i[\"title\"] == commodity_selector.value), None)\n",
        "    if reg_entry is not None:\n",
        "        print(reg_entry[\"title\"])\n",
        "        print(reg_entry[\"properties\"].keys())\n",
        "        print(\"==============\")\n",
        "        display(reg_entry)\n",
        "        print(\"+++++++++++++\")\n",
        "\n",
        "commodities_in_registry = [i[\"title\"] for i in dataset_registry if \"error\" not in i]\n",
        "commodity_selector = widgets.Dropdown(\n",
        "    options=commodities_in_registry,\n",
        "    value=commodities_in_registry[0],\n",
        "    description='Commodity',\n",
        "    disabled=False,\n",
        ")\n",
        "commodity_selector.observe(get_registry_by_title, names='value')\n",
        "display(commodity_selector)"
      ],
      "execution_count": 89,
      "outputs": [
        {
          "output_type": "display_data",
          "data": {
            "text/html": [
              "\n",
              "  <style>\n",
              "    pre {\n",
              "        white-space: pre-wrap;\n",
              "    }\n",
              "  </style>\n",
              "  "
            ],
            "text/plain": [
              "<IPython.core.display.HTML object>"
            ]
          },
          "metadata": {}
        },
        {
          "output_type": "display_data",
          "data": {
            "text/html": [
              "\n",
              "  <style>\n",
              "    pre {\n",
              "        white-space: pre-wrap;\n",
              "    }\n",
              "  </style>\n",
              "  "
            ],
            "text/plain": [
              "<IPython.core.display.HTML object>"
            ]
          },
          "metadata": {}
        },
        {
          "output_type": "display_data",
          "data": {
            "application/vnd.jupyter.widget-view+json": {
              "model_id": "5082e395e7934c0c9dce7bf031f9126f",
              "version_minor": 0,
              "version_major": 2
            },
            "text/plain": [
              "Dropdown(description='Commodity', options=('Bismuth', 'Coal Combustion Products', 'Cement', 'Cadmium', 'Cesium…"
            ]
          },
          "metadata": {}
        },
        {
          "output_type": "stream",
          "name": "stdout",
          "text": [
            "Cement\n",
            "dict_keys(['year', 'Production', 'Imports', 'Exports', 'Stocks', 'Apparent Consumption', 'Unit Value ($/t)', 'Unit Value (98$/t)', 'World Production'])\n",
            "==============\n"
          ]
        },
        {
          "output_type": "display_data",
          "data": {
            "text/plain": [
              "{'$id': 'emma_schemas:nmic:historic_commodity_stats:Cement',\n",
              " 'description': {'data_sources': 'The sources of data for the cement worksheet are the mineral statistics publications of the U.S. Bureau of Mines (USBM) and the U.S. Geological Survey—Minerals Yearbook (MYB) and its predecessor, Mineral Resources of the United States (MR). The years of publication and corresponding years of data coverage are listed in the References section below.',\n",
              "  'recommended_citation': 'U.S. Geological Survey, 2017, Cement statistics, in Kelly, T.D., and Matos, G.R., comps., Historical statistics for mineral and material commodities in the United States: U.S. Geological Survey Data Series 140, accessed [date], at http://minerals.usgs.gov/minerals/pubs/historical-statistics/.',\n",
              "  'references': ['U.S. Bureau of Mines, 1927–34, Mineral Resources of the United States, 1924–31.',\n",
              "   'U.S. Bureau of Mines, 1933–96, Minerals Yearbook, 1932–94.',\n",
              "   'U.S. Geological Survey, 1901–27, Mineral Resources of the United States, 1900–23.',\n",
              "   'U.S. Geological Survey, 1995–present, Minerals Yearbook, v. I. (Available via https://www.usgs.gov/centers/nmic/minerals-yearbook-metals-and-minerals).']},\n",
              " 'properties': {'Apparent Consumption': {'$id': 'emma_schemas:nmic:historic_commodity_stats:Cement:Apparent Consumption',\n",
              "   'default': '',\n",
              "   'description': ['Apparent consumption of hydraulic cement was from the MYB and the MR.'],\n",
              "   'examples': [],\n",
              "   'title': 'Apparent Consumption',\n",
              "   'type': 'string'},\n",
              "  'Exports': {'$id': 'emma_schemas:nmic:historic_commodity_stats:Cement:Exports',\n",
              "   'default': '',\n",
              "   'description': ['Export data include hydraulic cement and clinker. Data were from the MYB and the MR.'],\n",
              "   'examples': [],\n",
              "   'title': 'Exports',\n",
              "   'type': 'string'},\n",
              "  'Imports': {'$id': 'emma_schemas:nmic:historic_commodity_stats:Cement:Imports',\n",
              "   'default': '',\n",
              "   'description': ['Import data prior to 1950 are assumed to include clinker. Original footnotes indicate a change in USBM reporting methods for imports, beginning in 1954. Data do not allow calculation of clinker imports prior to 1950. Import data for hydraulic cement were from the published values in the MYB and the MR.'],\n",
              "   'examples': [],\n",
              "   'title': 'Imports',\n",
              "   'type': 'string'},\n",
              "  'Production': {'$id': 'emma_schemas:nmic:historic_commodity_stats:Cement:Production',\n",
              "   'default': '',\n",
              "   'description': ['Production data report the sum of portland (including blended), natural, masonry, and slag or pozzolanic cement (all hydraulic cement) as published in the MYB and the MR. Beginning in 1922, the term masonry cement was introduced as a category of hydraulic cement consisting of natural and pozzolanic cements as well as masonry cement to prevent the reporting of proprietary data. In recent decades, slag cement (ground granulated blast furnace slag) and other pozzolanic cements, except as included with blended (hence portland) cement, are excluded, as are natural cements (production is tiny), and aluminous cement.  Masonry cement is now a group of cements including true masonry cement, mortar cements, portland-lime cements, plastic cements, and certain stucco cements.'],\n",
              "   'examples': [],\n",
              "   'title': 'Production',\n",
              "   'type': 'string'},\n",
              "  'Stocks': {'$id': 'emma_schemas:nmic:historic_commodity_stats:Cement:Stocks',\n",
              "   'default': '',\n",
              "   'description': ['Yearend stocks of cement at mills and terminals were from the MYB and the MR. Stocks data were not available from 1900–10.'],\n",
              "   'examples': [],\n",
              "   'title': 'Stocks',\n",
              "   'type': 'string'},\n",
              "  'Unit Value ($/t)': {'$id': 'emma_schemas:nmic:historic_commodity_stats:Cement:Unit Value ($/t)',\n",
              "   'default': '',\n",
              "   'description': ['Unit value is defined as the value of 1 metric ton (t) of cement apparent consumption in current dollars. For 1900–44, unit value is estimated from the weighted-average production values of pozzolanic cement, natural cement, and portland cement. From 1945 to the most recent year, the reported bulk value at the mill is used to estimate unit value. The reported bulk value at the mill is a weighted-average value of all forms of portland cement and masonry cement. All values and prices were from the MYB and the MR.'],\n",
              "   'examples': [],\n",
              "   'title': 'Unit Value ($/t)',\n",
              "   'type': 'string'},\n",
              "  'Unit Value (98$/t)': {'$id': 'emma_schemas:nmic:historic_commodity_stats:Cement:Unit Value (98$/t)',\n",
              "   'default': '',\n",
              "   'description': ['The Consumer Price Index conversion factor, with 1998 as the base year, is used to adjust unit value in current U.S. dollars to the unit value in constant 1998 U.S. dollars.'],\n",
              "   'examples': [],\n",
              "   'title': 'Unit Value (98$/t)',\n",
              "   'type': 'string'},\n",
              "  'World Production': {'$id': 'emma_schemas:nmic:historic_commodity_stats:Cement:World Production',\n",
              "   'default': '',\n",
              "   'description': [],\n",
              "   'examples': [],\n",
              "   'title': 'World Production',\n",
              "   'type': 'string'},\n",
              "  'year': {'$id': 'emma_schemas:general:calendar_year',\n",
              "   'aliases': ['Year', 'year'],\n",
              "   'description': 'Integer year in a time series dataset or set of summary statistics calculated to a given calendar year.',\n",
              "   'examples': [1984],\n",
              "   'title': 'calendar_year',\n",
              "   'type': 'integer'}},\n",
              " 'required': ['year'],\n",
              " 'title': 'Cement'}"
            ]
          },
          "metadata": {}
        },
        {
          "output_type": "stream",
          "name": "stdout",
          "text": [
            "+++++++++++++\n"
          ]
        }
      ]
    },
    {
      "cell_type": "markdown",
      "metadata": {
        "id": "5G1cKHyqJW9e"
      },
      "source": [
        "# Examining a Single Commodity\n",
        "As a quick test of the entire process that bypasses the issue of comparability between statistics, we can look at a single commodity, lithium, which is a fairly simple case but represents part of the future state we are working to achieve with a morse flexible and transportable data structure that includes the supply-demand statistics themselves along with the essential documentation that needs to carry through into any future form of the data. In the following code blocks we run the processes to pull data and metadata for the particular file, dump those structures out to display, subset the data to years since 1981, and the plot import and export as simple time series.\n",
        "\n",
        "In this process, this is all done in real time from the DS140 web pages using the functions created here. This is a relatively small and straightforward dataset, and so the process of picking the data up from one form and getting them into another is simple and expedient. Toward a production capability, however, it would be useful to run a background process to simply get all of this work done in a process that can be set up to be responsive to new data being posted. As soon as a file is put into the cloud, a watching process is notified to kick off the series of steps needed to transform the data into our target structure."
      ]
    },
    {
      "cell_type": "code",
      "metadata": {
        "colab": {
          "base_uri": "https://localhost:8080/",
          "height": 1000
        },
        "id": "FoZwnMzirAOR",
        "outputId": "739abbf9-900d-419f-c079-254c2ae631ac"
      },
      "source": [
        "li_meta = next(i for i in property_registry if \"Commodity Group Title\" in i and i[\"Commodity Group Title\"] == \"Lithium\")\n",
        "print(li_meta[\"Commodity Group Title\"])\n",
        "print(li_meta[\"Recommended Citation\"])\n",
        "print(\"++++++++++\")\n",
        "for property in li_meta[\"Properties\"]:\n",
        "  print(property[\"property_name\"])\n",
        "  for statement in property[\"statements\"]:\n",
        "    print(statement)\n",
        "  print(\"==========\")\n"
      ],
      "execution_count": null,
      "outputs": [
        {
          "output_type": "display_data",
          "data": {
            "text/html": [
              "\n",
              "  <style>\n",
              "    pre {\n",
              "        white-space: pre-wrap;\n",
              "    }\n",
              "  </style>\n",
              "  "
            ],
            "text/plain": [
              "<IPython.core.display.HTML object>"
            ]
          },
          "metadata": {
            "tags": []
          }
        },
        {
          "output_type": "stream",
          "text": [
            "Lithium\n",
            "U.S. Geological Survey, 2014, Lithium statistics, in Kelly, T.D., and Matos, G.R., comps., Historical statistics for mineral and material commodities in the United States: U.S. Geological Survey Data Series 140, accessed [date], at http://minerals.usgs.gov/minerals/pubs/historical-statistics/.\n",
            "++++++++++\n",
            "Production\n",
            "Production data for lithium refers to lithium contained in material produced or shipped from mines and brine operations in the . Production data for 1940–54 include both gross tons of lithium minerals and compound production and Li2O content of these products. Li2O contains 46.46 percent lithium; this information was used to determine lithium content for those years. Because production data for 1940–54 included dilithium sodium phosphate, the average lithium content of domestic production varied from 2.50 percent to 5.20 percent for the period. Most lithium ores average about 2.00 percent and, and dilithium sodium phosphate contains about 10.5 percent lithium.\n",
            "Prior to 1940, the quantities of different lithium-bearing materials were not specified so that assumptions were made to estimate lithium content. Dilithium sodium phosphate was produced during 1938–78, so adjustments were made for 1938 and 1939. Lithium content was estimated as 2.50 percent for 1939 and 2.00 percent for 1938. Production data from 1900 through 1954 were taken from U.S. Bureau of Mines Information Circular 8053 (Schreck, 1961). For 1929, 1931, 1932, and 1955 to the most recent year, production data were withheld to avoid disclosure of individual company confidential data.\n",
            "==========\n",
            "Imports\n",
            "Import data for 1960–70 are from the MCS, while import data for 1971 to the most recent year are from the Salient Statistics table in the MYB. All import data are in contained lithium. Most imports for 1960–88 were mineral concentrates used in ceramics and glass not used to produce lithium compounds. In addition, during this period, the compounds reported as imports varied from year to year. Often the designations were nonspecific, such as compounds, salts, and/or organic salts making the reported lithium contents questionable.  When the U.S. Census Bureau (USCB) began using the Harmonized Tariff Schedule in 1989, lithium carbonate and lithium hydroxide imports were specified. Unfortunately, other categories of lithium compounds were combined in nonspecific categories. Since 1989, imports of lithium ores and ore concentrates have not been reported by USCB, although the  remains a major importer of these materials. Lithium metal imports became unavailable also. For these reasons, a large percentage of lithium imports go unreported. Import data are not available for 1900–59.\n",
            "==========\n",
            "Exports\n",
            "All export data are in contained lithium. For 1971–81, USCB reported exports of lithium hydroxide only. Data for other compounds were estimated with reported imports by other countries of  lithium compounds. However, the lithium hydroxide data were significantly lower than the reported lithium hydroxide imports of the other countries listed. For 1982–88, USCB reported exports of lithium carbonate, lithium hydroxide, and other lithium compounds. Data are from the Salient Statistics table in the MYB. Export data are not available for 1900–70.\n",
            "==========\n",
            "Apparent Consumption\n",
            "Consumption data are in contained lithium. Production data were used to estimate consumption from 1900–54, since import and export data were not available. Apparent consumption data for 1929, 1931, and 1932 were interpolated since data for these years were not available. From 1955–70, consumption was interpolated. Consumption data for 1971 to the most recent year were taken from the Salient Statistics table in the MYB where the data are reported as estimated consumption.\n",
            "==========\n",
            "Unit Value ($/t)\n",
            "Unit value is the value of 1 metric ton (t) of lithium apparent consumption. The price series for lithium carbonate was used to estimate unit value for lithium. Lithium carbonate is a good estimator of unit value due to the large quantity and importance of this compound compared to other lithium compounds. Data prior to 2001 is a continuation of the published price series ($/kilogram) converted to $/t, for lithium carbonate provided by the USGS lithium commodity specialist. Since 2001, unit value has been based on the average USCB import price data available in the “Prices” section of the MYB.\n",
            "==========\n",
            "Unit Value (98$/t)\n",
            "The Consumer Price Index conversion factor, with 1998 as the base year, was used to adjust the unit value in current U.S. dollars to unit value in constant 1998 U.S. dollars.\n",
            "==========\n",
            "World Production\n",
            "World production data are in metric tons of gross product of lithium minerals and brine. Since 1967, lithium production was reported as ore and ore concentrates from mines and lithium carbonate from brine deposits. World production data for 1966–67 do not include data from  () and some other African countries.  was by far the largest producer at the time. After 1954, world production does not include  production. Data were not available for 1900–24.\n",
            "==========\n"
          ],
          "name": "stdout"
        }
      ]
    },
    {
      "cell_type": "markdown",
      "metadata": {
        "id": "9WlZZUNKxWtk"
      },
      "source": [
        "In this codeblock, we use out function to extract the data from the particular spreadsheet source for the commodity we are interested in and put that (fundamentally) JSON data structure into a Pandas dataframe for ease of use as a table."
      ]
    },
    {
      "cell_type": "code",
      "metadata": {
        "colab": {
          "base_uri": "https://localhost:8080/",
          "height": 419
        },
        "id": "6wtJL27GuB6i",
        "outputId": "11391c60-431f-4e3f-cf1d-7246066c8ad2"
      },
      "source": [
        "li_data = extract_ds140_data(li_meta[\"DS140 Source URL\"])\n",
        "df_li_data = pd.DataFrame(li_data[0][\"data\"])\n",
        "df_li_data"
      ],
      "execution_count": null,
      "outputs": [
        {
          "output_type": "display_data",
          "data": {
            "text/html": [
              "\n",
              "  <style>\n",
              "    pre {\n",
              "        white-space: pre-wrap;\n",
              "    }\n",
              "  </style>\n",
              "  "
            ],
            "text/plain": [
              "<IPython.core.display.HTML object>"
            ]
          },
          "metadata": {
            "tags": []
          }
        },
        {
          "output_type": "execute_result",
          "data": {
            "text/html": [
              "<div>\n",
              "<style scoped>\n",
              "    .dataframe tbody tr th:only-of-type {\n",
              "        vertical-align: middle;\n",
              "    }\n",
              "\n",
              "    .dataframe tbody tr th {\n",
              "        vertical-align: top;\n",
              "    }\n",
              "\n",
              "    .dataframe thead th {\n",
              "        text-align: right;\n",
              "    }\n",
              "</style>\n",
              "<table border=\"1\" class=\"dataframe\">\n",
              "  <thead>\n",
              "    <tr style=\"text-align: right;\">\n",
              "      <th></th>\n",
              "      <th>Year</th>\n",
              "      <th>Production</th>\n",
              "      <th>Imports</th>\n",
              "      <th>Exports</th>\n",
              "      <th>Estimated consumption</th>\n",
              "      <th>Unit value ($/t)</th>\n",
              "      <th>Unit value (98$/t)</th>\n",
              "      <th>World production (gross weight)</th>\n",
              "    </tr>\n",
              "  </thead>\n",
              "  <tbody>\n",
              "    <tr>\n",
              "      <th>0</th>\n",
              "      <td>1900</td>\n",
              "      <td>10.4</td>\n",
              "      <td>NaN</td>\n",
              "      <td>NaN</td>\n",
              "      <td>10.4</td>\n",
              "      <td>NaN</td>\n",
              "      <td>NaN</td>\n",
              "      <td>NaN</td>\n",
              "    </tr>\n",
              "    <tr>\n",
              "      <th>1</th>\n",
              "      <td>1901</td>\n",
              "      <td>35</td>\n",
              "      <td>NaN</td>\n",
              "      <td>NaN</td>\n",
              "      <td>35.0</td>\n",
              "      <td>NaN</td>\n",
              "      <td>NaN</td>\n",
              "      <td>NaN</td>\n",
              "    </tr>\n",
              "    <tr>\n",
              "      <th>2</th>\n",
              "      <td>1902</td>\n",
              "      <td>24.9</td>\n",
              "      <td>NaN</td>\n",
              "      <td>NaN</td>\n",
              "      <td>24.9</td>\n",
              "      <td>NaN</td>\n",
              "      <td>NaN</td>\n",
              "      <td>NaN</td>\n",
              "    </tr>\n",
              "    <tr>\n",
              "      <th>3</th>\n",
              "      <td>1903</td>\n",
              "      <td>23.1</td>\n",
              "      <td>NaN</td>\n",
              "      <td>NaN</td>\n",
              "      <td>23.1</td>\n",
              "      <td>NaN</td>\n",
              "      <td>NaN</td>\n",
              "      <td>NaN</td>\n",
              "    </tr>\n",
              "    <tr>\n",
              "      <th>4</th>\n",
              "      <td>1904</td>\n",
              "      <td>11.5</td>\n",
              "      <td>NaN</td>\n",
              "      <td>NaN</td>\n",
              "      <td>11.5</td>\n",
              "      <td>NaN</td>\n",
              "      <td>NaN</td>\n",
              "      <td>NaN</td>\n",
              "    </tr>\n",
              "    <tr>\n",
              "      <th>...</th>\n",
              "      <td>...</td>\n",
              "      <td>...</td>\n",
              "      <td>...</td>\n",
              "      <td>...</td>\n",
              "      <td>...</td>\n",
              "      <td>...</td>\n",
              "      <td>...</td>\n",
              "      <td>...</td>\n",
              "    </tr>\n",
              "    <tr>\n",
              "      <th>113</th>\n",
              "      <td>2013</td>\n",
              "      <td>870</td>\n",
              "      <td>2210.0</td>\n",
              "      <td>1230.0</td>\n",
              "      <td>1800.0</td>\n",
              "      <td>4390.0</td>\n",
              "      <td>3070.0</td>\n",
              "      <td>582000.0</td>\n",
              "    </tr>\n",
              "    <tr>\n",
              "      <th>114</th>\n",
              "      <td>2014</td>\n",
              "      <td>W</td>\n",
              "      <td>2130.0</td>\n",
              "      <td>1420.0</td>\n",
              "      <td>2000.0</td>\n",
              "      <td>4510.0</td>\n",
              "      <td>3110.0</td>\n",
              "      <td>621000.0</td>\n",
              "    </tr>\n",
              "    <tr>\n",
              "      <th>115</th>\n",
              "      <td>2015</td>\n",
              "      <td>W</td>\n",
              "      <td>2750.0</td>\n",
              "      <td>1790.0</td>\n",
              "      <td>2000.0</td>\n",
              "      <td>4540.0</td>\n",
              "      <td>3120.0</td>\n",
              "      <td>611000.0</td>\n",
              "    </tr>\n",
              "    <tr>\n",
              "      <th>116</th>\n",
              "      <td>2016</td>\n",
              "      <td>W</td>\n",
              "      <td>3140.0</td>\n",
              "      <td>1520.0</td>\n",
              "      <td>3000.0</td>\n",
              "      <td>4920.0</td>\n",
              "      <td>3340.0</td>\n",
              "      <td>657000.0</td>\n",
              "    </tr>\n",
              "    <tr>\n",
              "      <th>117</th>\n",
              "      <td>2017</td>\n",
              "      <td>W</td>\n",
              "      <td>3330.0</td>\n",
              "      <td>1960.0</td>\n",
              "      <td>3000.0</td>\n",
              "      <td>4900.0</td>\n",
              "      <td>3260.0</td>\n",
              "      <td>1929000.0</td>\n",
              "    </tr>\n",
              "  </tbody>\n",
              "</table>\n",
              "<p>118 rows × 8 columns</p>\n",
              "</div>"
            ],
            "text/plain": [
              "     Year Production  ...  Unit value (98$/t)  World production (gross weight)\n",
              "0    1900       10.4  ...                 NaN                              NaN\n",
              "1    1901         35  ...                 NaN                              NaN\n",
              "2    1902       24.9  ...                 NaN                              NaN\n",
              "3    1903       23.1  ...                 NaN                              NaN\n",
              "4    1904       11.5  ...                 NaN                              NaN\n",
              "..    ...        ...  ...                 ...                              ...\n",
              "113  2013        870  ...              3070.0                         582000.0\n",
              "114  2014          W  ...              3110.0                         621000.0\n",
              "115  2015          W  ...              3120.0                         611000.0\n",
              "116  2016          W  ...              3340.0                         657000.0\n",
              "117  2017          W  ...              3260.0                        1929000.0\n",
              "\n",
              "[118 rows x 8 columns]"
            ]
          },
          "metadata": {
            "tags": []
          },
          "execution_count": 10
        }
      ]
    },
    {
      "cell_type": "markdown",
      "metadata": {
        "id": "dh8mDWt0xq4y"
      },
      "source": [
        "With data in a dataframe, we can query on data in a variety of ways. We can query the data in a variety of ways such as only pulling stats since 1981."
      ]
    },
    {
      "cell_type": "code",
      "metadata": {
        "colab": {
          "base_uri": "https://localhost:8080/",
          "height": 1000
        },
        "id": "VWjyjvpsvVh3",
        "outputId": "1ef33fb3-a703-4aa0-fbf9-b956a46a1630"
      },
      "source": [
        "df_li_data.loc[df_li_data[\"Year\"] > 1981]"
      ],
      "execution_count": null,
      "outputs": [
        {
          "output_type": "display_data",
          "data": {
            "text/html": [
              "\n",
              "  <style>\n",
              "    pre {\n",
              "        white-space: pre-wrap;\n",
              "    }\n",
              "  </style>\n",
              "  "
            ],
            "text/plain": [
              "<IPython.core.display.HTML object>"
            ]
          },
          "metadata": {
            "tags": []
          }
        },
        {
          "output_type": "execute_result",
          "data": {
            "text/html": [
              "<div>\n",
              "<style scoped>\n",
              "    .dataframe tbody tr th:only-of-type {\n",
              "        vertical-align: middle;\n",
              "    }\n",
              "\n",
              "    .dataframe tbody tr th {\n",
              "        vertical-align: top;\n",
              "    }\n",
              "\n",
              "    .dataframe thead th {\n",
              "        text-align: right;\n",
              "    }\n",
              "</style>\n",
              "<table border=\"1\" class=\"dataframe\">\n",
              "  <thead>\n",
              "    <tr style=\"text-align: right;\">\n",
              "      <th></th>\n",
              "      <th>Year</th>\n",
              "      <th>Production</th>\n",
              "      <th>Imports</th>\n",
              "      <th>Exports</th>\n",
              "      <th>Estimated consumption</th>\n",
              "      <th>Unit value ($/t)</th>\n",
              "      <th>Unit value (98$/t)</th>\n",
              "      <th>World production (gross weight)</th>\n",
              "    </tr>\n",
              "  </thead>\n",
              "  <tbody>\n",
              "    <tr>\n",
              "      <th>82</th>\n",
              "      <td>1982</td>\n",
              "      <td>W</td>\n",
              "      <td>27.2</td>\n",
              "      <td>2090.0</td>\n",
              "      <td>1810.0</td>\n",
              "      <td>3110.0</td>\n",
              "      <td>5250.0</td>\n",
              "      <td>83600.0</td>\n",
              "    </tr>\n",
              "    <tr>\n",
              "      <th>83</th>\n",
              "      <td>1983</td>\n",
              "      <td>W</td>\n",
              "      <td>31.8</td>\n",
              "      <td>2360.0</td>\n",
              "      <td>2000.0</td>\n",
              "      <td>3260.0</td>\n",
              "      <td>5340.0</td>\n",
              "      <td>93700.0</td>\n",
              "    </tr>\n",
              "    <tr>\n",
              "      <th>84</th>\n",
              "      <td>1984</td>\n",
              "      <td>W</td>\n",
              "      <td>81.6</td>\n",
              "      <td>2630.0</td>\n",
              "      <td>2900.0</td>\n",
              "      <td>3400.0</td>\n",
              "      <td>5340.0</td>\n",
              "      <td>108000.0</td>\n",
              "    </tr>\n",
              "    <tr>\n",
              "      <th>85</th>\n",
              "      <td>1985</td>\n",
              "      <td>W</td>\n",
              "      <td>370.0</td>\n",
              "      <td>2300.0</td>\n",
              "      <td>2300.0</td>\n",
              "      <td>3310.0</td>\n",
              "      <td>5020.0</td>\n",
              "      <td>122000.0</td>\n",
              "    </tr>\n",
              "    <tr>\n",
              "      <th>86</th>\n",
              "      <td>1986</td>\n",
              "      <td>W</td>\n",
              "      <td>610.0</td>\n",
              "      <td>1800.0</td>\n",
              "      <td>2400.0</td>\n",
              "      <td>3310.0</td>\n",
              "      <td>4920.0</td>\n",
              "      <td>132000.0</td>\n",
              "    </tr>\n",
              "    <tr>\n",
              "      <th>87</th>\n",
              "      <td>1987</td>\n",
              "      <td>W</td>\n",
              "      <td>820.0</td>\n",
              "      <td>1800.0</td>\n",
              "      <td>2400.0</td>\n",
              "      <td>3420.0</td>\n",
              "      <td>4910.0</td>\n",
              "      <td>139000.0</td>\n",
              "    </tr>\n",
              "    <tr>\n",
              "      <th>88</th>\n",
              "      <td>1988</td>\n",
              "      <td>W</td>\n",
              "      <td>1000.0</td>\n",
              "      <td>2300.0</td>\n",
              "      <td>2700.0</td>\n",
              "      <td>3590.0</td>\n",
              "      <td>4950.0</td>\n",
              "      <td>154000.0</td>\n",
              "    </tr>\n",
              "    <tr>\n",
              "      <th>89</th>\n",
              "      <td>1989</td>\n",
              "      <td>W</td>\n",
              "      <td>630.0</td>\n",
              "      <td>2600.0</td>\n",
              "      <td>2700.0</td>\n",
              "      <td>3810.0</td>\n",
              "      <td>5010.0</td>\n",
              "      <td>173000.0</td>\n",
              "    </tr>\n",
              "    <tr>\n",
              "      <th>90</th>\n",
              "      <td>1990</td>\n",
              "      <td>W</td>\n",
              "      <td>790.0</td>\n",
              "      <td>2600.0</td>\n",
              "      <td>2700.0</td>\n",
              "      <td>4030.0</td>\n",
              "      <td>5030.0</td>\n",
              "      <td>163000.0</td>\n",
              "    </tr>\n",
              "    <tr>\n",
              "      <th>91</th>\n",
              "      <td>1991</td>\n",
              "      <td>W</td>\n",
              "      <td>590.0</td>\n",
              "      <td>2400.0</td>\n",
              "      <td>2600.0</td>\n",
              "      <td>4210.0</td>\n",
              "      <td>5040.0</td>\n",
              "      <td>149000.0</td>\n",
              "    </tr>\n",
              "    <tr>\n",
              "      <th>92</th>\n",
              "      <td>1992</td>\n",
              "      <td>W</td>\n",
              "      <td>770.0</td>\n",
              "      <td>2100.0</td>\n",
              "      <td>2300.0</td>\n",
              "      <td>4320.0</td>\n",
              "      <td>5020.0</td>\n",
              "      <td>156000.0</td>\n",
              "    </tr>\n",
              "    <tr>\n",
              "      <th>93</th>\n",
              "      <td>1993</td>\n",
              "      <td>W</td>\n",
              "      <td>810.0</td>\n",
              "      <td>1700.0</td>\n",
              "      <td>2300.0</td>\n",
              "      <td>4210.0</td>\n",
              "      <td>4750.0</td>\n",
              "      <td>127000.0</td>\n",
              "    </tr>\n",
              "    <tr>\n",
              "      <th>94</th>\n",
              "      <td>1994</td>\n",
              "      <td>W</td>\n",
              "      <td>851.0</td>\n",
              "      <td>1700.0</td>\n",
              "      <td>2500.0</td>\n",
              "      <td>4410.0</td>\n",
              "      <td>4850.0</td>\n",
              "      <td>128000.0</td>\n",
              "    </tr>\n",
              "    <tr>\n",
              "      <th>95</th>\n",
              "      <td>1995</td>\n",
              "      <td>W</td>\n",
              "      <td>2640.0</td>\n",
              "      <td>1900.0</td>\n",
              "      <td>2600.0</td>\n",
              "      <td>4340.0</td>\n",
              "      <td>4640.0</td>\n",
              "      <td>177000.0</td>\n",
              "    </tr>\n",
              "    <tr>\n",
              "      <th>96</th>\n",
              "      <td>1996</td>\n",
              "      <td>W</td>\n",
              "      <td>884.0</td>\n",
              "      <td>2200.0</td>\n",
              "      <td>2700.0</td>\n",
              "      <td>4340.0</td>\n",
              "      <td>4510.0</td>\n",
              "      <td>214000.0</td>\n",
              "    </tr>\n",
              "    <tr>\n",
              "      <th>97</th>\n",
              "      <td>1997</td>\n",
              "      <td>W</td>\n",
              "      <td>975.0</td>\n",
              "      <td>1880.0</td>\n",
              "      <td>2800.0</td>\n",
              "      <td>4480.0</td>\n",
              "      <td>4550.0</td>\n",
              "      <td>213000.0</td>\n",
              "    </tr>\n",
              "    <tr>\n",
              "      <th>98</th>\n",
              "      <td>1998</td>\n",
              "      <td>W</td>\n",
              "      <td>2590.0</td>\n",
              "      <td>1340.0</td>\n",
              "      <td>2800.0</td>\n",
              "      <td>4480.0</td>\n",
              "      <td>4480.0</td>\n",
              "      <td>178000.0</td>\n",
              "    </tr>\n",
              "    <tr>\n",
              "      <th>99</th>\n",
              "      <td>1999</td>\n",
              "      <td>W</td>\n",
              "      <td>2640.0</td>\n",
              "      <td>1330.0</td>\n",
              "      <td>2800.0</td>\n",
              "      <td>4470.0</td>\n",
              "      <td>4360.0</td>\n",
              "      <td>188000.0</td>\n",
              "    </tr>\n",
              "    <tr>\n",
              "      <th>100</th>\n",
              "      <td>2000</td>\n",
              "      <td>W</td>\n",
              "      <td>2880.0</td>\n",
              "      <td>1310.0</td>\n",
              "      <td>2800.0</td>\n",
              "      <td>4470.0</td>\n",
              "      <td>4230.0</td>\n",
              "      <td>204000.0</td>\n",
              "    </tr>\n",
              "    <tr>\n",
              "      <th>101</th>\n",
              "      <td>2001</td>\n",
              "      <td>W</td>\n",
              "      <td>1990.0</td>\n",
              "      <td>1480.0</td>\n",
              "      <td>1400.0</td>\n",
              "      <td>1490.0</td>\n",
              "      <td>1370.0</td>\n",
              "      <td>210000.0</td>\n",
              "    </tr>\n",
              "    <tr>\n",
              "      <th>102</th>\n",
              "      <td>2002</td>\n",
              "      <td>W</td>\n",
              "      <td>1920.0</td>\n",
              "      <td>1620.0</td>\n",
              "      <td>1100.0</td>\n",
              "      <td>1590.0</td>\n",
              "      <td>1440.0</td>\n",
              "      <td>217000.0</td>\n",
              "    </tr>\n",
              "    <tr>\n",
              "      <th>103</th>\n",
              "      <td>2003</td>\n",
              "      <td>W</td>\n",
              "      <td>2200.0</td>\n",
              "      <td>1520.0</td>\n",
              "      <td>1400.0</td>\n",
              "      <td>1550.0</td>\n",
              "      <td>1370.0</td>\n",
              "      <td>256000.0</td>\n",
              "    </tr>\n",
              "    <tr>\n",
              "      <th>104</th>\n",
              "      <td>2004</td>\n",
              "      <td>W</td>\n",
              "      <td>2910.0</td>\n",
              "      <td>1690.0</td>\n",
              "      <td>1900.0</td>\n",
              "      <td>1720.0</td>\n",
              "      <td>1480.0</td>\n",
              "      <td>261000.0</td>\n",
              "    </tr>\n",
              "    <tr>\n",
              "      <th>105</th>\n",
              "      <td>2005</td>\n",
              "      <td>W</td>\n",
              "      <td>3580.0</td>\n",
              "      <td>1720.0</td>\n",
              "      <td>2500.0</td>\n",
              "      <td>1460.0</td>\n",
              "      <td>1220.0</td>\n",
              "      <td>342000.0</td>\n",
              "    </tr>\n",
              "    <tr>\n",
              "      <th>106</th>\n",
              "      <td>2006</td>\n",
              "      <td>W</td>\n",
              "      <td>3260.0</td>\n",
              "      <td>1500.0</td>\n",
              "      <td>2500.0</td>\n",
              "      <td>2320.0</td>\n",
              "      <td>1880.0</td>\n",
              "      <td>392000.0</td>\n",
              "    </tr>\n",
              "    <tr>\n",
              "      <th>107</th>\n",
              "      <td>2007</td>\n",
              "      <td>W</td>\n",
              "      <td>3140.0</td>\n",
              "      <td>1440.0</td>\n",
              "      <td>2400.0</td>\n",
              "      <td>3530.0</td>\n",
              "      <td>2770.0</td>\n",
              "      <td>378000.0</td>\n",
              "    </tr>\n",
              "    <tr>\n",
              "      <th>108</th>\n",
              "      <td>2008</td>\n",
              "      <td>W</td>\n",
              "      <td>3160.0</td>\n",
              "      <td>1450.0</td>\n",
              "      <td>2300.0</td>\n",
              "      <td>4440.0</td>\n",
              "      <td>3360.0</td>\n",
              "      <td>449000.0</td>\n",
              "    </tr>\n",
              "    <tr>\n",
              "      <th>109</th>\n",
              "      <td>2009</td>\n",
              "      <td>W</td>\n",
              "      <td>1890.0</td>\n",
              "      <td>919.0</td>\n",
              "      <td>1300.0</td>\n",
              "      <td>4530.0</td>\n",
              "      <td>3440.0</td>\n",
              "      <td>366000.0</td>\n",
              "    </tr>\n",
              "    <tr>\n",
              "      <th>110</th>\n",
              "      <td>2010</td>\n",
              "      <td>W</td>\n",
              "      <td>1960.0</td>\n",
              "      <td>1410.0</td>\n",
              "      <td>1100.0</td>\n",
              "      <td>4350.0</td>\n",
              "      <td>3250.0</td>\n",
              "      <td>481000.0</td>\n",
              "    </tr>\n",
              "    <tr>\n",
              "      <th>111</th>\n",
              "      <td>2011</td>\n",
              "      <td>W</td>\n",
              "      <td>2850.0</td>\n",
              "      <td>1310.0</td>\n",
              "      <td>2000.0</td>\n",
              "      <td>3870.0</td>\n",
              "      <td>2800.0</td>\n",
              "      <td>610000.0</td>\n",
              "    </tr>\n",
              "    <tr>\n",
              "      <th>112</th>\n",
              "      <td>2012</td>\n",
              "      <td>W</td>\n",
              "      <td>2760.0</td>\n",
              "      <td>1300.0</td>\n",
              "      <td>2000.0</td>\n",
              "      <td>4220.0</td>\n",
              "      <td>3000.0</td>\n",
              "      <td>634000.0</td>\n",
              "    </tr>\n",
              "    <tr>\n",
              "      <th>113</th>\n",
              "      <td>2013</td>\n",
              "      <td>870</td>\n",
              "      <td>2210.0</td>\n",
              "      <td>1230.0</td>\n",
              "      <td>1800.0</td>\n",
              "      <td>4390.0</td>\n",
              "      <td>3070.0</td>\n",
              "      <td>582000.0</td>\n",
              "    </tr>\n",
              "    <tr>\n",
              "      <th>114</th>\n",
              "      <td>2014</td>\n",
              "      <td>W</td>\n",
              "      <td>2130.0</td>\n",
              "      <td>1420.0</td>\n",
              "      <td>2000.0</td>\n",
              "      <td>4510.0</td>\n",
              "      <td>3110.0</td>\n",
              "      <td>621000.0</td>\n",
              "    </tr>\n",
              "    <tr>\n",
              "      <th>115</th>\n",
              "      <td>2015</td>\n",
              "      <td>W</td>\n",
              "      <td>2750.0</td>\n",
              "      <td>1790.0</td>\n",
              "      <td>2000.0</td>\n",
              "      <td>4540.0</td>\n",
              "      <td>3120.0</td>\n",
              "      <td>611000.0</td>\n",
              "    </tr>\n",
              "    <tr>\n",
              "      <th>116</th>\n",
              "      <td>2016</td>\n",
              "      <td>W</td>\n",
              "      <td>3140.0</td>\n",
              "      <td>1520.0</td>\n",
              "      <td>3000.0</td>\n",
              "      <td>4920.0</td>\n",
              "      <td>3340.0</td>\n",
              "      <td>657000.0</td>\n",
              "    </tr>\n",
              "    <tr>\n",
              "      <th>117</th>\n",
              "      <td>2017</td>\n",
              "      <td>W</td>\n",
              "      <td>3330.0</td>\n",
              "      <td>1960.0</td>\n",
              "      <td>3000.0</td>\n",
              "      <td>4900.0</td>\n",
              "      <td>3260.0</td>\n",
              "      <td>1929000.0</td>\n",
              "    </tr>\n",
              "  </tbody>\n",
              "</table>\n",
              "</div>"
            ],
            "text/plain": [
              "     Year Production  ...  Unit value (98$/t)  World production (gross weight)\n",
              "82   1982          W  ...              5250.0                          83600.0\n",
              "83   1983          W  ...              5340.0                          93700.0\n",
              "84   1984          W  ...              5340.0                         108000.0\n",
              "85   1985          W  ...              5020.0                         122000.0\n",
              "86   1986          W  ...              4920.0                         132000.0\n",
              "87   1987          W  ...              4910.0                         139000.0\n",
              "88   1988          W  ...              4950.0                         154000.0\n",
              "89   1989          W  ...              5010.0                         173000.0\n",
              "90   1990          W  ...              5030.0                         163000.0\n",
              "91   1991          W  ...              5040.0                         149000.0\n",
              "92   1992          W  ...              5020.0                         156000.0\n",
              "93   1993          W  ...              4750.0                         127000.0\n",
              "94   1994          W  ...              4850.0                         128000.0\n",
              "95   1995          W  ...              4640.0                         177000.0\n",
              "96   1996          W  ...              4510.0                         214000.0\n",
              "97   1997          W  ...              4550.0                         213000.0\n",
              "98   1998          W  ...              4480.0                         178000.0\n",
              "99   1999          W  ...              4360.0                         188000.0\n",
              "100  2000          W  ...              4230.0                         204000.0\n",
              "101  2001          W  ...              1370.0                         210000.0\n",
              "102  2002          W  ...              1440.0                         217000.0\n",
              "103  2003          W  ...              1370.0                         256000.0\n",
              "104  2004          W  ...              1480.0                         261000.0\n",
              "105  2005          W  ...              1220.0                         342000.0\n",
              "106  2006          W  ...              1880.0                         392000.0\n",
              "107  2007          W  ...              2770.0                         378000.0\n",
              "108  2008          W  ...              3360.0                         449000.0\n",
              "109  2009          W  ...              3440.0                         366000.0\n",
              "110  2010          W  ...              3250.0                         481000.0\n",
              "111  2011          W  ...              2800.0                         610000.0\n",
              "112  2012          W  ...              3000.0                         634000.0\n",
              "113  2013        870  ...              3070.0                         582000.0\n",
              "114  2014          W  ...              3110.0                         621000.0\n",
              "115  2015          W  ...              3120.0                         611000.0\n",
              "116  2016          W  ...              3340.0                         657000.0\n",
              "117  2017          W  ...              3260.0                        1929000.0\n",
              "\n",
              "[36 rows x 8 columns]"
            ]
          },
          "metadata": {
            "tags": []
          },
          "execution_count": 11
        }
      ]
    },
    {
      "cell_type": "markdown",
      "metadata": {
        "id": "L8CNCHsSx-MK"
      },
      "source": [
        "In this codeblock, we take our stats for lithium and plot a couple of lines showing import and export stats for our subset of records. A future application of some kind could produce any number of meaningful visual aids in exploring the data further once brought together into a standard data structure."
      ]
    },
    {
      "cell_type": "code",
      "metadata": {
        "colab": {
          "base_uri": "https://localhost:8080/",
          "height": 411
        },
        "id": "JlC2FZCxvLd4",
        "outputId": "75174e58-630e-462c-ed11-4cb164d9e7b1"
      },
      "source": [
        "plt.rc('font', size=12)\n",
        "fig, ax = plt.subplots(figsize=(10, 6))\n",
        "\n",
        "ax.plot(df_li_data.loc[df_li_data[\"Year\"] > 1981][\"Year\"], df_li_data.loc[df_li_data[\"Year\"] > 1981][\"Imports\"], color='tab:green', label='Li Imports')\n",
        "ax.plot(df_li_data.loc[df_li_data[\"Year\"] > 1981][\"Year\"], df_li_data.loc[df_li_data[\"Year\"] > 1981][\"Exports\"], color='tab:orange', label='Li Exports')\n",
        "\n",
        "ax.set_xlabel('Year')\n",
        "ax.set_ylabel('Imports/Exports (metric tons)')\n",
        "ax.set_title('Lithium Annual Statistics')\n",
        "ax.grid(True)\n",
        "ax.legend(loc='upper left');"
      ],
      "execution_count": null,
      "outputs": [
        {
          "output_type": "display_data",
          "data": {
            "text/html": [
              "\n",
              "  <style>\n",
              "    pre {\n",
              "        white-space: pre-wrap;\n",
              "    }\n",
              "  </style>\n",
              "  "
            ],
            "text/plain": [
              "<IPython.core.display.HTML object>"
            ]
          },
          "metadata": {
            "tags": []
          }
        },
        {
          "output_type": "display_data",
          "data": {
            "image/png": "[encoded data removed]",
            "text/plain": [
              "<Figure size 720x432 with 1 Axes>"
            ]
          },
          "metadata": {
            "tags": [],
            "needs_background": "light"
          }
        }
      ]
    }
  ]
}