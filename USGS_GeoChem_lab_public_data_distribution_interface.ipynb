{
  "nbformat": 4,
  "nbformat_minor": 0,
  "metadata": {
    "colab": {
      "name": "USGS GeoChem lab public data distribution interface.ipynb",
      "provenance": [],
      "collapsed_sections": [],
      "authorship_tag": "ABX9TyP0MAVpfBfUZB9PMzuZCV2g",
      "include_colab_link": true
    },
    "kernelspec": {
      "name": "python3",
      "display_name": "Python 3"
    },
    "language_info": {
      "name": "python"
    }
  },
  "cells": [
    {
      "cell_type": "markdown",
      "metadata": {
        "id": "view-in-github",
        "colab_type": "text"
      },
      "source": [
        "<a href=\"https://colab.research.google.com/github/skybristol/experiments/blob/dev/USGS_GeoChem_lab_public_data_distribution_interface.ipynb\" target=\"_parent\"><img src=\"https://colab.research.google.com/assets/colab-badge.svg\" alt=\"Open In Colab\"/></a>"
      ]
    },
    {
      "cell_type": "markdown",
      "metadata": {
        "id": "fsCHQucOmBqi"
      },
      "source": [
        "# Project Prospectus\n",
        "Exploring methods and techniques for interfacing with geochemistry Laboratory Information Management Systems to streamline published data distribution processing\n",
        "\n",
        "# Background and Goal\n",
        "The USGS Energy and Minerals Mission area supports and operates both the [Petroleum Geochemistry Research Laboratory](https://www.usgs.gov/centers/cersc/labs/petroleum-geochemistry-research-laboratory) and the Analytical Geochemistry Laboratory. Both of these facilities have different internal management systems and processes in place for conducting operations, managing samples and analytical results, and producing the data that are intended for publishing. While those internal systems also need some attention and major modernization in at least one case, there is an opportunity to combine forces and advance some new thinking in the public data distribution part of the overall system. This project is intended to help introduce some new thinking into how the distribution end of the process might work, putting some cloud-based components in place to provide new data capabilities and demonstrate some architectural patterns useful in this case and others throughout the Mission Area.\n",
        "\n",
        "# Approach\n",
        "The project will pursue several components as part of the overall cyberinfrastructure between the two internal LIMS and a public-facing interface. We will focus entirely on data that are already or can be made publicly available. The project will produce what will essentially be middleware that will not seek to replace but rather augment and streamline the processes behind any existing public distribution points, web applications, and other tools (e.g., the [National Geochemical Database](https://www.usgs.gov/energy-and-minerals/mineral-resources-program/science/national-geochemical-database)).\n",
        "\n",
        "## LIMS Interfaces\n",
        "Many different information systems across different domains share some of the same type of characteristics to these two labs in terms of having some internal management system used to handle the regular operations of the organization. These can be highly specialized toolsets with a mix of off the shelf and custom components whose architectural decisions are driven by the core competencies within the operational context. Those systems then need to interface out in some way, often using a \"push out\" type of construct where the security boundary of the internal system is maintained. That interface can be built directly into the system or might sit adjacent to that system in some way with security constraints to ensure that only appropriate information is pushed out to whatever type of public interface(s) is(are) needed.\n",
        "\n",
        "In the project we will look at this component of the system as a significant part of what we examine and develop. Indications are that the Analytical Geochemistry Laboratory is operating on a legacy system where the interface is currently cumbersome and somewhat fraught with the need for significant human intervention. The overall goal will be to put an automated process in place that handles the process of packaging the data appropriate for distribution and sends those to some other place where they can be picked up and processed further for use. Data interface protocols are reportedly ODBC or JDBC to a relational database, which generally means that the interface needs to \"sit\" within a fairly narrow part of the security boundary that has the appropriate access. We may need to look at a mix of operations that occur within the database itself and things that can be operated with code connecting to the database. We will likely need to examine some form of service account/credentials that can be assigned to the automated tool that handles the work. \n",
        "\n",
        "We will also look carefully at the provenance trace that, from the standpoint of the public record, begins at the point of the interfaces to the LIMS. There is an internal provenance trace that is all part of the internal operations of the given lab. For our purposes in the project, we will assume that all of the information associated with internal processing of samples and analyses are curated and captured within the data that will be released in some way already. Our efforts will focus on ensuring that the provenance trace picks up from the point of that interface and is carried through to the final distributed results. As we work to automate these processes with code, that provides \n",
        "\n",
        "Once the distribution data can be mobilized in whatever form from the internal LIMS and placed somewhere onto a network, many different things can take shape from that point. Work has already been done from the Petroleum Geochemistry Lab to pull data into the cloud-based relational database management system (Amazon RDS) that is our \"out of the box\" option under the USGS Cloud Hosting Solutions (CHS). This may work out well, but we may also look at options involving optimized indexing capabilities or other forms of the data depending on how we define the interface needs.\n",
        "\n",
        "Defining the interface will come down to what kind of purpose we are wanting to put these data to. We already have existing outlets for some of all of the data we'll be working with in this project. Can this process help make those products better or ease any pain points currently experienced in getting data into those products? Is there something new that we've been wanting to do with these data where a more nimble process like we are pursuing here might be able to help?\n",
        "\n",
        "Technically, we will take a \"API-first\" approach to this, following the principle of admitting at the outset that we can't anticipate all good uses of what we put out. Building an Application Programming Interface as our means of interacting with these data will help make that possible. Within that, we'll also look toward an API approach that is fairly wide open like a GraphQL interface such that nearaly any possible queries can be run against the entire data structure vs. needing individual development to add new features. We may then optimize certain API routes for different purposes, but we'll have a foundational interface that can serve any purpose.\n",
        "\n",
        "# Project Team\n",
        "We are deliberately working to develop a small project team with the majority of the resources contributed through a dedicated pilot effort funded by the Energy and Minerals Mission Area (EMMA). The project will be conducted fully in the open with regular opportunities for input welcome from anyone with an interest.\n",
        "\n",
        "* Architect: Sky Bristol (on detail with EMMA designing and future USGS Geoscience Data System)\n",
        "* Developer: Jay Shah (contractor from the USGS Cloud Hosting Solutions group, dedicated to working on EMMA development tasks)\n",
        "* Subject Matter Experts: Analytical Geochemistry Lab - Steve Smith, Maggie Goldman; Petroleum Geochem Lab - Greg Gunther, Rob Miller, Steve Groves; MRData - Peter Schweitzer; NGGDPP - Mikki Johnson, Lindsay Powers\n",
        "* Student Interns: Interns from the Geo-Launchpad Program at UNAVCO will be working through a summer program and will assist with the effort through code development and other data work where activities can be aligned with learning objectives\n",
        "\n",
        "# Timeline and Project Process\n",
        "Some groundwork has been laid for the project with a number of cloud components already in place for the Petroleum Geochem Lab. This may allow us to jumpstart parts of the solution. We anticipate that the minimum viable products can be fully completed in 45 days or less from project start. All specific tasks, issues, and work of the project will be conducted within an open and transparent code project so that any stakeholder can check in on work in progress and weigh in on issues in need of subject matter expertise. The small project team will check in on video at least once weekly to work through any outstanding issues."
      ]
    },
    {
      "cell_type": "code",
      "metadata": {
        "colab": {
          "base_uri": "https://localhost:8080/",
          "height": 334
        },
        "id": "Ra_RO51y-ARF",
        "outputId": "9568b2b0-7feb-4154-e7cc-6fdf9517f54a"
      },
      "source": [
        "import pandas as pd\n",
        "import requests\n",
        "import xmltodict"
      ],
      "execution_count": null,
      "outputs": [
        {
          "output_type": "error",
          "ename": "ModuleNotFoundError",
          "evalue": "ignored",
          "traceback": [
            "\u001b[0;31m---------------------------------------------------------------------------\u001b[0m",
            "\u001b[0;31mModuleNotFoundError\u001b[0m                       Traceback (most recent call last)",
            "\u001b[0;32m<ipython-input-1-ad906ca388a6>\u001b[0m in \u001b[0;36m<module>\u001b[0;34m()\u001b[0m\n\u001b[1;32m      1\u001b[0m \u001b[0;32mimport\u001b[0m \u001b[0mpandas\u001b[0m \u001b[0;32mas\u001b[0m \u001b[0mpd\u001b[0m\u001b[0;34m\u001b[0m\u001b[0;34m\u001b[0m\u001b[0m\n\u001b[1;32m      2\u001b[0m \u001b[0;32mimport\u001b[0m \u001b[0mrequests\u001b[0m\u001b[0;34m\u001b[0m\u001b[0;34m\u001b[0m\u001b[0m\n\u001b[0;32m----> 3\u001b[0;31m \u001b[0;32mimport\u001b[0m \u001b[0mxmltodict\u001b[0m\u001b[0;34m\u001b[0m\u001b[0;34m\u001b[0m\u001b[0m\n\u001b[0m",
            "\u001b[0;31mModuleNotFoundError\u001b[0m: No module named 'xmltodict'",
            "",
            "\u001b[0;31m---------------------------------------------------------------------------\u001b[0;32m\nNOTE: If your import is failing due to a missing package, you can\nmanually install dependencies using either !pip or !apt.\n\nTo view examples of installing some common dependencies, click the\n\"Open Examples\" button below.\n\u001b[0;31m---------------------------------------------------------------------------\u001b[0m\n"
          ]
        }
      ]
    },
    {
      "cell_type": "markdown",
      "metadata": {
        "id": "fByqY_ts_meJ"
      },
      "source": [
        "# Property Registry\n",
        "Similar to another project we are pursuing with the USGS National Minerals Information Center and a new distribution method for their DS-140 commodity statistics data, we need to evolve a registry of the properties found in the data that we can use as a systematic reference. The legacy or historic NGDB already has this concept well established through the MRData platform. Individual sample records that share data all have pointers to field definitions from associated data tables, descriptions of analytical methods used, and many other details. Those are all called up dynamically through a web application and we may be able to build on the overall design pattern.\n",
        "\n",
        "Given a reported break in time when lab methods and practices as well as data packaging methodology has been changing, we are starting here with a recent [data release](https://doi.org/10.5066/P9WHRLXH) of samples specifically associated with the EarthMRI program. That data package provides detailed entity and attribute information in its metadata as well as a separate data dictionary table that makes for a fairly simple source to build upon dynamically. The following code consults this reference point as a \"design pattern\" and pulls the data dictionary in dynamically so we can start thinking about where this information should go.\n",
        "\n",
        "The basic design pattern set in MRData is incredibly sound - documentation details stored in a reasonable data model, effective persistent and resolvable identifiers for each reference \"element,\" and a simple web interface for human readability and navigation. The next step in the evolution is to incorporate some additional explicit semantics in the model such that automated processes can be built to operate with the property registry as a reasoning foundation. This will come along with some additional interfaces tuned for those reasoners to operate against but will retain all the same features from what MRData started. Under the hood, we may also diverge slightly from a wholly relational database base store toward something a bit more distributed and heterogenous where different parts of the overall model are stored in optimal management environments for how they need to operate, all hooked together through APIs as an abstraction."
      ]
    },
    {
      "cell_type": "code",
      "metadata": {
        "colab": {
          "base_uri": "https://localhost:8080/",
          "height": 419
        },
        "id": "uj0HUdHj-eRD",
        "outputId": "01f3eaad-de94-403d-8c4b-2af031d400c5"
      },
      "source": [
        "pattern_item = \"601963c6d34edf5c66f0d0e5\"\n",
        "\n",
        "r_pattern_item = requests.get(f\"https://www.sciencebase.gov/catalog/item/{pattern_item}?format=json&fields=files\").json()\n",
        "\n",
        "f_pattern_data_dict = next((f for f in r_pattern_item[\"files\"] if f[\"name\"] == 'EMRI_DataDictionary.csv'), None)\n",
        "f_metadata = next((f for f in r_pattern_item[\"files\"] if f[\"originalMetadata\"]), None)\n",
        "\n",
        "df_pattern_data_dict = pd.read_csv(f_pattern_data_dict[\"url\"])\n",
        "df_pattern_data_dict"
      ],
      "execution_count": null,
      "outputs": [
        {
          "output_type": "execute_result",
          "data": {
            "text/html": [
              "<div>\n",
              "<style scoped>\n",
              "    .dataframe tbody tr th:only-of-type {\n",
              "        vertical-align: middle;\n",
              "    }\n",
              "\n",
              "    .dataframe tbody tr th {\n",
              "        vertical-align: top;\n",
              "    }\n",
              "\n",
              "    .dataframe thead th {\n",
              "        text-align: right;\n",
              "    }\n",
              "</style>\n",
              "<table border=\"1\" class=\"dataframe\">\n",
              "  <thead>\n",
              "    <tr style=\"text-align: right;\">\n",
              "      <th></th>\n",
              "      <th>Tblname</th>\n",
              "      <th>SortOrder</th>\n",
              "      <th>AttributeLabel</th>\n",
              "      <th>AttributeDescription</th>\n",
              "      <th>AttributeUnit</th>\n",
              "    </tr>\n",
              "  </thead>\n",
              "  <tbody>\n",
              "    <tr>\n",
              "      <th>0</th>\n",
              "      <td>EMRI_Data</td>\n",
              "      <td>1</td>\n",
              "      <td>Lab_ID</td>\n",
              "      <td>Unique identifier assigned to each submitted s...</td>\n",
              "      <td>NaN</td>\n",
              "    </tr>\n",
              "    <tr>\n",
              "      <th>1</th>\n",
              "      <td>EMRI_Data</td>\n",
              "      <td>2</td>\n",
              "      <td>Field_ID</td>\n",
              "      <td>The identifier originally assigned to a sample...</td>\n",
              "      <td>NaN</td>\n",
              "    </tr>\n",
              "    <tr>\n",
              "      <th>2</th>\n",
              "      <td>EMRI_Data</td>\n",
              "      <td>3</td>\n",
              "      <td>Prev_Lab_ID</td>\n",
              "      <td>The unique identifier previously assigned to a...</td>\n",
              "      <td>NaN</td>\n",
              "    </tr>\n",
              "    <tr>\n",
              "      <th>3</th>\n",
              "      <td>EMRI_Data</td>\n",
              "      <td>4</td>\n",
              "      <td>IGSN</td>\n",
              "      <td>Unique International Geo Sample Number (IGSN; ...</td>\n",
              "      <td>NaN</td>\n",
              "    </tr>\n",
              "    <tr>\n",
              "      <th>4</th>\n",
              "      <td>EMRI_Data</td>\n",
              "      <td>5</td>\n",
              "      <td>Parent_IGSN</td>\n",
              "      <td>The IGSN identifier assigned to the parent sam...</td>\n",
              "      <td>NaN</td>\n",
              "    </tr>\n",
              "    <tr>\n",
              "      <th>...</th>\n",
              "      <td>...</td>\n",
              "      <td>...</td>\n",
              "      <td>...</td>\n",
              "      <td>...</td>\n",
              "      <td>...</td>\n",
              "    </tr>\n",
              "    <tr>\n",
              "      <th>319</th>\n",
              "      <td>QAQC_Values</td>\n",
              "      <td>531</td>\n",
              "      <td>SrO_pct_WDX</td>\n",
              "      <td>Strontium, reported as strontium oxide or stro...</td>\n",
              "      <td>weight percent (% or pct)</td>\n",
              "    </tr>\n",
              "    <tr>\n",
              "      <th>320</th>\n",
              "      <td>QAQC_Values</td>\n",
              "      <td>532</td>\n",
              "      <td>TiO2_pct_WDX</td>\n",
              "      <td>Titanium, reported as titanium dioxide or tita...</td>\n",
              "      <td>weight percent (% or pct)</td>\n",
              "    </tr>\n",
              "    <tr>\n",
              "      <th>321</th>\n",
              "      <td>QAQC_Values</td>\n",
              "      <td>533</td>\n",
              "      <td>V2O5_pct_WDX</td>\n",
              "      <td>Vanadium, reported as vanadium pentoxide or va...</td>\n",
              "      <td>weight percent (% or pct)</td>\n",
              "    </tr>\n",
              "    <tr>\n",
              "      <th>322</th>\n",
              "      <td>QAQC_Values</td>\n",
              "      <td>534</td>\n",
              "      <td>F_pct_ISE</td>\n",
              "      <td>Fluoride anion (F-), in weight percent, determ...</td>\n",
              "      <td>weight percent (% or pct)</td>\n",
              "    </tr>\n",
              "    <tr>\n",
              "      <th>323</th>\n",
              "      <td>QAQC_Values</td>\n",
              "      <td>535</td>\n",
              "      <td>S_pct_IR</td>\n",
              "      <td>Total sulfur, in weight percent, determined by...</td>\n",
              "      <td>weight percent (% or pct)</td>\n",
              "    </tr>\n",
              "  </tbody>\n",
              "</table>\n",
              "<p>324 rows × 5 columns</p>\n",
              "</div>"
            ],
            "text/plain": [
              "         Tblname  ...              AttributeUnit\n",
              "0      EMRI_Data  ...                        NaN\n",
              "1      EMRI_Data  ...                        NaN\n",
              "2      EMRI_Data  ...                        NaN\n",
              "3      EMRI_Data  ...                        NaN\n",
              "4      EMRI_Data  ...                        NaN\n",
              "..           ...  ...                        ...\n",
              "319  QAQC_Values  ...  weight percent (% or pct)\n",
              "320  QAQC_Values  ...  weight percent (% or pct)\n",
              "321  QAQC_Values  ...  weight percent (% or pct)\n",
              "322  QAQC_Values  ...  weight percent (% or pct)\n",
              "323  QAQC_Values  ...  weight percent (% or pct)\n",
              "\n",
              "[324 rows x 5 columns]"
            ]
          },
          "metadata": {
            "tags": []
          },
          "execution_count": 21
        }
      ]
    },
    {
      "cell_type": "markdown",
      "metadata": {
        "id": "c2fc_DCJkazy"
      },
      "source": [
        "## Additional Depth to the Property Registry\n",
        "The metadata for the EarthMRI reference dataset provides a whole lot of richness that we will need to incorporate into the property registry. We'll need to develop from what serves as documenatation for a given dataset pulled from the Analytical Geochem Lab LIMS to an externalized registry that \"controls\" all data flowing from that system to the notional distribution point we are exploring. For instance, enumerated values in this case may not include every value the entire data system may eventually contain.\n",
        "\n",
        "The following codeblocks explore this a little bit further by pulling metadata XML from the same reference data release item, parsing it to a dictionary for ease of use (at least for me...I hate working with XML), and then working through some initial notes."
      ]
    },
    {
      "cell_type": "code",
      "metadata": {
        "id": "sFnRyPkQgxHM"
      },
      "source": [
        "r_metadata = requests.get(f_metadata[\"url\"])\n",
        "d_metadata = xmltodict.parse(r_metadata.text, dict_constructor=dict)"
      ],
      "execution_count": null,
      "outputs": []
    },
    {
      "cell_type": "markdown",
      "metadata": {
        "id": "HfNbFMTilrKR"
      },
      "source": [
        "### Enumerated Values to Vocabularies\n",
        "Similar to what MRData has already done (and building directly on that if possible), we need to externalize the sets of terms and definitions used for some of the properties into their own system.\n",
        "\n",
        "Wherever possible, it would be great to move this outside of even our own domain to leverage external vocabularies or more robust semantic sources maintained by recognized authorities or community groups. This gets at the core principle of not rolling our own if we don't have to. If someone has already put the time and energy into figuring out a reasonable set of definitions for some concept we include in our data, let's see if we can use it. We may not be able to for a variety of reasons, but we should at least examine the possibility. It would also be a perfectly acceptable approach to build our own dynamic vocabularies made up of some terms from a third party with other terms of our own design; we just make everything explicit in either case. For instance, are there IUGS-CGI vocabularies that we could be leveraging in part or in full for any of these concepts?\n",
        "\n",
        "One of the really vital concepts in the enumerated values are the analytical methods. The historic NGDB records point to somewhat more robust documentation of the methods that incorporates a link to a relevant publication, which would seem to be something we'd want to bring forward here. Other communities have started leveraging a platform like protocols.io for this type of reference purpose, and it might be worth looking into whether we could take advantage of something like that as a rich, external source for curating the references for protocols/methods in a way that provides persistent, resolvable identifiers, API access, and other useful capabilities.\n",
        "\n",
        "For anything in the property registry that represents an identifier of some kind, we will want to incorporate details about whether or not that identifier is something persistent and resolvable and how to resolve it if applicable. Anything that can't be parameterized this way will be treated more as an unresolvable, unverifiable reference to some third party offline system.\n",
        "\n",
        "Date properties should all be relatively straightforward to validate and transform, but things will get a bit complicated as we look at all the variations on how date, date/time, duration, range, and other temporal dynamics can be represented in data. We fundamentally have to interpret what can be messy string parameters in metadata into something that software code can operate against.\n",
        "\n",
        "One of the things I always wonder about when looking at data like this test case is whether political unit information like states and counties in a dataset with explicit geospatial footprint information were actually derived from something like point coordinates and included as text values for ease of use. That dynamic of one property leading to another property through some type of processing logic is something we may also need to account for. We may also want to make certain properties like political unit names more robust than we find here by incorporating validation against reference sources.\n",
        "\n",
        "For numeric/float properties that indicate an upper and lower bounding constraint, we will need to determine the full range possible beyond what may be representative in this particular reference dataset."
      ]
    },
    {
      "cell_type": "code",
      "metadata": {
        "colab": {
          "base_uri": "https://localhost:8080/",
          "height": 1000
        },
        "id": "ZS6LjDoBiQOB",
        "outputId": "49db2d80-519d-4ec5-d4b1-001c938704b6"
      },
      "source": [
        "for attribute in d_metadata[\"metadata\"][\"eainfo\"][\"detailed\"][0][\"attr\"]:\n",
        "    if isinstance(attribute[\"attrdomv\"], list):\n",
        "        print(attribute[\"attrlabl\"])\n",
        "        display(attribute[\"attrdomv\"])\n",
        "        print(\"======\")\n",
        "\n",
        "for attribute in d_metadata[\"metadata\"][\"eainfo\"][\"detailed\"][0][\"attr\"]:\n",
        "    if isinstance(attribute[\"attrdomv\"], dict):\n",
        "        print(attribute[\"attrlabl\"])\n",
        "        display(attribute[\"attrdomv\"])\n",
        "        print(\"======\")"
      ],
      "execution_count": null,
      "outputs": [
        {
          "output_type": "stream",
          "text": [
            "Ref_Flag\n"
          ],
          "name": "stdout"
        },
        {
          "output_type": "display_data",
          "data": {
            "text/plain": [
              "[{'edom': {'edomv': 'Yes',\n",
              "   'edomvd': 'The sample is identified as a Geologic Reference Material (GRM) sample used for Quality Control',\n",
              "   'edomvds': 'U.S. Geological Survey'}},\n",
              " {'edom': {'edomv': 'No',\n",
              "   'edomvd': 'The sample is not identified as a Geologic Reference Material (GRM) sample',\n",
              "   'edomvds': 'U.S. Geological Survey'}}]"
            ]
          },
          "metadata": {
            "tags": []
          }
        },
        {
          "output_type": "stream",
          "text": [
            "======\n",
            "QAQC_Sample\n"
          ],
          "name": "stdout"
        },
        {
          "output_type": "display_data",
          "data": {
            "text/plain": [
              "[{'udom': 'Alphanumeric text field for QAQC sample names'},\n",
              " {'edom': {'edomv': 'Original',\n",
              "   'edomvd': 'The original sample that was randomly chosen to be split into an analytical duplicate pair.',\n",
              "   'edomvds': 'U.S. Geological Survey'}},\n",
              " {'edom': {'edomv': 'Duplicate',\n",
              "   'edomvd': 'The duplicate or second split of a randomly chosen sample used as an analytical duplicate pair.',\n",
              "   'edomvds': 'U.S. Geological Survey'}}]"
            ]
          },
          "metadata": {
            "tags": []
          }
        },
        {
          "output_type": "stream",
          "text": [
            "======\n",
            "Orig_Datum\n"
          ],
          "name": "stdout"
        },
        {
          "output_type": "display_data",
          "data": {
            "text/plain": [
              "[{'edom': {'edomv': 'NAD27',\n",
              "   'edomvd': 'North American Datum of 1927 based on the Clarke Ellipsoid of 1866',\n",
              "   'edomvds': 'U.S. Geological Survey'}},\n",
              " {'edom': {'edomv': 'NAD83',\n",
              "   'edomvd': 'North American Datum of 1983 based on the Geodetic Reference System of 1980',\n",
              "   'edomvds': 'U.S. Geological Survey'}},\n",
              " {'edom': {'edomv': 'WGS84',\n",
              "   'edomvd': 'World Geodetic System of 1984',\n",
              "   'edomvds': 'U.S. Geological Survey'}}]"
            ]
          },
          "metadata": {
            "tags": []
          }
        },
        {
          "output_type": "stream",
          "text": [
            "======\n",
            "Sample_Type\n"
          ],
          "name": "stdout"
        },
        {
          "output_type": "display_data",
          "data": {
            "text/plain": [
              "[{'edom': {'edomv': 'rock',\n",
              "   'edomvd': \"A sample of 'rock' collected from the source identified in the Sample_Source field\",\n",
              "   'edomvds': 'U.S. Geological Survey'}},\n",
              " {'edom': {'edomv': 'sediment',\n",
              "   'edomvd': \"A sample of 'sediment' collected from the source identified in the Sample_Source field\",\n",
              "   'edomvds': 'U.S. Geological Survey'}},\n",
              " {'edom': {'edomv': 'soil',\n",
              "   'edomvd': \"A sample of 'soil' collected from the source identified in the Sample_Source field\",\n",
              "   'edomvds': 'U.S. Geological Survey'}}]"
            ]
          },
          "metadata": {
            "tags": []
          }
        },
        {
          "output_type": "stream",
          "text": [
            "======\n",
            "Method_Collected\n"
          ],
          "name": "stdout"
        },
        {
          "output_type": "display_data",
          "data": {
            "text/plain": [
              "[{'edom': {'edomv': 'single/grab',\n",
              "   'edomvd': 'Sample is collected without any attempt to composite material for representivity; may or may not be representative of material found at the site and is often used for collecting unusual, one-of-a-kind, or un-composited samples',\n",
              "   'edomvds': 'U.S. Geological Survey'}},\n",
              " {'edom': {'edomv': 'composite',\n",
              "   'edomvd': 'Sample is collected with the intent to homogenize material and to be representative of a larger body (rock unit, local soil, etc.) at the site; consist of multiple subsamples or \"grabs\" and may be collected from multiple locations at the site',\n",
              "   'edomvds': 'U.S. Geological Survey'}},\n",
              " {'edom': {'edomv': 'channel',\n",
              "   'edomvd': 'Sample is a composite sample collected over a continuous distance (e.g., chip samples of rock collected across the width of a bed, a sample collected by integrating media across the entire width of the stream)',\n",
              "   'edomvds': 'U.S. Geological Survey'}},\n",
              " {'edom': {'edomv': 'other',\n",
              "   'edomvd': \"Sample was collected by a method other than 'single/grab', 'composite', or 'channel' and described in the Sample_Desc field\",\n",
              "   'edomvds': 'U.S. Geological Survey'}},\n",
              " {'edom': {'edomv': 'unknown',\n",
              "   'edomvd': 'The sample collected method was not recorded and is unknown',\n",
              "   'edomvds': 'U.S. Geological Survey'}}]"
            ]
          },
          "metadata": {
            "tags": []
          }
        },
        {
          "output_type": "stream",
          "text": [
            "======\n",
            "Sample_Source\n"
          ],
          "name": "stdout"
        },
        {
          "output_type": "display_data",
          "data": {
            "text/plain": [
              "[{'edom': {'edomv': 'artificial exposure',\n",
              "   'edomvd': 'sample collected from an artificial exposure such as a road cut, excavation, trench, or tunnel (but not from a mine)',\n",
              "   'edomvds': 'U.S. Geological Survey'}},\n",
              " {'edom': {'edomv': 'drill core',\n",
              "   'edomvd': 'sample collected from drill core',\n",
              "   'edomvds': 'U.S. Geological Survey'}},\n",
              " {'edom': {'edomv': 'dune/loess',\n",
              "   'edomvd': 'sample collected from eolian dune or loess deposit',\n",
              "   'edomvds': 'U.S. Geological Survey'}},\n",
              " {'edom': {'edomv': 'float/colluvium/talus',\n",
              "   'edomvd': 'sample collected from float, colluvium, or talus implying that the sample may have moved from the original source',\n",
              "   'edomvds': 'U.S. Geological Survey'}},\n",
              " {'edom': {'edomv': 'mine dump/waste rock',\n",
              "   'edomvd': 'sample collected from unprocessed mine material from a mine dump or waste rock pile',\n",
              "   'edomvds': 'U.S. Geological Survey'}},\n",
              " {'edom': {'edomv': 'mine/mill tailings',\n",
              "   'edomvd': 'sample collected from mine material that has undergone some amount of processing or milling',\n",
              "   'edomvds': 'U.S. Geological Survey'}},\n",
              " {'edom': {'edomv': 'mine/quarry/prospect pit',\n",
              "   'edomvd': 'sample collected from an open pit or underground mine, a quarry, or a prospect pit',\n",
              "   'edomvds': 'U.S. Geological Survey'}},\n",
              " {'edom': {'edomv': 'natural exposure/outcrop',\n",
              "   'edomvd': 'sample collected from a natural exposure or outcrop',\n",
              "   'edomvds': 'U.S. Geological Survey'}},\n",
              " {'edom': {'edomv': 'stream/river',\n",
              "   'edomvd': 'sample collected from a stream, river, brook, creek, wash, arroyo, or wadi',\n",
              "   'edomvds': 'U.S. Geological Survey'}},\n",
              " {'edom': {'edomv': 'unknown',\n",
              "   'edomvd': 'the sample source was not recorded',\n",
              "   'edomvds': 'U.S. Geological Survey'}}]"
            ]
          },
          "metadata": {
            "tags": []
          }
        },
        {
          "output_type": "stream",
          "text": [
            "======\n",
            "Rock_Type\n"
          ],
          "name": "stdout"
        },
        {
          "output_type": "display_data",
          "data": {
            "text/plain": [
              "[{'edom': {'edomv': 'igneous',\n",
              "   'edomvd': 'rock formed through the cooling and solidification of magma or lava, may be plutonic or volcanic',\n",
              "   'edomvds': 'U.S. Geological Survey'}},\n",
              " {'edom': {'edomv': 'sedimentary',\n",
              "   'edomvd': \"rock formed by the deposition of material at the Earth's surface\",\n",
              "   'edomvds': 'U.S. Geological Survey'}},\n",
              " {'edom': {'edomv': 'metamorphic',\n",
              "   'edomvd': 'rock formed by igneous or sedimentary rocks being subjected to heat and pressure',\n",
              "   'edomvds': 'U.S. Geological Survey'}},\n",
              " {'edom': {'edomv': 'tectonite',\n",
              "   'edomvd': 'rock formed by shearing or tectonic forces',\n",
              "   'edomvds': 'U.S. Geological Survey'}},\n",
              " {'edom': {'edomv': 'ore',\n",
              "   'edomvd': 'a rock category that includes many types of mineralized rock or veins; may include sub-economic ores',\n",
              "   'edomvds': 'U.S. Geological Survey'}},\n",
              " {'edom': {'edomv': 'miscellaneous',\n",
              "   'edomvd': 'a rock that does not fit into normal rock classifications; examples include calcrete, concretion, gossan, limonite, jasperoid, sinter, melange, tektite, meteorite',\n",
              "   'edomvds': 'U.S. Geological Survey'}},\n",
              " {'edom': {'edomv': 'unidentified',\n",
              "   'edomvd': 'the rock type was not identified when the sample was submitted',\n",
              "   'edomvds': 'U.S. Geological Survey'}}]"
            ]
          },
          "metadata": {
            "tags": []
          }
        },
        {
          "output_type": "stream",
          "text": [
            "======\n",
            "Igneous_Form\n"
          ],
          "name": "stdout"
        },
        {
          "output_type": "display_data",
          "data": {
            "text/plain": [
              "[{'edom': {'edomv': 'breccia/agglomerate',\n",
              "   'edomvd': 'an igneous breccia or agglomerate',\n",
              "   'edomvds': 'U.S. Geological Survey'}},\n",
              " {'edom': {'edomv': 'dike/sill/laccolith',\n",
              "   'edomvd': 'a dike, sill, or laccolith',\n",
              "   'edomvds': 'U.S. Geological Survey'}},\n",
              " {'edom': {'edomv': 'extrusive',\n",
              "   'edomvd': 'an igneous extrusive body, not further defined',\n",
              "   'edomvds': 'U.S. Geological Survey'}},\n",
              " {'edom': {'edomv': 'intrusive',\n",
              "   'edomvd': 'an igneous intrusive body, not further defined',\n",
              "   'edomvds': 'U.S. Geological Survey'}},\n",
              " {'edom': {'edomv': 'lava flow',\n",
              "   'edomvd': 'a lava flow',\n",
              "   'edomvds': 'U.S. Geological Survey'}},\n",
              " {'edom': {'edomv': 'plug/pipe',\n",
              "   'edomvd': 'an igneous plug or pipe',\n",
              "   'edomvds': 'U.S. Geological Survey'}},\n",
              " {'edom': {'edomv': 'pluton/stock',\n",
              "   'edomvd': 'a pluton or stock',\n",
              "   'edomvds': 'U.S. Geological Survey'}},\n",
              " {'edom': {'edomv': 'pyroclastic',\n",
              "   'edomvd': 'a pyroclastic flow',\n",
              "   'edomvds': 'U.S. Geological Survey'}}]"
            ]
          },
          "metadata": {
            "tags": []
          }
        },
        {
          "output_type": "stream",
          "text": [
            "======\n",
            "Depositional_Env\n"
          ],
          "name": "stdout"
        },
        {
          "output_type": "display_data",
          "data": {
            "text/plain": [
              "[{'edom': {'edomv': 'marine',\n",
              "   'edomvd': 'originally deposited in a marine environment',\n",
              "   'edomvds': 'U.S. Geological Survey'}},\n",
              " {'edom': {'edomv': 'continental',\n",
              "   'edomvd': 'originally deposited in a continental environment',\n",
              "   'edomvds': 'U.S. Geological Survey'}},\n",
              " {'edom': {'edomv': 'transitional',\n",
              "   'edomvd': 'originally deposited in an environment transitional between marine and continental',\n",
              "   'edomvds': 'U.S. Geological Survey'}}]"
            ]
          },
          "metadata": {
            "tags": []
          }
        },
        {
          "output_type": "stream",
          "text": [
            "======\n",
            "Metamorphism\n"
          ],
          "name": "stdout"
        },
        {
          "output_type": "display_data",
          "data": {
            "text/plain": [
              "[{'edom': {'edomv': 'regional',\n",
              "   'edomvd': 'regional metamorphism',\n",
              "   'edomvds': 'U.S. Geological Survey'}},\n",
              " {'edom': {'edomv': 'contact',\n",
              "   'edomvd': 'contact metamorphism',\n",
              "   'edomvds': 'U.S. Geological Survey'}},\n",
              " {'edom': {'edomv': 'hydrothermal',\n",
              "   'edomvd': 'hydrothermal metamorphism',\n",
              "   'edomvds': 'U.S. Geological Survey'}},\n",
              " {'edom': {'edomv': 'shear',\n",
              "   'edomvd': 'metamorphism by shearing',\n",
              "   'edomvds': 'U.S. Geological Survey'}}]"
            ]
          },
          "metadata": {
            "tags": []
          }
        },
        {
          "output_type": "stream",
          "text": [
            "======\n",
            "Meta_SourceRk\n"
          ],
          "name": "stdout"
        },
        {
          "output_type": "display_data",
          "data": {
            "text/plain": [
              "[{'edom': {'edomv': 'igneous',\n",
              "   'edomvd': 'a meta-igneous rock',\n",
              "   'edomvds': 'U.S. Geological Survey'}},\n",
              " {'edom': {'edomv': 'sedimentary',\n",
              "   'edomvd': 'a meta-sedimentary rock',\n",
              "   'edomvds': 'U.S. Geological Survey'}}]"
            ]
          },
          "metadata": {
            "tags": []
          }
        },
        {
          "output_type": "stream",
          "text": [
            "======\n",
            "Soil_Drainage\n"
          ],
          "name": "stdout"
        },
        {
          "output_type": "display_data",
          "data": {
            "text/plain": [
              "[{'edom': {'edomv': 'well drained',\n",
              "   'edomvd': 'The soil sample site is well drained',\n",
              "   'edomvds': 'U.S. Geological Survey'}},\n",
              " {'edom': {'edomv': 'poorly drained',\n",
              "   'edomvd': 'The soil sample site is poorly drained',\n",
              "   'edomvds': 'U.S. Geological Survey'}}]"
            ]
          },
          "metadata": {
            "tags": []
          }
        },
        {
          "output_type": "stream",
          "text": [
            "======\n",
            "Soil_Salinity\n"
          ],
          "name": "stdout"
        },
        {
          "output_type": "display_data",
          "data": {
            "text/plain": [
              "[{'edom': {'edomv': 'saline',\n",
              "   'edomvd': 'The soil at the sample site is saline; contains or is impregnated with salt',\n",
              "   'edomvds': 'U.S. Geological Survey'}},\n",
              " {'edom': {'edomv': 'non-saline',\n",
              "   'edomvd': 'The soil at the sample site is not saline',\n",
              "   'edomvds': 'U.S. Geological Survey'}}]"
            ]
          },
          "metadata": {
            "tags": []
          }
        },
        {
          "output_type": "stream",
          "text": [
            "======\n",
            "Ferritic_Char\n"
          ],
          "name": "stdout"
        },
        {
          "output_type": "display_data",
          "data": {
            "text/plain": [
              "[{'edom': {'edomv': 'ferritic',\n",
              "   'edomvd': 'The soil at the sample site is ferritic; contains visible iron oxides',\n",
              "   'edomvds': 'U.S. Geological Survey'}},\n",
              " {'edom': {'edomv': 'non-ferritic',\n",
              "   'edomvd': 'The soil at the sample site is not ferritic',\n",
              "   'edomvds': 'U.S. Geological Survey'}}]"
            ]
          },
          "metadata": {
            "tags": []
          }
        },
        {
          "output_type": "stream",
          "text": [
            "======\n",
            "Analytic_Mthds\n"
          ],
          "name": "stdout"
        },
        {
          "output_type": "display_data",
          "data": {
            "text/plain": [
              "[{'edom': {'edomv': 'C_AQUA_REGIA',\n",
              "   'edomvd': 'The sample is digested with aqua regia and then analyzed by ICP-OES and ICP-MS for 51 elements (Al, Ca, Fe, K, Mg, Na, S, Ti, Ag, As, Au, B, Ba, Be, Bi, Cd, Ce, Co, Cr, Cs, Cu, Ga, Ge, Hf, Hg, In, La, Li, Mn, Mo, Nb, Ni, P, Pb, Rb, Re, Sb, Sc, Se, Sn, Sr, Ta, Te, Th, Tl, U, V, W, Y, Zn,  Zr). A full method description is included within these metadata in the Sample Analysis and Methods process step section.',\n",
              "   'edomvds': 'U.S. Geological Survey'}},\n",
              " {'edom': {'edomv': 'C_FA_AU-PD-PT',\n",
              "   'edomvd': 'Gold, Palladium, and Platinum are determined by lead fusion and ICP-OES and ICP-MS after collection by fire assay. A full method description is included within these metadata in the Sample Analysis and Methods process step section.',\n",
              "   'edomvds': 'U.S. Geological Survey'}},\n",
              " {'edom': {'edomv': 'C_FA_ICPMS-AU',\n",
              "   'edomvd': 'Gold is determined by lead fusion and ICP-OES and ICP-MS after collection by fire assay. A full method description is included within these metadata in the Sample Analysis and Methods process step section.',\n",
              "   'edomvds': 'U.S. Geological Survey'}},\n",
              " {'edom': {'edomv': 'C_ICPOES_MS-60',\n",
              "   'edomvd': 'Total concentrations for 60- or 61-elements (Al, Ca, Fe, K, Mg, P, S, Si, Ti, Ag, As, B, Ba, Be, Bi, Cd, Ce, Co, Cr, Cs, Cu, Dy, Er, Eu, Ga, Gd, Ge, Hf, Ho, In, La, Li, Lu, Mn, Mo, Nb, Nd, Ni, Pb, Pr, Rb, Re, Sb, Sc, Se, Sm, Sn, Sr, Ta, Tb, Te, Th, Tl, Tm, U, V, W, Y, Yb, Zn, Zr) are analyzed by ICP-OES and ICP-MS after a sodium peroxide fusion. A full method description is included within these metadata in the Sample Analysis and Methods process step section.',\n",
              "   'edomvds': 'U.S. Geological Survey'}},\n",
              " {'edom': {'edomv': 'C_ISE-F',\n",
              "   'edomvd': 'Fluoride is determined by ion-selective electrode (ISE) following a sodium hydroxide fusion. A full method description is included within these metadata in the Sample Analysis and Methods process step section.',\n",
              "   'edomvds': 'U.S. Geological Survey'}},\n",
              " {'edom': {'edomv': 'C_TOTAL-S',\n",
              "   'edomvd': 'Total Sulfur is determined in geologic materials by combustion followed by infrared detection on LECO instrumentation. A full method description is included within these metadata in the Sample Analysis and Methods process step section.',\n",
              "   'edomvds': 'U.S. Geological Survey'}},\n",
              " {'edom': {'edomv': 'C_WDXRF-MAJORS',\n",
              "   'edomvd': 'Major elements are determined by WDXRF and reported as major element oxides (SiO2, TiO2, Al2O3, Fe2O3, MnO, MgO, CaO, Na2O, K2O, P2O5, BaO, Cr2O3, SrO, V2O5). The method also provides a gravimetric loss on ignition (LOI). A full method description is included within these metadata in the Sample Analysis and Methods process step section.',\n",
              "   'edomvds': 'U.S. Geological Survey'}},\n",
              " {'udom': 'Alphanumeric text field for samples analyzed by multiple analytical methods. Laboratory codes separated by a semicolon'}]"
            ]
          },
          "metadata": {
            "tags": []
          }
        },
        {
          "output_type": "stream",
          "text": [
            "======\n",
            "Lab_ID\n"
          ],
          "name": "stdout"
        },
        {
          "output_type": "display_data",
          "data": {
            "text/plain": [
              "{'udom': 'Alphanumeric text field for unique sample identification labels'}"
            ]
          },
          "metadata": {
            "tags": []
          }
        },
        {
          "output_type": "stream",
          "text": [
            "======\n",
            "Field_ID\n"
          ],
          "name": "stdout"
        },
        {
          "output_type": "display_data",
          "data": {
            "text/plain": [
              "{'udom': 'Alphanumeric text field for field identification labels'}"
            ]
          },
          "metadata": {
            "tags": []
          }
        },
        {
          "output_type": "stream",
          "text": [
            "======\n",
            "Prev_Lab_ID\n"
          ],
          "name": "stdout"
        },
        {
          "output_type": "display_data",
          "data": {
            "text/plain": [
              "{'udom': 'Alphanumeric text field for unique sample identification labels'}"
            ]
          },
          "metadata": {
            "tags": []
          }
        },
        {
          "output_type": "stream",
          "text": [
            "======\n",
            "IGSN\n"
          ],
          "name": "stdout"
        },
        {
          "output_type": "display_data",
          "data": {
            "text/plain": [
              "{'udom': 'Alphanumeric text field for sample identification labels'}"
            ]
          },
          "metadata": {
            "tags": []
          }
        },
        {
          "output_type": "stream",
          "text": [
            "======\n",
            "Parent_IGSN\n"
          ],
          "name": "stdout"
        },
        {
          "output_type": "display_data",
          "data": {
            "text/plain": [
              "{'udom': 'Alphanumeric text field for sample identification labels'}"
            ]
          },
          "metadata": {
            "tags": []
          }
        },
        {
          "output_type": "stream",
          "text": [
            "======\n",
            "Job_ID\n"
          ],
          "name": "stdout"
        },
        {
          "output_type": "display_data",
          "data": {
            "text/plain": [
              "{'udom': 'Alphanumeric text field for unique job identification labels'}"
            ]
          },
          "metadata": {
            "tags": []
          }
        },
        {
          "output_type": "stream",
          "text": [
            "======\n",
            "EMRI_JobNo\n"
          ],
          "name": "stdout"
        },
        {
          "output_type": "display_data",
          "data": {
            "text/plain": [
              "{'udom': 'Alphanumeric text field for Earth MRI job identification labels'}"
            ]
          },
          "metadata": {
            "tags": []
          }
        },
        {
          "output_type": "stream",
          "text": [
            "======\n",
            "PID\n"
          ],
          "name": "stdout"
        },
        {
          "output_type": "display_data",
          "data": {
            "text/plain": [
              "{'udom': 'Alphanumeric text field for Earth MRI job identification labels'}"
            ]
          },
          "metadata": {
            "tags": []
          }
        },
        {
          "output_type": "stream",
          "text": [
            "======\n",
            "Proj_Name\n"
          ],
          "name": "stdout"
        },
        {
          "output_type": "display_data",
          "data": {
            "text/plain": [
              "{'udom': 'Comment field'}"
            ]
          },
          "metadata": {
            "tags": []
          }
        },
        {
          "output_type": "stream",
          "text": [
            "======\n",
            "Affiliation\n"
          ],
          "name": "stdout"
        },
        {
          "output_type": "display_data",
          "data": {
            "text/plain": [
              "{'udom': 'Comment field'}"
            ]
          },
          "metadata": {
            "tags": []
          }
        },
        {
          "output_type": "stream",
          "text": [
            "======\n",
            "Date_Submitted\n"
          ],
          "name": "stdout"
        },
        {
          "output_type": "display_data",
          "data": {
            "text/plain": [
              "{'rdom': {'attrunit': 'dd-mmm-yy',\n",
              "  'rdommax': '16-Oct-20',\n",
              "  'rdommin': '24-Feb-20'}}"
            ]
          },
          "metadata": {
            "tags": []
          }
        },
        {
          "output_type": "stream",
          "text": [
            "======\n",
            "Date_Approved\n"
          ],
          "name": "stdout"
        },
        {
          "output_type": "display_data",
          "data": {
            "text/plain": [
              "{'rdom': {'attrunit': 'dd-mmm-yy',\n",
              "  'rdommax': '31-Dec-20',\n",
              "  'rdommin': '14-Apr-20'}}"
            ]
          },
          "metadata": {
            "tags": []
          }
        },
        {
          "output_type": "stream",
          "text": [
            "======\n",
            "Lat_WGS84\n"
          ],
          "name": "stdout"
        },
        {
          "output_type": "display_data",
          "data": {
            "text/plain": [
              "{'rdom': {'attrunit': 'Decimal degrees',\n",
              "  'rdommax': '65.9488',\n",
              "  'rdommin': '32.01906'}}"
            ]
          },
          "metadata": {
            "tags": []
          }
        },
        {
          "output_type": "stream",
          "text": [
            "======\n",
            "Long_WGS84\n"
          ],
          "name": "stdout"
        },
        {
          "output_type": "display_data",
          "data": {
            "text/plain": [
              "{'rdom': {'attrunit': 'Decimal degrees',\n",
              "  'rdommax': '-77.4901',\n",
              "  'rdommin': '-150.4759'}}"
            ]
          },
          "metadata": {
            "tags": []
          }
        },
        {
          "output_type": "stream",
          "text": [
            "======\n",
            "Orig_Lat\n"
          ],
          "name": "stdout"
        },
        {
          "output_type": "display_data",
          "data": {
            "text/plain": [
              "{'rdom': {'attrunit': 'Decimal degrees',\n",
              "  'rdommax': '65.9488',\n",
              "  'rdommin': '32.01884'}}"
            ]
          },
          "metadata": {
            "tags": []
          }
        },
        {
          "output_type": "stream",
          "text": [
            "======\n",
            "Orig_Long\n"
          ],
          "name": "stdout"
        },
        {
          "output_type": "display_data",
          "data": {
            "text/plain": [
              "{'rdom': {'attrunit': 'Decimal degrees',\n",
              "  'rdommax': '-77.4901',\n",
              "  'rdommin': '-150.4759'}}"
            ]
          },
          "metadata": {
            "tags": []
          }
        },
        {
          "output_type": "stream",
          "text": [
            "======\n",
            "Country\n"
          ],
          "name": "stdout"
        },
        {
          "output_type": "display_data",
          "data": {
            "text/plain": [
              "{'udom': 'Alpha character field with full country name'}"
            ]
          },
          "metadata": {
            "tags": []
          }
        },
        {
          "output_type": "stream",
          "text": [
            "======\n",
            "State\n"
          ],
          "name": "stdout"
        },
        {
          "output_type": "display_data",
          "data": {
            "text/plain": [
              "{'codesetd': {'codesetn': 'USPS 2-letter state code',\n",
              "  'codesets': 'https://about.usps.com/who-we-are/postal-history/state-abbreviations.htm'}}"
            ]
          },
          "metadata": {
            "tags": []
          }
        },
        {
          "output_type": "stream",
          "text": [
            "======\n",
            "Location_Desc\n"
          ],
          "name": "stdout"
        },
        {
          "output_type": "display_data",
          "data": {
            "text/plain": [
              "{'udom': 'Uncontrolled comment field'}"
            ]
          },
          "metadata": {
            "tags": []
          }
        },
        {
          "output_type": "stream",
          "text": [
            "======\n",
            "Sample_Desc\n"
          ],
          "name": "stdout"
        },
        {
          "output_type": "display_data",
          "data": {
            "text/plain": [
              "{'udom': 'Uncontrolled comment field'}"
            ]
          },
          "metadata": {
            "tags": []
          }
        },
        {
          "output_type": "stream",
          "text": [
            "======\n",
            "Date_Collected\n"
          ],
          "name": "stdout"
        },
        {
          "output_type": "display_data",
          "data": {
            "text/plain": [
              "{'rdom': {'attrunit': 'mm/dd/yyyy or yyyy',\n",
              "  'rdommax': '12/9/2020',\n",
              "  'rdommin': '6/20/1967'}}"
            ]
          },
          "metadata": {
            "tags": []
          }
        },
        {
          "output_type": "stream",
          "text": [
            "======\n",
            "Sample_Depth\n"
          ],
          "name": "stdout"
        },
        {
          "output_type": "display_data",
          "data": {
            "text/plain": [
              "{'udom': 'Depth or range of depths at which the sample was collected'}"
            ]
          },
          "metadata": {
            "tags": []
          }
        },
        {
          "output_type": "stream",
          "text": [
            "======\n",
            "Rock_Name\n"
          ],
          "name": "stdout"
        },
        {
          "output_type": "display_data",
          "data": {
            "text/plain": [
              "{'udom': 'Alpha character field containing a rock name'}"
            ]
          },
          "metadata": {
            "tags": []
          }
        },
        {
          "output_type": "stream",
          "text": [
            "======\n",
            "Geologic_Age\n"
          ],
          "name": "stdout"
        },
        {
          "output_type": "display_data",
          "data": {
            "text/plain": [
              "{'udom': 'Alpha character field containing a geologic age or age range'}"
            ]
          },
          "metadata": {
            "tags": []
          }
        },
        {
          "output_type": "stream",
          "text": [
            "======\n",
            "Stratigraphy\n"
          ],
          "name": "stdout"
        },
        {
          "output_type": "display_data",
          "data": {
            "text/plain": [
              "{'udom': 'Alphanumeric character field with a stratigraphic name'}"
            ]
          },
          "metadata": {
            "tags": []
          }
        },
        {
          "output_type": "stream",
          "text": [
            "======\n",
            "Facies_Grade\n"
          ],
          "name": "stdout"
        },
        {
          "output_type": "display_data",
          "data": {
            "text/plain": [
              "{'udom': 'Alpha character field used to describe metamorphic facies'}"
            ]
          },
          "metadata": {
            "tags": []
          }
        },
        {
          "output_type": "stream",
          "text": [
            "======\n",
            "Mineralization\n"
          ],
          "name": "stdout"
        },
        {
          "output_type": "display_data",
          "data": {
            "text/plain": [
              "{'udom': 'Alpha character field used to describe mineralization type'}"
            ]
          },
          "metadata": {
            "tags": []
          }
        },
        {
          "output_type": "stream",
          "text": [
            "======\n",
            "Alteration\n"
          ],
          "name": "stdout"
        },
        {
          "output_type": "display_data",
          "data": {
            "text/plain": [
              "{'udom': 'Alpha character field used to describe alteration type'}"
            ]
          },
          "metadata": {
            "tags": []
          }
        },
        {
          "output_type": "stream",
          "text": [
            "======\n",
            "Land_Cover\n"
          ],
          "name": "stdout"
        },
        {
          "output_type": "display_data",
          "data": {
            "text/plain": [
              "{'udom': 'Alpha character field used to describe sample environment'}"
            ]
          },
          "metadata": {
            "tags": []
          }
        },
        {
          "output_type": "stream",
          "text": [
            "======\n",
            "Soil_Parent\n"
          ],
          "name": "stdout"
        },
        {
          "output_type": "display_data",
          "data": {
            "text/plain": [
              "{'udom': 'Alpha character field used to describe soil parent material'}"
            ]
          },
          "metadata": {
            "tags": []
          }
        },
        {
          "output_type": "stream",
          "text": [
            "======\n",
            "Soil_Horizon\n"
          ],
          "name": "stdout"
        },
        {
          "output_type": "display_data",
          "data": {
            "text/plain": [
              "{'udom': 'Alpha character field used to describe the soil horizon that was sampled'}"
            ]
          },
          "metadata": {
            "tags": []
          }
        },
        {
          "output_type": "stream",
          "text": [
            "======\n",
            "Horizon_Char\n"
          ],
          "name": "stdout"
        },
        {
          "output_type": "display_data",
          "data": {
            "text/plain": [
              "{'udom': 'A characterization of how well the sampled soil horizon was defined'}"
            ]
          },
          "metadata": {
            "tags": []
          }
        },
        {
          "output_type": "stream",
          "text": [
            "======\n",
            "Organic_Conc\n"
          ],
          "name": "stdout"
        },
        {
          "output_type": "display_data",
          "data": {
            "text/plain": [
              "{'udom': 'A general observation on the amount of organic material found in the sampled soil'}"
            ]
          },
          "metadata": {
            "tags": []
          }
        },
        {
          "output_type": "stream",
          "text": [
            "======\n",
            "Soil_Moisture\n"
          ],
          "name": "stdout"
        },
        {
          "output_type": "display_data",
          "data": {
            "text/plain": [
              "{'udom': 'A general observation on the amount of moisture observed at the soil sample site'}"
            ]
          },
          "metadata": {
            "tags": []
          }
        },
        {
          "output_type": "stream",
          "text": [
            "======\n",
            "Sample_Prep\n"
          ],
          "name": "stdout"
        },
        {
          "output_type": "display_data",
          "data": {
            "text/plain": [
              "{'udom': 'Alpha character field used to describe the sample preparation methods'}"
            ]
          },
          "metadata": {
            "tags": []
          }
        },
        {
          "output_type": "stream",
          "text": [
            "======\n",
            "Al_pct_ICP60\n"
          ],
          "name": "stdout"
        },
        {
          "output_type": "display_data",
          "data": {
            "text/plain": [
              "{'rdom': {'attrunit': 'weight percent (% or pct)',\n",
              "  'rdommax': '19.3',\n",
              "  'rdommin': '0.01'}}"
            ]
          },
          "metadata": {
            "tags": []
          }
        },
        {
          "output_type": "stream",
          "text": [
            "======\n",
            "Ca_pct_ICP60\n"
          ],
          "name": "stdout"
        },
        {
          "output_type": "display_data",
          "data": {
            "text/plain": [
              "{'rdom': {'attrunit': 'weight percent (% or pct)',\n",
              "  'rdommax': '48.9',\n",
              "  'rdommin': '-0.01'}}"
            ]
          },
          "metadata": {
            "tags": []
          }
        },
        {
          "output_type": "stream",
          "text": [
            "======\n",
            "Fe_pct_ICP60\n"
          ],
          "name": "stdout"
        },
        {
          "output_type": "display_data",
          "data": {
            "text/plain": [
              "{'rdom': {'attrunit': 'weight percent (% or pct)',\n",
              "  'rdommax': '42.5',\n",
              "  'rdommin': '0.02'}}"
            ]
          },
          "metadata": {
            "tags": []
          }
        },
        {
          "output_type": "stream",
          "text": [
            "======\n",
            "K_pct_ICP60\n"
          ],
          "name": "stdout"
        },
        {
          "output_type": "display_data",
          "data": {
            "text/plain": [
              "{'rdom': {'attrunit': 'weight percent (% or pct)',\n",
              "  'rdommax': '12.2',\n",
              "  'rdommin': '-0.01'}}"
            ]
          },
          "metadata": {
            "tags": []
          }
        },
        {
          "output_type": "stream",
          "text": [
            "======\n",
            "Mg_pct_ICP60\n"
          ],
          "name": "stdout"
        },
        {
          "output_type": "display_data",
          "data": {
            "text/plain": [
              "{'rdom': {'attrunit': 'weight percent (% or pct)',\n",
              "  'rdommax': '13.7',\n",
              "  'rdommin': '-0.01'}}"
            ]
          },
          "metadata": {
            "tags": []
          }
        },
        {
          "output_type": "stream",
          "text": [
            "======\n",
            "P_pct_ICP60\n"
          ],
          "name": "stdout"
        },
        {
          "output_type": "display_data",
          "data": {
            "text/plain": [
              "{'rdom': {'attrunit': 'weight percent (% or pct)',\n",
              "  'rdommax': '17.7',\n",
              "  'rdommin': '-0.01'}}"
            ]
          },
          "metadata": {
            "tags": []
          }
        },
        {
          "output_type": "stream",
          "text": [
            "======\n",
            "S_pct_ICP60\n"
          ],
          "name": "stdout"
        },
        {
          "output_type": "display_data",
          "data": {
            "text/plain": [
              "{'rdom': {'attrunit': 'weight percent (% or pct)',\n",
              "  'rdommax': '30.4',\n",
              "  'rdommin': '-0.1'}}"
            ]
          },
          "metadata": {
            "tags": []
          }
        },
        {
          "output_type": "stream",
          "text": [
            "======\n",
            "Si_pct_ICP60\n"
          ],
          "name": "stdout"
        },
        {
          "output_type": "display_data",
          "data": {
            "text/plain": [
              "{'rdom': {'attrunit': 'weight percent (% or pct)',\n",
              "  'rdommax': '45.1',\n",
              "  'rdommin': '0.01'}}"
            ]
          },
          "metadata": {
            "tags": []
          }
        },
        {
          "output_type": "stream",
          "text": [
            "======\n",
            "Ti_pct_ICP60\n"
          ],
          "name": "stdout"
        },
        {
          "output_type": "display_data",
          "data": {
            "text/plain": [
              "{'rdom': {'attrunit': 'weight percent (% or pct)',\n",
              "  'rdommax': '2.71',\n",
              "  'rdommin': '-0.01'}}"
            ]
          },
          "metadata": {
            "tags": []
          }
        },
        {
          "output_type": "stream",
          "text": [
            "======\n",
            "Ag_ppm_ICP60\n"
          ],
          "name": "stdout"
        },
        {
          "output_type": "display_data",
          "data": {
            "text/plain": [
              "{'rdom': {'attrunit': 'parts per million by weight (ppm)',\n",
              "  'rdommax': '893',\n",
              "  'rdommin': '-1'}}"
            ]
          },
          "metadata": {
            "tags": []
          }
        },
        {
          "output_type": "stream",
          "text": [
            "======\n",
            "As_ppm_ICP60\n"
          ],
          "name": "stdout"
        },
        {
          "output_type": "display_data",
          "data": {
            "text/plain": [
              "{'rdom': {'attrunit': 'parts per million by weight (ppm)',\n",
              "  'rdommax': '89500',\n",
              "  'rdommin': '-5'}}"
            ]
          },
          "metadata": {
            "tags": []
          }
        },
        {
          "output_type": "stream",
          "text": [
            "======\n",
            "B_ppm_ICP60\n"
          ],
          "name": "stdout"
        },
        {
          "output_type": "display_data",
          "data": {
            "text/plain": [
              "{'rdom': {'attrunit': 'parts per million by weight (ppm)',\n",
              "  'rdommax': '607',\n",
              "  'rdommin': '-10'}}"
            ]
          },
          "metadata": {
            "tags": []
          }
        },
        {
          "output_type": "stream",
          "text": [
            "======\n",
            "Ba_ppm_ICP60\n"
          ],
          "name": "stdout"
        },
        {
          "output_type": "display_data",
          "data": {
            "text/plain": [
              "{'rdom': {'attrunit': 'parts per million by weight (ppm)',\n",
              "  'rdommax': '101000',\n",
              "  'rdommin': '4.1'}}"
            ]
          },
          "metadata": {
            "tags": []
          }
        },
        {
          "output_type": "stream",
          "text": [
            "======\n",
            "Be_ppm_ICP60\n"
          ],
          "name": "stdout"
        },
        {
          "output_type": "display_data",
          "data": {
            "text/plain": [
              "{'rdom': {'attrunit': 'parts per million by weight (ppm)',\n",
              "  'rdommax': '190',\n",
              "  'rdommin': '-5'}}"
            ]
          },
          "metadata": {
            "tags": []
          }
        },
        {
          "output_type": "stream",
          "text": [
            "======\n",
            "Bi_ppm_ICP60\n"
          ],
          "name": "stdout"
        },
        {
          "output_type": "display_data",
          "data": {
            "text/plain": [
              "{'rdom': {'attrunit': 'parts per million by weight (ppm)',\n",
              "  'rdommax': '118',\n",
              "  'rdommin': '-0.1'}}"
            ]
          },
          "metadata": {
            "tags": []
          }
        },
        {
          "output_type": "stream",
          "text": [
            "======\n",
            "Cd_ppm_ICP60\n"
          ],
          "name": "stdout"
        },
        {
          "output_type": "display_data",
          "data": {
            "text/plain": [
              "{'rdom': {'attrunit': 'parts per million by weight (ppm)',\n",
              "  'rdommax': '466',\n",
              "  'rdommin': '-0.2'}}"
            ]
          },
          "metadata": {
            "tags": []
          }
        },
        {
          "output_type": "stream",
          "text": [
            "======\n",
            "Ce_ppm_ICP60\n"
          ],
          "name": "stdout"
        },
        {
          "output_type": "display_data",
          "data": {
            "text/plain": [
              "{'rdom': {'attrunit': 'parts per million by weight (ppm)',\n",
              "  'rdommax': '30400',\n",
              "  'rdommin': '1.1'}}"
            ]
          },
          "metadata": {
            "tags": []
          }
        },
        {
          "output_type": "stream",
          "text": [
            "======\n",
            "Co_ppm_ICP60\n"
          ],
          "name": "stdout"
        },
        {
          "output_type": "display_data",
          "data": {
            "text/plain": [
              "{'rdom': {'attrunit': 'parts per million by weight (ppm)',\n",
              "  'rdommax': '297',\n",
              "  'rdommin': '-0.5'}}"
            ]
          },
          "metadata": {
            "tags": []
          }
        },
        {
          "output_type": "stream",
          "text": [
            "======\n",
            "Cr_ppm_ICP60\n"
          ],
          "name": "stdout"
        },
        {
          "output_type": "display_data",
          "data": {
            "text/plain": [
              "{'rdom': {'attrunit': 'parts per million by weight (ppm)',\n",
              "  'rdommax': '3910',\n",
              "  'rdommin': '-10'}}"
            ]
          },
          "metadata": {
            "tags": []
          }
        },
        {
          "output_type": "stream",
          "text": [
            "======\n",
            "Cs_ppm_ICP60\n"
          ],
          "name": "stdout"
        },
        {
          "output_type": "display_data",
          "data": {
            "text/plain": [
              "{'rdom': {'attrunit': 'parts per million by weight (ppm)',\n",
              "  'rdommax': '213',\n",
              "  'rdommin': '-0.1'}}"
            ]
          },
          "metadata": {
            "tags": []
          }
        },
        {
          "output_type": "stream",
          "text": [
            "======\n",
            "Cu_ppm_ICP60\n"
          ],
          "name": "stdout"
        },
        {
          "output_type": "display_data",
          "data": {
            "text/plain": [
              "{'rdom': {'attrunit': 'parts per million by weight (ppm)',\n",
              "  'rdommax': '256000',\n",
              "  'rdommin': '-5'}}"
            ]
          },
          "metadata": {
            "tags": []
          }
        },
        {
          "output_type": "stream",
          "text": [
            "======\n",
            "Dy_ppm_ICP60\n"
          ],
          "name": "stdout"
        },
        {
          "output_type": "display_data",
          "data": {
            "text/plain": [
              "{'rdom': {'attrunit': 'parts per million by weight (ppm)',\n",
              "  'rdommax': '183',\n",
              "  'rdommin': '0.11'}}"
            ]
          },
          "metadata": {
            "tags": []
          }
        },
        {
          "output_type": "stream",
          "text": [
            "======\n",
            "Er_ppm_ICP60\n"
          ],
          "name": "stdout"
        },
        {
          "output_type": "display_data",
          "data": {
            "text/plain": [
              "{'rdom': {'attrunit': 'parts per million by weight (ppm)',\n",
              "  'rdommax': '76.1',\n",
              "  'rdommin': '-0.05'}}"
            ]
          },
          "metadata": {
            "tags": []
          }
        },
        {
          "output_type": "stream",
          "text": [
            "======\n",
            "Eu_ppm_ICP60\n"
          ],
          "name": "stdout"
        },
        {
          "output_type": "display_data",
          "data": {
            "text/plain": [
              "{'rdom': {'attrunit': 'parts per million by weight (ppm)',\n",
              "  'rdommax': '212',\n",
              "  'rdommin': '-0.05'}}"
            ]
          },
          "metadata": {
            "tags": []
          }
        },
        {
          "output_type": "stream",
          "text": [
            "======\n",
            "Ga_ppm_ICP60\n"
          ],
          "name": "stdout"
        },
        {
          "output_type": "display_data",
          "data": {
            "text/plain": [
              "{'rdom': {'attrunit': 'parts per million by weight (ppm)',\n",
              "  'rdommax': '180',\n",
              "  'rdommin': '-0.01'}}"
            ]
          },
          "metadata": {
            "tags": []
          }
        },
        {
          "output_type": "stream",
          "text": [
            "======\n",
            "Gd_ppm_ICP60\n"
          ],
          "name": "stdout"
        },
        {
          "output_type": "display_data",
          "data": {
            "text/plain": [
              "{'rdom': {'attrunit': 'parts per million by weight (ppm)',\n",
              "  'rdommax': '601',\n",
              "  'rdommin': '0.19'}}"
            ]
          },
          "metadata": {
            "tags": []
          }
        },
        {
          "output_type": "stream",
          "text": [
            "======\n",
            "Ge_ppm_ICP60\n"
          ],
          "name": "stdout"
        },
        {
          "output_type": "display_data",
          "data": {
            "text/plain": [
              "{'rdom': {'attrunit': 'parts per million by weight (ppm)',\n",
              "  'rdommax': '66',\n",
              "  'rdommin': '-1'}}"
            ]
          },
          "metadata": {
            "tags": []
          }
        },
        {
          "output_type": "stream",
          "text": [
            "======\n",
            "Hf_ppm_ICP60\n"
          ],
          "name": "stdout"
        },
        {
          "output_type": "display_data",
          "data": {
            "text/plain": [
              "{'rdom': {'attrunit': 'parts per million by weight (ppm)',\n",
              "  'rdommax': '47',\n",
              "  'rdommin': '-1'}}"
            ]
          },
          "metadata": {
            "tags": []
          }
        },
        {
          "output_type": "stream",
          "text": [
            "======\n",
            "Ho_ppm_ICP60\n"
          ],
          "name": "stdout"
        },
        {
          "output_type": "display_data",
          "data": {
            "text/plain": [
              "{'rdom': {'attrunit': 'parts per million by weight (ppm)',\n",
              "  'rdommax': '29.9',\n",
              "  'rdommin': '-0.05'}}"
            ]
          },
          "metadata": {
            "tags": []
          }
        },
        {
          "output_type": "stream",
          "text": [
            "======\n",
            "In_ppm_ICP60\n"
          ],
          "name": "stdout"
        },
        {
          "output_type": "display_data",
          "data": {
            "text/plain": [
              "{'rdom': {'attrunit': 'parts per million by weight (ppm)',\n",
              "  'rdommax': '11.8',\n",
              "  'rdommin': '-0.2'}}"
            ]
          },
          "metadata": {
            "tags": []
          }
        },
        {
          "output_type": "stream",
          "text": [
            "======\n",
            "La_ppm_ICP60\n"
          ],
          "name": "stdout"
        },
        {
          "output_type": "display_data",
          "data": {
            "text/plain": [
              "{'rdom': {'attrunit': 'parts per million by weight (ppm)',\n",
              "  'rdommax': '17300',\n",
              "  'rdommin': '0.5'}}"
            ]
          },
          "metadata": {
            "tags": []
          }
        },
        {
          "output_type": "stream",
          "text": [
            "======\n",
            "Li_ppm_ICP60\n"
          ],
          "name": "stdout"
        },
        {
          "output_type": "display_data",
          "data": {
            "text/plain": [
              "{'rdom': {'attrunit': 'parts per million by weight (ppm)',\n",
              "  'rdommax': '967',\n",
              "  'rdommin': '-10'}}"
            ]
          },
          "metadata": {
            "tags": []
          }
        },
        {
          "output_type": "stream",
          "text": [
            "======\n",
            "Lu_ppm_ICP60\n"
          ],
          "name": "stdout"
        },
        {
          "output_type": "display_data",
          "data": {
            "text/plain": [
              "{'rdom': {'attrunit': 'parts per million by weight (ppm)',\n",
              "  'rdommax': '7.24',\n",
              "  'rdommin': '-0.05'}}"
            ]
          },
          "metadata": {
            "tags": []
          }
        },
        {
          "output_type": "stream",
          "text": [
            "======\n",
            "Mn_ppm_ICP60\n"
          ],
          "name": "stdout"
        },
        {
          "output_type": "display_data",
          "data": {
            "text/plain": [
              "{'rdom': {'attrunit': 'parts per million by weight (ppm)',\n",
              "  'rdommax': '425000',\n",
              "  'rdommin': '-10'}}"
            ]
          },
          "metadata": {
            "tags": []
          }
        },
        {
          "output_type": "stream",
          "text": [
            "======\n",
            "Mo_ppm_ICP60\n"
          ],
          "name": "stdout"
        },
        {
          "output_type": "display_data",
          "data": {
            "text/plain": [
              "{'rdom': {'attrunit': 'parts per million by weight (ppm)',\n",
              "  'rdommax': '331',\n",
              "  'rdommin': '-2'}}"
            ]
          },
          "metadata": {
            "tags": []
          }
        },
        {
          "output_type": "stream",
          "text": [
            "======\n",
            "Nb_ppm_ICP60\n"
          ],
          "name": "stdout"
        },
        {
          "output_type": "display_data",
          "data": {
            "text/plain": [
              "{'rdom': {'attrunit': 'parts per million by weight (ppm)',\n",
              "  'rdommax': '1450',\n",
              "  'rdommin': '-0.1'}}"
            ]
          },
          "metadata": {
            "tags": []
          }
        },
        {
          "output_type": "stream",
          "text": [
            "======\n",
            "Nd_ppm_ICP60\n"
          ],
          "name": "stdout"
        },
        {
          "output_type": "display_data",
          "data": {
            "text/plain": [
              "{'rdom': {'attrunit': 'parts per million by weight (ppm)',\n",
              "  'rdommax': '7820',\n",
              "  'rdommin': '1'}}"
            ]
          },
          "metadata": {
            "tags": []
          }
        },
        {
          "output_type": "stream",
          "text": [
            "======\n",
            "Ni_ppm_ICP60\n"
          ],
          "name": "stdout"
        },
        {
          "output_type": "display_data",
          "data": {
            "text/plain": [
              "{'rdom': {'attrunit': 'parts per million by weight (ppm)',\n",
              "  'rdommax': '1270',\n",
              "  'rdommin': '-5'}}"
            ]
          },
          "metadata": {
            "tags": []
          }
        },
        {
          "output_type": "stream",
          "text": [
            "======\n",
            "Pb_ppm_ICP60\n"
          ],
          "name": "stdout"
        },
        {
          "output_type": "display_data",
          "data": {
            "text/plain": [
              "{'rdom': {'attrunit': 'parts per million by weight (ppm)',\n",
              "  'rdommax': '77000',\n",
              "  'rdommin': '-5'}}"
            ]
          },
          "metadata": {
            "tags": []
          }
        },
        {
          "output_type": "stream",
          "text": [
            "======\n",
            "Pr_ppm_ICP60\n"
          ],
          "name": "stdout"
        },
        {
          "output_type": "display_data",
          "data": {
            "text/plain": [
              "{'rdom': {'attrunit': 'parts per million by weight (ppm)',\n",
              "  'rdommax': '2890',\n",
              "  'rdommin': '0.18'}}"
            ]
          },
          "metadata": {
            "tags": []
          }
        },
        {
          "output_type": "stream",
          "text": [
            "======\n",
            "Rb_ppm_ICP60\n"
          ],
          "name": "stdout"
        },
        {
          "output_type": "display_data",
          "data": {
            "text/plain": [
              "{'rdom': {'attrunit': 'parts per million by weight (ppm)',\n",
              "  'rdommax': '1130',\n",
              "  'rdommin': '-0.2'}}"
            ]
          },
          "metadata": {
            "tags": []
          }
        },
        {
          "output_type": "stream",
          "text": [
            "======\n",
            "Re_ppm_ICP60\n"
          ],
          "name": "stdout"
        },
        {
          "output_type": "display_data",
          "data": {
            "text/plain": [
              "{'rdom': {'attrunit': 'parts per million by weight (ppm)',\n",
              "  'rdommax': '0.33',\n",
              "  'rdommin': '-0.02'}}"
            ]
          },
          "metadata": {
            "tags": []
          }
        },
        {
          "output_type": "stream",
          "text": [
            "======\n",
            "Sb_ppm_ICP60\n"
          ],
          "name": "stdout"
        },
        {
          "output_type": "display_data",
          "data": {
            "text/plain": [
              "{'rdom': {'attrunit': 'parts per million by weight (ppm)',\n",
              "  'rdommax': '3060',\n",
              "  'rdommin': '-0.1'}}"
            ]
          },
          "metadata": {
            "tags": []
          }
        },
        {
          "output_type": "stream",
          "text": [
            "======\n",
            "Sc_ppm_ICP60\n"
          ],
          "name": "stdout"
        },
        {
          "output_type": "display_data",
          "data": {
            "text/plain": [
              "{'rdom': {'attrunit': 'parts per million by weight (ppm)',\n",
              "  'rdommax': '51',\n",
              "  'rdommin': '-5'}}"
            ]
          },
          "metadata": {
            "tags": []
          }
        },
        {
          "output_type": "stream",
          "text": [
            "======\n",
            "Se_ppm_ICP60\n"
          ],
          "name": "stdout"
        },
        {
          "output_type": "display_data",
          "data": {
            "text/plain": [
              "{'rdom': {'attrunit': 'parts per million by weight (ppm)',\n",
              "  'rdommax': '142',\n",
              "  'rdommin': '-5'}}"
            ]
          },
          "metadata": {
            "tags": []
          }
        },
        {
          "output_type": "stream",
          "text": [
            "======\n",
            "Sm_ppm_ICP60\n"
          ],
          "name": "stdout"
        },
        {
          "output_type": "display_data",
          "data": {
            "text/plain": [
              "{'rdom': {'attrunit': 'parts per million by weight (ppm)',\n",
              "  'rdommax': '856',\n",
              "  'rdommin': '0.2'}}"
            ]
          },
          "metadata": {
            "tags": []
          }
        },
        {
          "output_type": "stream",
          "text": [
            "======\n",
            "Sn_ppm_ICP60\n"
          ],
          "name": "stdout"
        },
        {
          "output_type": "display_data",
          "data": {
            "text/plain": [
              "{'rdom': {'attrunit': 'parts per million by weight (ppm)',\n",
              "  'rdommax': '246',\n",
              "  'rdommin': '-1'}}"
            ]
          },
          "metadata": {
            "tags": []
          }
        },
        {
          "output_type": "stream",
          "text": [
            "======\n",
            "Sr_ppm_ICP60\n"
          ],
          "name": "stdout"
        },
        {
          "output_type": "display_data",
          "data": {
            "text/plain": [
              "{'rdom': {'attrunit': 'parts per million by weight (ppm)',\n",
              "  'rdommax': '49100',\n",
              "  'rdommin': '6.2'}}"
            ]
          },
          "metadata": {
            "tags": []
          }
        },
        {
          "output_type": "stream",
          "text": [
            "======\n",
            "Ta_ppm_ICP60\n"
          ],
          "name": "stdout"
        },
        {
          "output_type": "display_data",
          "data": {
            "text/plain": [
              "{'rdom': {'attrunit': 'parts per million by weight (ppm)',\n",
              "  'rdommax': '28.7',\n",
              "  'rdommin': '-0.5'}}"
            ]
          },
          "metadata": {
            "tags": []
          }
        },
        {
          "output_type": "stream",
          "text": [
            "======\n",
            "Tb_ppm_ICP60\n"
          ],
          "name": "stdout"
        },
        {
          "output_type": "display_data",
          "data": {
            "text/plain": [
              "{'rdom': {'attrunit': 'parts per million by weight (ppm)',\n",
              "  'rdommax': '66.2',\n",
              "  'rdommin': '-0.05'}}"
            ]
          },
          "metadata": {
            "tags": []
          }
        },
        {
          "output_type": "stream",
          "text": [
            "======\n",
            "Te_ppm_ICP60\n"
          ],
          "name": "stdout"
        },
        {
          "output_type": "display_data",
          "data": {
            "text/plain": [
              "{'rdom': {'attrunit': 'parts per million by weight (ppm)',\n",
              "  'rdommax': '21.5',\n",
              "  'rdommin': '-0.5'}}"
            ]
          },
          "metadata": {
            "tags": []
          }
        },
        {
          "output_type": "stream",
          "text": [
            "======\n",
            "Th_ppm_ICP60\n"
          ],
          "name": "stdout"
        },
        {
          "output_type": "display_data",
          "data": {
            "text/plain": [
              "{'rdom': {'attrunit': 'parts per million by weight (ppm)',\n",
              "  'rdommax': '575',\n",
              "  'rdommin': '-0.1'}}"
            ]
          },
          "metadata": {
            "tags": []
          }
        },
        {
          "output_type": "stream",
          "text": [
            "======\n",
            "Tl_ppm_ICP60\n"
          ],
          "name": "stdout"
        },
        {
          "output_type": "display_data",
          "data": {
            "text/plain": [
              "{'rdom': {'attrunit': 'parts per million by weight (ppm)',\n",
              "  'rdommax': '30.7',\n",
              "  'rdommin': '-0.5'}}"
            ]
          },
          "metadata": {
            "tags": []
          }
        },
        {
          "output_type": "stream",
          "text": [
            "======\n",
            "Tm_ppm_ICP60\n"
          ],
          "name": "stdout"
        },
        {
          "output_type": "display_data",
          "data": {
            "text/plain": [
              "{'rdom': {'attrunit': 'parts per million by weight (ppm)',\n",
              "  'rdommax': '9.45',\n",
              "  'rdommin': '-0.05'}}"
            ]
          },
          "metadata": {
            "tags": []
          }
        },
        {
          "output_type": "stream",
          "text": [
            "======\n",
            "U_ppm_ICP60\n"
          ],
          "name": "stdout"
        },
        {
          "output_type": "display_data",
          "data": {
            "text/plain": [
              "{'rdom': {'attrunit': 'parts per million by weight (ppm)',\n",
              "  'rdommax': '182',\n",
              "  'rdommin': '-0.05'}}"
            ]
          },
          "metadata": {
            "tags": []
          }
        },
        {
          "output_type": "stream",
          "text": [
            "======\n",
            "V_ppm_ICP60\n"
          ],
          "name": "stdout"
        },
        {
          "output_type": "display_data",
          "data": {
            "text/plain": [
              "{'rdom': {'attrunit': 'parts per million by weight (ppm)',\n",
              "  'rdommax': '1340',\n",
              "  'rdommin': '-5'}}"
            ]
          },
          "metadata": {
            "tags": []
          }
        },
        {
          "output_type": "stream",
          "text": [
            "======\n",
            "W_ppm_ICP60\n"
          ],
          "name": "stdout"
        },
        {
          "output_type": "display_data",
          "data": {
            "text/plain": [
              "{'rdom': {'attrunit': 'parts per million by weight (ppm)',\n",
              "  'rdommax': '682',\n",
              "  'rdommin': '-1'}}"
            ]
          },
          "metadata": {
            "tags": []
          }
        },
        {
          "output_type": "stream",
          "text": [
            "======\n",
            "Y_ppm_ICP60\n"
          ],
          "name": "stdout"
        },
        {
          "output_type": "display_data",
          "data": {
            "text/plain": [
              "{'rdom': {'attrunit': 'parts per million by weight (ppm)',\n",
              "  'rdommax': '1150',\n",
              "  'rdommin': '0.8'}}"
            ]
          },
          "metadata": {
            "tags": []
          }
        },
        {
          "output_type": "stream",
          "text": [
            "======\n",
            "Yb_ppm_ICP60\n"
          ],
          "name": "stdout"
        },
        {
          "output_type": "display_data",
          "data": {
            "text/plain": [
              "{'rdom': {'attrunit': 'parts per million by weight (ppm)',\n",
              "  'rdommax': '59.5',\n",
              "  'rdommin': '-0.1'}}"
            ]
          },
          "metadata": {
            "tags": []
          }
        },
        {
          "output_type": "stream",
          "text": [
            "======\n",
            "Zn_ppm_ICP60\n"
          ],
          "name": "stdout"
        },
        {
          "output_type": "display_data",
          "data": {
            "text/plain": [
              "{'rdom': {'attrunit': 'parts per million by weight (ppm)',\n",
              "  'rdommax': '92500',\n",
              "  'rdommin': '-5'}}"
            ]
          },
          "metadata": {
            "tags": []
          }
        },
        {
          "output_type": "stream",
          "text": [
            "======\n",
            "Zr_ppm_ICP60\n"
          ],
          "name": "stdout"
        },
        {
          "output_type": "display_data",
          "data": {
            "text/plain": [
              "{'rdom': {'attrunit': 'parts per million by weight (ppm)',\n",
              "  'rdommax': '1800',\n",
              "  'rdommin': '1.3'}}"
            ]
          },
          "metadata": {
            "tags": []
          }
        },
        {
          "output_type": "stream",
          "text": [
            "======\n",
            "SiO2_pct_WDX\n"
          ],
          "name": "stdout"
        },
        {
          "output_type": "display_data",
          "data": {
            "text/plain": [
              "{'rdom': {'attrunit': 'weight percent (% or pct)',\n",
              "  'rdommax': '93',\n",
              "  'rdommin': '0.04'}}"
            ]
          },
          "metadata": {
            "tags": []
          }
        },
        {
          "output_type": "stream",
          "text": [
            "======\n",
            "TiO2_pct_WDX\n"
          ],
          "name": "stdout"
        },
        {
          "output_type": "display_data",
          "data": {
            "text/plain": [
              "{'rdom': {'attrunit': 'weight percent (% or pct)',\n",
              "  'rdommax': '4.53',\n",
              "  'rdommin': '-0.01'}}"
            ]
          },
          "metadata": {
            "tags": []
          }
        },
        {
          "output_type": "stream",
          "text": [
            "======\n",
            "Al2O3_pct_WDX\n"
          ],
          "name": "stdout"
        },
        {
          "output_type": "display_data",
          "data": {
            "text/plain": [
              "{'rdom': {'attrunit': 'weight percent (% or pct)',\n",
              "  'rdommax': '36.7',\n",
              "  'rdommin': '0.03'}}"
            ]
          },
          "metadata": {
            "tags": []
          }
        },
        {
          "output_type": "stream",
          "text": [
            "======\n",
            "Fe2O3_pct_WDX\n"
          ],
          "name": "stdout"
        },
        {
          "output_type": "display_data",
          "data": {
            "text/plain": [
              "{'rdom': {'attrunit': 'weight percent (% or pct)',\n",
              "  'rdommax': '62.7',\n",
              "  'rdommin': '0.06'}}"
            ]
          },
          "metadata": {
            "tags": []
          }
        },
        {
          "output_type": "stream",
          "text": [
            "======\n",
            "MnO_pct_WDX\n"
          ],
          "name": "stdout"
        },
        {
          "output_type": "display_data",
          "data": {
            "text/plain": [
              "{'rdom': {'attrunit': 'weight percent (% or pct)',\n",
              "  'rdommax': '51.1',\n",
              "  'rdommin': '-0.01'}}"
            ]
          },
          "metadata": {
            "tags": []
          }
        },
        {
          "output_type": "stream",
          "text": [
            "======\n",
            "MgO_pct_WDX\n"
          ],
          "name": "stdout"
        },
        {
          "output_type": "display_data",
          "data": {
            "text/plain": [
              "{'rdom': {'attrunit': 'weight percent (% or pct)',\n",
              "  'rdommax': '23.2',\n",
              "  'rdommin': '-0.01'}}"
            ]
          },
          "metadata": {
            "tags": []
          }
        },
        {
          "output_type": "stream",
          "text": [
            "======\n",
            "CaO_pct_WDX\n"
          ],
          "name": "stdout"
        },
        {
          "output_type": "display_data",
          "data": {
            "text/plain": [
              "{'rdom': {'attrunit': 'weight percent (% or pct)',\n",
              "  'rdommax': '65',\n",
              "  'rdommin': '0.01'}}"
            ]
          },
          "metadata": {
            "tags": []
          }
        },
        {
          "output_type": "stream",
          "text": [
            "======\n",
            "Na2O_pct_WDX\n"
          ],
          "name": "stdout"
        },
        {
          "output_type": "display_data",
          "data": {
            "text/plain": [
              "{'rdom': {'attrunit': 'weight percent (% or pct)',\n",
              "  'rdommax': '11.4',\n",
              "  'rdommin': '-0.01'}}"
            ]
          },
          "metadata": {
            "tags": []
          }
        },
        {
          "output_type": "stream",
          "text": [
            "======\n",
            "K2O_pct_WDX\n"
          ],
          "name": "stdout"
        },
        {
          "output_type": "display_data",
          "data": {
            "text/plain": [
              "{'rdom': {'attrunit': 'weight percent (% or pct)',\n",
              "  'rdommax': '14.7',\n",
              "  'rdommin': '-0.01'}}"
            ]
          },
          "metadata": {
            "tags": []
          }
        },
        {
          "output_type": "stream",
          "text": [
            "======\n",
            "P2O5_pct_WDX\n"
          ],
          "name": "stdout"
        },
        {
          "output_type": "display_data",
          "data": {
            "text/plain": [
              "{'rdom': {'attrunit': 'weight percent (% or pct)',\n",
              "  'rdommax': '37.1',\n",
              "  'rdommin': '-0.01'}}"
            ]
          },
          "metadata": {
            "tags": []
          }
        },
        {
          "output_type": "stream",
          "text": [
            "======\n",
            "BaO_pct_WDX\n"
          ],
          "name": "stdout"
        },
        {
          "output_type": "display_data",
          "data": {
            "text/plain": [
              "{'rdom': {'attrunit': 'weight percent (% or pct)',\n",
              "  'rdommax': '48',\n",
              "  'rdommin': '-0.01'}}"
            ]
          },
          "metadata": {
            "tags": []
          }
        },
        {
          "output_type": "stream",
          "text": [
            "======\n",
            "Cr2O3_pct_WDX\n"
          ],
          "name": "stdout"
        },
        {
          "output_type": "display_data",
          "data": {
            "text/plain": [
              "{'rdom': {'attrunit': 'weight percent (% or pct)',\n",
              "  'rdommax': '0.19',\n",
              "  'rdommin': '-0.01'}}"
            ]
          },
          "metadata": {
            "tags": []
          }
        },
        {
          "output_type": "stream",
          "text": [
            "======\n",
            "SrO_pct_WDX\n"
          ],
          "name": "stdout"
        },
        {
          "output_type": "display_data",
          "data": {
            "text/plain": [
              "{'rdom': {'attrunit': 'weight percent (% or pct)',\n",
              "  'rdommax': '6.19',\n",
              "  'rdommin': '-0.01'}}"
            ]
          },
          "metadata": {
            "tags": []
          }
        },
        {
          "output_type": "stream",
          "text": [
            "======\n",
            "V2O5_pct_WDX\n"
          ],
          "name": "stdout"
        },
        {
          "output_type": "display_data",
          "data": {
            "text/plain": [
              "{'rdom': {'attrunit': 'weight percent (% or pct)',\n",
              "  'rdommax': '0.17',\n",
              "  'rdommin': '-0.01'}}"
            ]
          },
          "metadata": {
            "tags": []
          }
        },
        {
          "output_type": "stream",
          "text": [
            "======\n",
            "LOI_pct_WDX\n"
          ],
          "name": "stdout"
        },
        {
          "output_type": "display_data",
          "data": {
            "text/plain": [
              "{'rdom': {'attrunit': 'weight percent (% or pct)',\n",
              "  'rdommax': '56.3',\n",
              "  'rdommin': '0.19'}}"
            ]
          },
          "metadata": {
            "tags": []
          }
        },
        {
          "output_type": "stream",
          "text": [
            "======\n",
            "F_pct_ISE\n"
          ],
          "name": "stdout"
        },
        {
          "output_type": "display_data",
          "data": {
            "text/plain": [
              "{'rdom': {'attrunit': 'weight percent (% or pct)',\n",
              "  'rdommax': '36.4',\n",
              "  'rdommin': '0.01'}}"
            ]
          },
          "metadata": {
            "tags": []
          }
        },
        {
          "output_type": "stream",
          "text": [
            "======\n",
            "S_pct_IR\n"
          ],
          "name": "stdout"
        },
        {
          "output_type": "display_data",
          "data": {
            "text/plain": [
              "{'rdom': {'attrunit': 'weight percent (% or pct)',\n",
              "  'rdommax': '7.92',\n",
              "  'rdommin': '-0.005'}}"
            ]
          },
          "metadata": {
            "tags": []
          }
        },
        {
          "output_type": "stream",
          "text": [
            "======\n",
            "Au_ppb_FA\n"
          ],
          "name": "stdout"
        },
        {
          "output_type": "display_data",
          "data": {
            "text/plain": [
              "{'rdom': {'attrunit': 'parts per billion by weight (ppb)',\n",
              "  'rdommax': '59467',\n",
              "  'rdommin': '-1'}}"
            ]
          },
          "metadata": {
            "tags": []
          }
        },
        {
          "output_type": "stream",
          "text": [
            "======\n",
            "Pd_ppb_FA\n"
          ],
          "name": "stdout"
        },
        {
          "output_type": "display_data",
          "data": {
            "text/plain": [
              "{'rdom': {'attrunit': 'parts per billion by weight (ppb)',\n",
              "  'rdommax': '495',\n",
              "  'rdommin': '-1'}}"
            ]
          },
          "metadata": {
            "tags": []
          }
        },
        {
          "output_type": "stream",
          "text": [
            "======\n",
            "Pt_ppb_FA\n"
          ],
          "name": "stdout"
        },
        {
          "output_type": "display_data",
          "data": {
            "text/plain": [
              "{'rdom': {'attrunit': 'parts per billion by weight (ppb)',\n",
              "  'rdommax': '170',\n",
              "  'rdommin': '-5'}}"
            ]
          },
          "metadata": {
            "tags": []
          }
        },
        {
          "output_type": "stream",
          "text": [
            "======\n",
            "Al_pct_AR\n"
          ],
          "name": "stdout"
        },
        {
          "output_type": "display_data",
          "data": {
            "text/plain": [
              "{'rdom': {'attrunit': 'weight percent (% or pct)',\n",
              "  'rdommax': '3.45',\n",
              "  'rdommin': '-0.01'}}"
            ]
          },
          "metadata": {
            "tags": []
          }
        },
        {
          "output_type": "stream",
          "text": [
            "======\n",
            "Ca_pct_AR\n"
          ],
          "name": "stdout"
        },
        {
          "output_type": "display_data",
          "data": {
            "text/plain": [
              "{'rdom': {'attrunit': 'weight percent (% or pct)',\n",
              "  'rdommax': '19.9',\n",
              "  'rdommin': '-0.01'}}"
            ]
          },
          "metadata": {
            "tags": []
          }
        },
        {
          "output_type": "stream",
          "text": [
            "======\n",
            "Fe_pct_AR\n"
          ],
          "name": "stdout"
        },
        {
          "output_type": "display_data",
          "data": {
            "text/plain": [
              "{'rdom': {'attrunit': 'weight percent (% or pct)',\n",
              "  'rdommax': '14.5',\n",
              "  'rdommin': '-0.01'}}"
            ]
          },
          "metadata": {
            "tags": []
          }
        },
        {
          "output_type": "stream",
          "text": [
            "======\n",
            "K_pct_AR\n"
          ],
          "name": "stdout"
        },
        {
          "output_type": "display_data",
          "data": {
            "text/plain": [
              "{'rdom': {'attrunit': 'weight percent (% or pct)',\n",
              "  'rdommax': '0.87',\n",
              "  'rdommin': '-0.01'}}"
            ]
          },
          "metadata": {
            "tags": []
          }
        },
        {
          "output_type": "stream",
          "text": [
            "======\n",
            "Mg_pct_AR\n"
          ],
          "name": "stdout"
        },
        {
          "output_type": "display_data",
          "data": {
            "text/plain": [
              "{'rdom': {'attrunit': 'weight percent (% or pct)',\n",
              "  'rdommax': '10.8',\n",
              "  'rdommin': '-0.01'}}"
            ]
          },
          "metadata": {
            "tags": []
          }
        },
        {
          "output_type": "stream",
          "text": [
            "======\n",
            "Na_pct_AR\n"
          ],
          "name": "stdout"
        },
        {
          "output_type": "display_data",
          "data": {
            "text/plain": [
              "{'rdom': {'attrunit': 'weight percent (% or pct)',\n",
              "  'rdommax': '0.15',\n",
              "  'rdommin': '-0.01'}}"
            ]
          },
          "metadata": {
            "tags": []
          }
        },
        {
          "output_type": "stream",
          "text": [
            "======\n",
            "S_pct_AR\n"
          ],
          "name": "stdout"
        },
        {
          "output_type": "display_data",
          "data": {
            "text/plain": [
              "{'rdom': {'attrunit': 'weight percent (% or pct)',\n",
              "  'rdommax': '8.89',\n",
              "  'rdommin': '-0.01'}}"
            ]
          },
          "metadata": {
            "tags": []
          }
        },
        {
          "output_type": "stream",
          "text": [
            "======\n",
            "Ti_pct_AR\n"
          ],
          "name": "stdout"
        },
        {
          "output_type": "display_data",
          "data": {
            "text/plain": [
              "{'rdom': {'attrunit': 'weight percent (% or pct)',\n",
              "  'rdommax': '0.69',\n",
              "  'rdommin': '-0.01'}}"
            ]
          },
          "metadata": {
            "tags": []
          }
        },
        {
          "output_type": "stream",
          "text": [
            "======\n",
            "Ag_ppm_AR\n"
          ],
          "name": "stdout"
        },
        {
          "output_type": "display_data",
          "data": {
            "text/plain": [
              "{'rdom': {'attrunit': 'parts per million by weight (ppm)',\n",
              "  'rdommax': '93',\n",
              "  'rdommin': '-0.01'}}"
            ]
          },
          "metadata": {
            "tags": []
          }
        },
        {
          "output_type": "stream",
          "text": [
            "======\n",
            "As_ppm_AR\n"
          ],
          "name": "stdout"
        },
        {
          "output_type": "display_data",
          "data": {
            "text/plain": [
              "{'rdom': {'attrunit': 'parts per million by weight (ppm)',\n",
              "  'rdommax': '88300',\n",
              "  'rdommin': '0.8'}}"
            ]
          },
          "metadata": {
            "tags": []
          }
        },
        {
          "output_type": "stream",
          "text": [
            "======\n",
            "Au_ppm_AR\n"
          ],
          "name": "stdout"
        },
        {
          "output_type": "display_data",
          "data": {
            "text/plain": [
              "{'rdom': {'attrunit': 'parts per million by weight (ppm)',\n",
              "  'rdommax': '51.5',\n",
              "  'rdommin': '-0.005'}}"
            ]
          },
          "metadata": {
            "tags": []
          }
        },
        {
          "output_type": "stream",
          "text": [
            "======\n",
            "B_ppm_AR\n"
          ],
          "name": "stdout"
        },
        {
          "output_type": "display_data",
          "data": {
            "text/plain": [
              "{'rdom': {'attrunit': 'parts per million by weight (ppm)',\n",
              "  'rdommax': '93',\n",
              "  'rdommin': '-5'}}"
            ]
          },
          "metadata": {
            "tags": []
          }
        },
        {
          "output_type": "stream",
          "text": [
            "======\n",
            "Ba_ppm_AR\n"
          ],
          "name": "stdout"
        },
        {
          "output_type": "display_data",
          "data": {
            "text/plain": [
              "{'rdom': {'attrunit': 'parts per million by weight (ppm)',\n",
              "  'rdommax': '2810',\n",
              "  'rdommin': '-1'}}"
            ]
          },
          "metadata": {
            "tags": []
          }
        },
        {
          "output_type": "stream",
          "text": [
            "======\n",
            "Be_ppm_AR\n"
          ],
          "name": "stdout"
        },
        {
          "output_type": "display_data",
          "data": {
            "text/plain": [
              "{'rdom': {'attrunit': 'parts per million by weight (ppm)',\n",
              "  'rdommax': '23',\n",
              "  'rdommin': '-0.05'}}"
            ]
          },
          "metadata": {
            "tags": []
          }
        },
        {
          "output_type": "stream",
          "text": [
            "======\n",
            "Bi_ppm_AR\n"
          ],
          "name": "stdout"
        },
        {
          "output_type": "display_data",
          "data": {
            "text/plain": [
              "{'rdom': {'attrunit': 'parts per million by weight (ppm)',\n",
              "  'rdommax': '39.2',\n",
              "  'rdommin': '-0.01'}}"
            ]
          },
          "metadata": {
            "tags": []
          }
        },
        {
          "output_type": "stream",
          "text": [
            "======\n",
            "Cd_ppm_AR\n"
          ],
          "name": "stdout"
        },
        {
          "output_type": "display_data",
          "data": {
            "text/plain": [
              "{'rdom': {'attrunit': 'parts per million by weight (ppm)',\n",
              "  'rdommax': '30.4',\n",
              "  'rdommin': '-0.01'}}"
            ]
          },
          "metadata": {
            "tags": []
          }
        },
        {
          "output_type": "stream",
          "text": [
            "======\n",
            "Ce_ppm_AR\n"
          ],
          "name": "stdout"
        },
        {
          "output_type": "display_data",
          "data": {
            "text/plain": [
              "{'rdom': {'attrunit': 'parts per million by weight (ppm)',\n",
              "  'rdommax': '319',\n",
              "  'rdommin': '4.88'}}"
            ]
          },
          "metadata": {
            "tags": []
          }
        },
        {
          "output_type": "stream",
          "text": [
            "======\n",
            "Co_ppm_AR\n"
          ],
          "name": "stdout"
        },
        {
          "output_type": "display_data",
          "data": {
            "text/plain": [
              "{'rdom': {'attrunit': 'parts per million by weight (ppm)',\n",
              "  'rdommax': '143',\n",
              "  'rdommin': '0.5'}}"
            ]
          },
          "metadata": {
            "tags": []
          }
        },
        {
          "output_type": "stream",
          "text": [
            "======\n",
            "Cr_ppm_AR\n"
          ],
          "name": "stdout"
        },
        {
          "output_type": "display_data",
          "data": {
            "text/plain": [
              "{'rdom': {'attrunit': 'parts per million by weight (ppm)',\n",
              "  'rdommax': '508',\n",
              "  'rdommin': '-0.5'}}"
            ]
          },
          "metadata": {
            "tags": []
          }
        },
        {
          "output_type": "stream",
          "text": [
            "======\n",
            "Cs_ppm_AR\n"
          ],
          "name": "stdout"
        },
        {
          "output_type": "display_data",
          "data": {
            "text/plain": [
              "{'rdom': {'attrunit': 'parts per million by weight (ppm)',\n",
              "  'rdommax': '175',\n",
              "  'rdommin': '0.09'}}"
            ]
          },
          "metadata": {
            "tags": []
          }
        },
        {
          "output_type": "stream",
          "text": [
            "======\n",
            "Cu_ppm_AR\n"
          ],
          "name": "stdout"
        },
        {
          "output_type": "display_data",
          "data": {
            "text/plain": [
              "{'rdom': {'attrunit': 'parts per million by weight (ppm)',\n",
              "  'rdommax': '1240',\n",
              "  'rdommin': '-0.5'}}"
            ]
          },
          "metadata": {
            "tags": []
          }
        },
        {
          "output_type": "stream",
          "text": [
            "======\n",
            "Ga_ppm_AR\n"
          ],
          "name": "stdout"
        },
        {
          "output_type": "display_data",
          "data": {
            "text/plain": [
              "{'rdom': {'attrunit': 'parts per million by weight (ppm)',\n",
              "  'rdommax': '24.9',\n",
              "  'rdommin': '0.35'}}"
            ]
          },
          "metadata": {
            "tags": []
          }
        },
        {
          "output_type": "stream",
          "text": [
            "======\n",
            "Ge_ppm_AR\n"
          ],
          "name": "stdout"
        },
        {
          "output_type": "display_data",
          "data": {
            "text/plain": [
              "{'rdom': {'attrunit': 'parts per million by weight (ppm)',\n",
              "  'rdommax': '1.28',\n",
              "  'rdommin': '-0.05'}}"
            ]
          },
          "metadata": {
            "tags": []
          }
        },
        {
          "output_type": "stream",
          "text": [
            "======\n",
            "Hf_ppm_AR\n"
          ],
          "name": "stdout"
        },
        {
          "output_type": "display_data",
          "data": {
            "text/plain": [
              "{'rdom': {'attrunit': 'parts per million by weight (ppm)',\n",
              "  'rdommax': '3.72',\n",
              "  'rdommin': '-0.02'}}"
            ]
          },
          "metadata": {
            "tags": []
          }
        },
        {
          "output_type": "stream",
          "text": [
            "======\n",
            "Hg_ppm_AR\n"
          ],
          "name": "stdout"
        },
        {
          "output_type": "display_data",
          "data": {
            "text/plain": [
              "{'rdom': {'attrunit': 'parts per million by weight (ppm)',\n",
              "  'rdommax': '26.6',\n",
              "  'rdommin': '-0.01'}}"
            ]
          },
          "metadata": {
            "tags": []
          }
        },
        {
          "output_type": "stream",
          "text": [
            "======\n",
            "In_ppm_AR\n"
          ],
          "name": "stdout"
        },
        {
          "output_type": "display_data",
          "data": {
            "text/plain": [
              "{'rdom': {'attrunit': 'parts per million by weight (ppm)',\n",
              "  'rdommax': '12.7',\n",
              "  'rdommin': '-0.005'}}"
            ]
          },
          "metadata": {
            "tags": []
          }
        },
        {
          "output_type": "stream",
          "text": [
            "======\n",
            "La_ppm_AR\n"
          ],
          "name": "stdout"
        },
        {
          "output_type": "display_data",
          "data": {
            "text/plain": [
              "{'rdom': {'attrunit': 'parts per million by weight (ppm)',\n",
              "  'rdommax': '149',\n",
              "  'rdommin': '-0.1'}}"
            ]
          },
          "metadata": {
            "tags": []
          }
        },
        {
          "output_type": "stream",
          "text": [
            "======\n",
            "Li_ppm_AR\n"
          ],
          "name": "stdout"
        },
        {
          "output_type": "display_data",
          "data": {
            "text/plain": [
              "{'rdom': {'attrunit': 'parts per million by weight (ppm)',\n",
              "  'rdommax': '244',\n",
              "  'rdommin': '-0.1'}}"
            ]
          },
          "metadata": {
            "tags": []
          }
        },
        {
          "output_type": "stream",
          "text": [
            "======\n",
            "Mn_ppm_AR\n"
          ],
          "name": "stdout"
        },
        {
          "output_type": "display_data",
          "data": {
            "text/plain": [
              "{'rdom': {'attrunit': 'parts per million by weight (ppm)',\n",
              "  'rdommax': '15300',\n",
              "  'rdommin': '-1'}}"
            ]
          },
          "metadata": {
            "tags": []
          }
        },
        {
          "output_type": "stream",
          "text": [
            "======\n",
            "Mo_ppm_AR\n"
          ],
          "name": "stdout"
        },
        {
          "output_type": "display_data",
          "data": {
            "text/plain": [
              "{'rdom': {'attrunit': 'parts per million by weight (ppm)',\n",
              "  'rdommax': '77',\n",
              "  'rdommin': '-0.05'}}"
            ]
          },
          "metadata": {
            "tags": []
          }
        },
        {
          "output_type": "stream",
          "text": [
            "======\n",
            "Nb_ppm_AR\n"
          ],
          "name": "stdout"
        },
        {
          "output_type": "display_data",
          "data": {
            "text/plain": [
              "{'rdom': {'attrunit': 'parts per million by weight (ppm)',\n",
              "  'rdommax': '14',\n",
              "  'rdommin': '-0.05'}}"
            ]
          },
          "metadata": {
            "tags": []
          }
        },
        {
          "output_type": "stream",
          "text": [
            "======\n",
            "Ni_ppm_AR\n"
          ],
          "name": "stdout"
        },
        {
          "output_type": "display_data",
          "data": {
            "text/plain": [
              "{'rdom': {'attrunit': 'parts per million by weight (ppm)',\n",
              "  'rdommax': '1160',\n",
              "  'rdommin': '-0.5'}}"
            ]
          },
          "metadata": {
            "tags": []
          }
        },
        {
          "output_type": "stream",
          "text": [
            "======\n",
            "P_ppm_AR\n"
          ],
          "name": "stdout"
        },
        {
          "output_type": "display_data",
          "data": {
            "text/plain": [
              "{'rdom': {'attrunit': 'parts per million by weight (ppm)',\n",
              "  'rdommax': '3290',\n",
              "  'rdommin': '-10'}}"
            ]
          },
          "metadata": {
            "tags": []
          }
        },
        {
          "output_type": "stream",
          "text": [
            "======\n",
            "Pb_ppm_AR\n"
          ],
          "name": "stdout"
        },
        {
          "output_type": "display_data",
          "data": {
            "text/plain": [
              "{'rdom': {'attrunit': 'parts per million by weight (ppm)',\n",
              "  'rdommax': '4180',\n",
              "  'rdommin': '0.2'}}"
            ]
          },
          "metadata": {
            "tags": []
          }
        },
        {
          "output_type": "stream",
          "text": [
            "======\n",
            "Rb_ppm_AR\n"
          ],
          "name": "stdout"
        },
        {
          "output_type": "display_data",
          "data": {
            "text/plain": [
              "{'rdom': {'attrunit': 'parts per million by weight (ppm)',\n",
              "  'rdommax': '251',\n",
              "  'rdommin': '1.3'}}"
            ]
          },
          "metadata": {
            "tags": []
          }
        },
        {
          "output_type": "stream",
          "text": [
            "======\n",
            "Re_ppm_AR\n"
          ],
          "name": "stdout"
        },
        {
          "output_type": "display_data",
          "data": {
            "text/plain": [
              "{'rdom': {'attrunit': 'parts per million by weight (ppm)',\n",
              "  'rdommax': '0.042',\n",
              "  'rdommin': '-0.001'}}"
            ]
          },
          "metadata": {
            "tags": []
          }
        },
        {
          "output_type": "stream",
          "text": [
            "======\n",
            "Sb_ppm_AR\n"
          ],
          "name": "stdout"
        },
        {
          "output_type": "display_data",
          "data": {
            "text/plain": [
              "{'rdom': {'attrunit': 'parts per million by weight (ppm)',\n",
              "  'rdommax': '2030',\n",
              "  'rdommin': '-0.05'}}"
            ]
          },
          "metadata": {
            "tags": []
          }
        },
        {
          "output_type": "stream",
          "text": [
            "======\n",
            "Sc_ppm_AR\n"
          ],
          "name": "stdout"
        },
        {
          "output_type": "display_data",
          "data": {
            "text/plain": [
              "{'rdom': {'attrunit': 'parts per million by weight (ppm)',\n",
              "  'rdommax': '9.8',\n",
              "  'rdommin': '-0.1'}}"
            ]
          },
          "metadata": {
            "tags": []
          }
        },
        {
          "output_type": "stream",
          "text": [
            "======\n",
            "Se_ppm_AR\n"
          ],
          "name": "stdout"
        },
        {
          "output_type": "display_data",
          "data": {
            "text/plain": [
              "{'rdom': {'attrunit': 'parts per million by weight (ppm)',\n",
              "  'rdommax': '26.6',\n",
              "  'rdommin': '-0.2'}}"
            ]
          },
          "metadata": {
            "tags": []
          }
        },
        {
          "output_type": "stream",
          "text": [
            "======\n",
            "Sn_ppm_AR\n"
          ],
          "name": "stdout"
        },
        {
          "output_type": "display_data",
          "data": {
            "text/plain": [
              "{'rdom': {'attrunit': 'parts per million by weight (ppm)',\n",
              "  'rdommax': '9.2',\n",
              "  'rdommin': '-0.2'}}"
            ]
          },
          "metadata": {
            "tags": []
          }
        },
        {
          "output_type": "stream",
          "text": [
            "======\n",
            "Sr_ppm_AR\n"
          ],
          "name": "stdout"
        },
        {
          "output_type": "display_data",
          "data": {
            "text/plain": [
              "{'rdom': {'attrunit': 'parts per million by weight (ppm)',\n",
              "  'rdommax': '1630',\n",
              "  'rdommin': '-0.2'}}"
            ]
          },
          "metadata": {
            "tags": []
          }
        },
        {
          "output_type": "stream",
          "text": [
            "======\n",
            "Ta_ppm_AR\n"
          ],
          "name": "stdout"
        },
        {
          "output_type": "display_data",
          "data": {
            "text/plain": [
              "{'rdom': {'attrunit': 'parts per million by weight (ppm)',\n",
              "  'rdommax': '0.46',\n",
              "  'rdommin': '-0.01'}}"
            ]
          },
          "metadata": {
            "tags": []
          }
        },
        {
          "output_type": "stream",
          "text": [
            "======\n",
            "Te_ppm_AR\n"
          ],
          "name": "stdout"
        },
        {
          "output_type": "display_data",
          "data": {
            "text/plain": [
              "{'rdom': {'attrunit': 'parts per million by weight (ppm)',\n",
              "  'rdommax': '11.9',\n",
              "  'rdommin': '-0.01'}}"
            ]
          },
          "metadata": {
            "tags": []
          }
        },
        {
          "output_type": "stream",
          "text": [
            "======\n",
            "Th_ppm_AR\n"
          ],
          "name": "stdout"
        },
        {
          "output_type": "display_data",
          "data": {
            "text/plain": [
              "{'rdom': {'attrunit': 'parts per million by weight (ppm)',\n",
              "  'rdommax': '63.5',\n",
              "  'rdommin': '0.3'}}"
            ]
          },
          "metadata": {
            "tags": []
          }
        },
        {
          "output_type": "stream",
          "text": [
            "======\n",
            "Tl_ppm_AR\n"
          ],
          "name": "stdout"
        },
        {
          "output_type": "display_data",
          "data": {
            "text/plain": [
              "{'rdom': {'attrunit': 'parts per million by weight (ppm)',\n",
              "  'rdommax': '11.6',\n",
              "  'rdommin': '-0.01'}}"
            ]
          },
          "metadata": {
            "tags": []
          }
        },
        {
          "output_type": "stream",
          "text": [
            "======\n",
            "U_ppm_AR\n"
          ],
          "name": "stdout"
        },
        {
          "output_type": "display_data",
          "data": {
            "text/plain": [
              "{'rdom': {'attrunit': 'parts per million by weight (ppm)',\n",
              "  'rdommax': '48.4',\n",
              "  'rdommin': '0.07'}}"
            ]
          },
          "metadata": {
            "tags": []
          }
        },
        {
          "output_type": "stream",
          "text": [
            "======\n",
            "V_ppm_AR\n"
          ],
          "name": "stdout"
        },
        {
          "output_type": "display_data",
          "data": {
            "text/plain": [
              "{'rdom': {'attrunit': 'parts per million by weight (ppm)',\n",
              "  'rdommax': '681',\n",
              "  'rdommin': '-0.5'}}"
            ]
          },
          "metadata": {
            "tags": []
          }
        },
        {
          "output_type": "stream",
          "text": [
            "======\n",
            "W_ppm_AR\n"
          ],
          "name": "stdout"
        },
        {
          "output_type": "display_data",
          "data": {
            "text/plain": [
              "{'rdom': {'attrunit': 'parts per million by weight (ppm)',\n",
              "  'rdommax': '708',\n",
              "  'rdommin': '-0.05'}}"
            ]
          },
          "metadata": {
            "tags": []
          }
        },
        {
          "output_type": "stream",
          "text": [
            "======\n",
            "Y_ppm_AR\n"
          ],
          "name": "stdout"
        },
        {
          "output_type": "display_data",
          "data": {
            "text/plain": [
              "{'rdom': {'attrunit': 'parts per million by weight (ppm)',\n",
              "  'rdommax': '115',\n",
              "  'rdommin': '0.91'}}"
            ]
          },
          "metadata": {
            "tags": []
          }
        },
        {
          "output_type": "stream",
          "text": [
            "======\n",
            "Zn_ppm_AR\n"
          ],
          "name": "stdout"
        },
        {
          "output_type": "display_data",
          "data": {
            "text/plain": [
              "{'rdom': {'attrunit': 'parts per million by weight (ppm)',\n",
              "  'rdommax': '4080',\n",
              "  'rdommin': '-0.5'}}"
            ]
          },
          "metadata": {
            "tags": []
          }
        },
        {
          "output_type": "stream",
          "text": [
            "======\n",
            "Zr_ppm_AR\n"
          ],
          "name": "stdout"
        },
        {
          "output_type": "display_data",
          "data": {
            "text/plain": [
              "{'rdom': {'attrunit': 'parts per million by weight (ppm)',\n",
              "  'rdommax': '42.5',\n",
              "  'rdommin': '-0.5'}}"
            ]
          },
          "metadata": {
            "tags": []
          }
        },
        {
          "output_type": "stream",
          "text": [
            "======\n"
          ],
          "name": "stdout"
        }
      ]
    },
    {
      "cell_type": "markdown",
      "metadata": {
        "id": "038GKfzFNo9A"
      },
      "source": [
        "# Peeking at the Data\n",
        "Part of our goal in this effort will be to write a nominal LIMS interface component that handles (automates) as much of the process that went behind creating logical data release products like the EarthMRI example as possible. We'll be reading different source data that is somehow specified or laid out for release from the internal system and then sending those data out to some place for further processing and eventual distribution. To get a peek at what the end product might look like, the following codeblock uses the three table references from the data dictionary and retrieves the first few rows into dataframes.\n",
        "\n",
        "As we get into this, some of the things that we may go back and encode into the property registry will be information needed to run automated checks against the actual data coming into our system. These are perhaps data integrity checks at the point of packaging and distribution in addition to QA/QC information that has come forward from the LIMS itself. These are things like verifying that the data values all line up with what's expected in terms of range of values for a given unit or within detection limits or that text values align with some type of vocabulary source. Some of that detail appears to be in the XML form of the metadata in the EarthMRI data release example (e.g. enumerated values not present in the data dictionary), so we'll work to incorporate those details into our property registry model. Ideally, our property registry should have enough in it to accommodate at least a baseline check of every data element it is \"controlling.\"\n",
        "\n",
        "In addition to validation, such information can also manage on-demand transformations from valid unit conversions to adding definitions in place of or in addition to coded values. We will also look for obvious linkage points that our data content should be able to make; something else that the MRData system has done very well. Simply putting a little attention on things like person and organization information inherent in many data, very rarely explicitly linked to persistent resolvable identifiers, but linkable with low uncertainty to those idenifiers can sometimes be a powerful augmentation to data as we bring them into a higher level context beyond an individual data release."
      ]
    },
    {
      "cell_type": "code",
      "metadata": {
        "colab": {
          "base_uri": "https://localhost:8080/",
          "height": 1000
        },
        "id": "xBy9VO5q-2Sq",
        "outputId": "f11eaaa4-3ac2-40d3-b02b-cabd51e68741"
      },
      "source": [
        "for table in df_pattern_data_dict.Tblname.unique():\n",
        "    table_url = next((f[\"url\"] for f in r_pattern_item[\"files\"] if f[\"name\"] == f'{table}.csv'), None)\n",
        "    if table_url is not None:\n",
        "        print(table)\n",
        "        display(pd.read_csv(table_url, nrows=5))\n",
        "        print(\"==============\")"
      ],
      "execution_count": null,
      "outputs": [
        {
          "output_type": "stream",
          "text": [
            "EMRI_Data\n"
          ],
          "name": "stdout"
        },
        {
          "output_type": "display_data",
          "data": {
            "text/html": [
              "<div>\n",
              "<style scoped>\n",
              "    .dataframe tbody tr th:only-of-type {\n",
              "        vertical-align: middle;\n",
              "    }\n",
              "\n",
              "    .dataframe tbody tr th {\n",
              "        vertical-align: top;\n",
              "    }\n",
              "\n",
              "    .dataframe thead th {\n",
              "        text-align: right;\n",
              "    }\n",
              "</style>\n",
              "<table border=\"1\" class=\"dataframe\">\n",
              "  <thead>\n",
              "    <tr style=\"text-align: right;\">\n",
              "      <th></th>\n",
              "      <th>Lab_ID</th>\n",
              "      <th>Field_ID</th>\n",
              "      <th>Prev_Lab_ID</th>\n",
              "      <th>IGSN</th>\n",
              "      <th>Parent_IGSN</th>\n",
              "      <th>Ref_Flag</th>\n",
              "      <th>QAQC_Sample</th>\n",
              "      <th>Job_ID</th>\n",
              "      <th>EMRI_JobNo</th>\n",
              "      <th>PID</th>\n",
              "      <th>Proj_Name</th>\n",
              "      <th>Affiliation</th>\n",
              "      <th>Date_Submitted</th>\n",
              "      <th>Date_Approved</th>\n",
              "      <th>Lat_WGS84</th>\n",
              "      <th>Long_WGS84</th>\n",
              "      <th>Orig_Lat</th>\n",
              "      <th>Orig_Long</th>\n",
              "      <th>Orig_Datum</th>\n",
              "      <th>Country</th>\n",
              "      <th>State</th>\n",
              "      <th>Location_Desc</th>\n",
              "      <th>Sample_Type</th>\n",
              "      <th>Sample_Desc</th>\n",
              "      <th>Date_Collected</th>\n",
              "      <th>Method_Collected</th>\n",
              "      <th>Sample_Source</th>\n",
              "      <th>Sample_Depth</th>\n",
              "      <th>Rock_Type</th>\n",
              "      <th>Rock_Name</th>\n",
              "      <th>Geologic_Age</th>\n",
              "      <th>Stratigraphy</th>\n",
              "      <th>Igneous_Form</th>\n",
              "      <th>Depositional_Env</th>\n",
              "      <th>Metamorphism</th>\n",
              "      <th>Facies_Grade</th>\n",
              "      <th>Meta_SourceRk</th>\n",
              "      <th>Mineralization</th>\n",
              "      <th>Alteration</th>\n",
              "      <th>Land_Cover</th>\n",
              "      <th>...</th>\n",
              "      <th>B_ppm_AR</th>\n",
              "      <th>Ba_ppm_AR</th>\n",
              "      <th>Be_ppm_AR</th>\n",
              "      <th>Bi_ppm_AR</th>\n",
              "      <th>Cd_ppm_AR</th>\n",
              "      <th>Ce_ppm_AR</th>\n",
              "      <th>Co_ppm_AR</th>\n",
              "      <th>Cr_ppm_AR</th>\n",
              "      <th>Cs_ppm_AR</th>\n",
              "      <th>Cu_ppm_AR</th>\n",
              "      <th>Ga_ppm_AR</th>\n",
              "      <th>Ge_ppm_AR</th>\n",
              "      <th>Hf_ppm_AR</th>\n",
              "      <th>Hg_ppm_AR</th>\n",
              "      <th>In_ppm_AR</th>\n",
              "      <th>La_ppm_AR</th>\n",
              "      <th>Li_ppm_AR</th>\n",
              "      <th>Mn_ppm_AR</th>\n",
              "      <th>Mo_ppm_AR</th>\n",
              "      <th>Nb_ppm_AR</th>\n",
              "      <th>Ni_ppm_AR</th>\n",
              "      <th>P_ppm_AR</th>\n",
              "      <th>Pb_ppm_AR</th>\n",
              "      <th>Rb_ppm_AR</th>\n",
              "      <th>Re_ppm_AR</th>\n",
              "      <th>Sb_ppm_AR</th>\n",
              "      <th>Sc_ppm_AR</th>\n",
              "      <th>Se_ppm_AR</th>\n",
              "      <th>Sn_ppm_AR</th>\n",
              "      <th>Sr_ppm_AR</th>\n",
              "      <th>Ta_ppm_AR</th>\n",
              "      <th>Te_ppm_AR</th>\n",
              "      <th>Th_ppm_AR</th>\n",
              "      <th>Tl_ppm_AR</th>\n",
              "      <th>U_ppm_AR</th>\n",
              "      <th>V_ppm_AR</th>\n",
              "      <th>W_ppm_AR</th>\n",
              "      <th>Y_ppm_AR</th>\n",
              "      <th>Zn_ppm_AR</th>\n",
              "      <th>Zr_ppm_AR</th>\n",
              "    </tr>\n",
              "  </thead>\n",
              "  <tbody>\n",
              "    <tr>\n",
              "      <th>0</th>\n",
              "      <td>C-505148</td>\n",
              "      <td>2019-52-2</td>\n",
              "      <td>NaN</td>\n",
              "      <td>NaN</td>\n",
              "      <td>NaN</td>\n",
              "      <td>No</td>\n",
              "      <td>NaN</td>\n",
              "      <td>MRP-18627</td>\n",
              "      <td>AR20-001</td>\n",
              "      <td>20008</td>\n",
              "      <td>Marine phosphate deposits of Arkansas</td>\n",
              "      <td>Arkansas Geological Survey</td>\n",
              "      <td>24-Feb-20</td>\n",
              "      <td>14-Apr-20</td>\n",
              "      <td>35.886</td>\n",
              "      <td>-91.853</td>\n",
              "      <td>35.886</td>\n",
              "      <td>-91.853</td>\n",
              "      <td>WGS84</td>\n",
              "      <td>United States</td>\n",
              "      <td>AR</td>\n",
              "      <td>Love Hollow Quarry SE highwall</td>\n",
              "      <td>rock</td>\n",
              "      <td>NaN</td>\n",
              "      <td>9/24/2019</td>\n",
              "      <td>single/grab</td>\n",
              "      <td>mine/quarry/prospect pit</td>\n",
              "      <td>surface</td>\n",
              "      <td>sedimentary</td>\n",
              "      <td>siltstone</td>\n",
              "      <td>ordovician</td>\n",
              "      <td>Cason Formation</td>\n",
              "      <td>NaN</td>\n",
              "      <td>marine</td>\n",
              "      <td>NaN</td>\n",
              "      <td>NaN</td>\n",
              "      <td>NaN</td>\n",
              "      <td>NaN</td>\n",
              "      <td>NaN</td>\n",
              "      <td>NaN</td>\n",
              "      <td>...</td>\n",
              "      <td>NaN</td>\n",
              "      <td>NaN</td>\n",
              "      <td>NaN</td>\n",
              "      <td>NaN</td>\n",
              "      <td>NaN</td>\n",
              "      <td>NaN</td>\n",
              "      <td>NaN</td>\n",
              "      <td>NaN</td>\n",
              "      <td>NaN</td>\n",
              "      <td>NaN</td>\n",
              "      <td>NaN</td>\n",
              "      <td>NaN</td>\n",
              "      <td>NaN</td>\n",
              "      <td>NaN</td>\n",
              "      <td>NaN</td>\n",
              "      <td>NaN</td>\n",
              "      <td>NaN</td>\n",
              "      <td>NaN</td>\n",
              "      <td>NaN</td>\n",
              "      <td>NaN</td>\n",
              "      <td>NaN</td>\n",
              "      <td>NaN</td>\n",
              "      <td>NaN</td>\n",
              "      <td>NaN</td>\n",
              "      <td>NaN</td>\n",
              "      <td>NaN</td>\n",
              "      <td>NaN</td>\n",
              "      <td>NaN</td>\n",
              "      <td>NaN</td>\n",
              "      <td>NaN</td>\n",
              "      <td>NaN</td>\n",
              "      <td>NaN</td>\n",
              "      <td>NaN</td>\n",
              "      <td>NaN</td>\n",
              "      <td>NaN</td>\n",
              "      <td>NaN</td>\n",
              "      <td>NaN</td>\n",
              "      <td>NaN</td>\n",
              "      <td>NaN</td>\n",
              "      <td>NaN</td>\n",
              "    </tr>\n",
              "    <tr>\n",
              "      <th>1</th>\n",
              "      <td>C-505149</td>\n",
              "      <td>2019-53</td>\n",
              "      <td>NaN</td>\n",
              "      <td>NaN</td>\n",
              "      <td>NaN</td>\n",
              "      <td>No</td>\n",
              "      <td>NaN</td>\n",
              "      <td>MRP-18627</td>\n",
              "      <td>AR20-001</td>\n",
              "      <td>20008</td>\n",
              "      <td>Marine phosphate deposits of Arkansas</td>\n",
              "      <td>Arkansas Geological Survey</td>\n",
              "      <td>24-Feb-20</td>\n",
              "      <td>14-Apr-20</td>\n",
              "      <td>35.886</td>\n",
              "      <td>-91.853</td>\n",
              "      <td>35.886</td>\n",
              "      <td>-91.853</td>\n",
              "      <td>WGS84</td>\n",
              "      <td>United States</td>\n",
              "      <td>AR</td>\n",
              "      <td>Love Hollow Quarry SE highwall</td>\n",
              "      <td>rock</td>\n",
              "      <td>NaN</td>\n",
              "      <td>9/24/2019</td>\n",
              "      <td>single/grab</td>\n",
              "      <td>mine/quarry/prospect pit</td>\n",
              "      <td>surface</td>\n",
              "      <td>sedimentary</td>\n",
              "      <td>siltstone</td>\n",
              "      <td>ordovician</td>\n",
              "      <td>Cason Formation</td>\n",
              "      <td>NaN</td>\n",
              "      <td>marine</td>\n",
              "      <td>NaN</td>\n",
              "      <td>NaN</td>\n",
              "      <td>NaN</td>\n",
              "      <td>NaN</td>\n",
              "      <td>NaN</td>\n",
              "      <td>NaN</td>\n",
              "      <td>...</td>\n",
              "      <td>NaN</td>\n",
              "      <td>NaN</td>\n",
              "      <td>NaN</td>\n",
              "      <td>NaN</td>\n",
              "      <td>NaN</td>\n",
              "      <td>NaN</td>\n",
              "      <td>NaN</td>\n",
              "      <td>NaN</td>\n",
              "      <td>NaN</td>\n",
              "      <td>NaN</td>\n",
              "      <td>NaN</td>\n",
              "      <td>NaN</td>\n",
              "      <td>NaN</td>\n",
              "      <td>NaN</td>\n",
              "      <td>NaN</td>\n",
              "      <td>NaN</td>\n",
              "      <td>NaN</td>\n",
              "      <td>NaN</td>\n",
              "      <td>NaN</td>\n",
              "      <td>NaN</td>\n",
              "      <td>NaN</td>\n",
              "      <td>NaN</td>\n",
              "      <td>NaN</td>\n",
              "      <td>NaN</td>\n",
              "      <td>NaN</td>\n",
              "      <td>NaN</td>\n",
              "      <td>NaN</td>\n",
              "      <td>NaN</td>\n",
              "      <td>NaN</td>\n",
              "      <td>NaN</td>\n",
              "      <td>NaN</td>\n",
              "      <td>NaN</td>\n",
              "      <td>NaN</td>\n",
              "      <td>NaN</td>\n",
              "      <td>NaN</td>\n",
              "      <td>NaN</td>\n",
              "      <td>NaN</td>\n",
              "      <td>NaN</td>\n",
              "      <td>NaN</td>\n",
              "      <td>NaN</td>\n",
              "    </tr>\n",
              "    <tr>\n",
              "      <th>2</th>\n",
              "      <td>C-505150</td>\n",
              "      <td>2019-64</td>\n",
              "      <td>NaN</td>\n",
              "      <td>NaN</td>\n",
              "      <td>NaN</td>\n",
              "      <td>No</td>\n",
              "      <td>Original</td>\n",
              "      <td>MRP-18627</td>\n",
              "      <td>AR20-001</td>\n",
              "      <td>20008</td>\n",
              "      <td>Marine phosphate deposits of Arkansas</td>\n",
              "      <td>Arkansas Geological Survey</td>\n",
              "      <td>24-Feb-20</td>\n",
              "      <td>14-Apr-20</td>\n",
              "      <td>35.875</td>\n",
              "      <td>-91.822</td>\n",
              "      <td>35.875</td>\n",
              "      <td>-91.822</td>\n",
              "      <td>WGS84</td>\n",
              "      <td>United States</td>\n",
              "      <td>AR</td>\n",
              "      <td>along road</td>\n",
              "      <td>rock</td>\n",
              "      <td>NaN</td>\n",
              "      <td>10/9/2019</td>\n",
              "      <td>single/grab</td>\n",
              "      <td>natural exposure/outcrop</td>\n",
              "      <td>surface</td>\n",
              "      <td>sedimentary</td>\n",
              "      <td>siltstone</td>\n",
              "      <td>ordovician</td>\n",
              "      <td>Cason Formation</td>\n",
              "      <td>NaN</td>\n",
              "      <td>NaN</td>\n",
              "      <td>NaN</td>\n",
              "      <td>NaN</td>\n",
              "      <td>NaN</td>\n",
              "      <td>NaN</td>\n",
              "      <td>NaN</td>\n",
              "      <td>NaN</td>\n",
              "      <td>...</td>\n",
              "      <td>NaN</td>\n",
              "      <td>NaN</td>\n",
              "      <td>NaN</td>\n",
              "      <td>NaN</td>\n",
              "      <td>NaN</td>\n",
              "      <td>NaN</td>\n",
              "      <td>NaN</td>\n",
              "      <td>NaN</td>\n",
              "      <td>NaN</td>\n",
              "      <td>NaN</td>\n",
              "      <td>NaN</td>\n",
              "      <td>NaN</td>\n",
              "      <td>NaN</td>\n",
              "      <td>NaN</td>\n",
              "      <td>NaN</td>\n",
              "      <td>NaN</td>\n",
              "      <td>NaN</td>\n",
              "      <td>NaN</td>\n",
              "      <td>NaN</td>\n",
              "      <td>NaN</td>\n",
              "      <td>NaN</td>\n",
              "      <td>NaN</td>\n",
              "      <td>NaN</td>\n",
              "      <td>NaN</td>\n",
              "      <td>NaN</td>\n",
              "      <td>NaN</td>\n",
              "      <td>NaN</td>\n",
              "      <td>NaN</td>\n",
              "      <td>NaN</td>\n",
              "      <td>NaN</td>\n",
              "      <td>NaN</td>\n",
              "      <td>NaN</td>\n",
              "      <td>NaN</td>\n",
              "      <td>NaN</td>\n",
              "      <td>NaN</td>\n",
              "      <td>NaN</td>\n",
              "      <td>NaN</td>\n",
              "      <td>NaN</td>\n",
              "      <td>NaN</td>\n",
              "      <td>NaN</td>\n",
              "    </tr>\n",
              "    <tr>\n",
              "      <th>3</th>\n",
              "      <td>C-505151</td>\n",
              "      <td>2019-131</td>\n",
              "      <td>NaN</td>\n",
              "      <td>NaN</td>\n",
              "      <td>NaN</td>\n",
              "      <td>No</td>\n",
              "      <td>NaN</td>\n",
              "      <td>MRP-18627</td>\n",
              "      <td>AR20-001</td>\n",
              "      <td>20008</td>\n",
              "      <td>Marine phosphate deposits of Arkansas</td>\n",
              "      <td>Arkansas Geological Survey</td>\n",
              "      <td>24-Feb-20</td>\n",
              "      <td>14-Apr-20</td>\n",
              "      <td>35.907</td>\n",
              "      <td>-91.765</td>\n",
              "      <td>35.907</td>\n",
              "      <td>-91.765</td>\n",
              "      <td>WGS84</td>\n",
              "      <td>United States</td>\n",
              "      <td>AR</td>\n",
              "      <td>old manganese prospect</td>\n",
              "      <td>rock</td>\n",
              "      <td>NaN</td>\n",
              "      <td>10/29/2019</td>\n",
              "      <td>single/grab</td>\n",
              "      <td>float/colluvium/talus</td>\n",
              "      <td>surface</td>\n",
              "      <td>sedimentary</td>\n",
              "      <td>sandstone</td>\n",
              "      <td>ordovician</td>\n",
              "      <td>Cason Formation</td>\n",
              "      <td>NaN</td>\n",
              "      <td>NaN</td>\n",
              "      <td>NaN</td>\n",
              "      <td>NaN</td>\n",
              "      <td>NaN</td>\n",
              "      <td>NaN</td>\n",
              "      <td>NaN</td>\n",
              "      <td>NaN</td>\n",
              "      <td>...</td>\n",
              "      <td>NaN</td>\n",
              "      <td>NaN</td>\n",
              "      <td>NaN</td>\n",
              "      <td>NaN</td>\n",
              "      <td>NaN</td>\n",
              "      <td>NaN</td>\n",
              "      <td>NaN</td>\n",
              "      <td>NaN</td>\n",
              "      <td>NaN</td>\n",
              "      <td>NaN</td>\n",
              "      <td>NaN</td>\n",
              "      <td>NaN</td>\n",
              "      <td>NaN</td>\n",
              "      <td>NaN</td>\n",
              "      <td>NaN</td>\n",
              "      <td>NaN</td>\n",
              "      <td>NaN</td>\n",
              "      <td>NaN</td>\n",
              "      <td>NaN</td>\n",
              "      <td>NaN</td>\n",
              "      <td>NaN</td>\n",
              "      <td>NaN</td>\n",
              "      <td>NaN</td>\n",
              "      <td>NaN</td>\n",
              "      <td>NaN</td>\n",
              "      <td>NaN</td>\n",
              "      <td>NaN</td>\n",
              "      <td>NaN</td>\n",
              "      <td>NaN</td>\n",
              "      <td>NaN</td>\n",
              "      <td>NaN</td>\n",
              "      <td>NaN</td>\n",
              "      <td>NaN</td>\n",
              "      <td>NaN</td>\n",
              "      <td>NaN</td>\n",
              "      <td>NaN</td>\n",
              "      <td>NaN</td>\n",
              "      <td>NaN</td>\n",
              "      <td>NaN</td>\n",
              "      <td>NaN</td>\n",
              "    </tr>\n",
              "    <tr>\n",
              "      <th>4</th>\n",
              "      <td>C-505152</td>\n",
              "      <td>2019-132</td>\n",
              "      <td>NaN</td>\n",
              "      <td>NaN</td>\n",
              "      <td>NaN</td>\n",
              "      <td>No</td>\n",
              "      <td>NaN</td>\n",
              "      <td>MRP-18627</td>\n",
              "      <td>AR20-001</td>\n",
              "      <td>20008</td>\n",
              "      <td>Marine phosphate deposits of Arkansas</td>\n",
              "      <td>Arkansas Geological Survey</td>\n",
              "      <td>24-Feb-20</td>\n",
              "      <td>14-Apr-20</td>\n",
              "      <td>35.911</td>\n",
              "      <td>-91.763</td>\n",
              "      <td>35.911</td>\n",
              "      <td>-91.763</td>\n",
              "      <td>WGS84</td>\n",
              "      <td>United States</td>\n",
              "      <td>AR</td>\n",
              "      <td>old manganese prospect</td>\n",
              "      <td>rock</td>\n",
              "      <td>NaN</td>\n",
              "      <td>10/29/2019</td>\n",
              "      <td>single/grab</td>\n",
              "      <td>float/colluvium/talus</td>\n",
              "      <td>surface</td>\n",
              "      <td>sedimentary</td>\n",
              "      <td>sandstone</td>\n",
              "      <td>ordovician</td>\n",
              "      <td>Cason Formation</td>\n",
              "      <td>NaN</td>\n",
              "      <td>NaN</td>\n",
              "      <td>NaN</td>\n",
              "      <td>NaN</td>\n",
              "      <td>NaN</td>\n",
              "      <td>NaN</td>\n",
              "      <td>NaN</td>\n",
              "      <td>NaN</td>\n",
              "      <td>...</td>\n",
              "      <td>NaN</td>\n",
              "      <td>NaN</td>\n",
              "      <td>NaN</td>\n",
              "      <td>NaN</td>\n",
              "      <td>NaN</td>\n",
              "      <td>NaN</td>\n",
              "      <td>NaN</td>\n",
              "      <td>NaN</td>\n",
              "      <td>NaN</td>\n",
              "      <td>NaN</td>\n",
              "      <td>NaN</td>\n",
              "      <td>NaN</td>\n",
              "      <td>NaN</td>\n",
              "      <td>NaN</td>\n",
              "      <td>NaN</td>\n",
              "      <td>NaN</td>\n",
              "      <td>NaN</td>\n",
              "      <td>NaN</td>\n",
              "      <td>NaN</td>\n",
              "      <td>NaN</td>\n",
              "      <td>NaN</td>\n",
              "      <td>NaN</td>\n",
              "      <td>NaN</td>\n",
              "      <td>NaN</td>\n",
              "      <td>NaN</td>\n",
              "      <td>NaN</td>\n",
              "      <td>NaN</td>\n",
              "      <td>NaN</td>\n",
              "      <td>NaN</td>\n",
              "      <td>NaN</td>\n",
              "      <td>NaN</td>\n",
              "      <td>NaN</td>\n",
              "      <td>NaN</td>\n",
              "      <td>NaN</td>\n",
              "      <td>NaN</td>\n",
              "      <td>NaN</td>\n",
              "      <td>NaN</td>\n",
              "      <td>NaN</td>\n",
              "      <td>NaN</td>\n",
              "      <td>NaN</td>\n",
              "    </tr>\n",
              "  </tbody>\n",
              "</table>\n",
              "<p>5 rows × 182 columns</p>\n",
              "</div>"
            ],
            "text/plain": [
              "     Lab_ID   Field_ID  Prev_Lab_ID  ...  Y_ppm_AR  Zn_ppm_AR Zr_ppm_AR\n",
              "0  C-505148  2019-52-2          NaN  ...       NaN        NaN       NaN\n",
              "1  C-505149    2019-53          NaN  ...       NaN        NaN       NaN\n",
              "2  C-505150    2019-64          NaN  ...       NaN        NaN       NaN\n",
              "3  C-505151   2019-131          NaN  ...       NaN        NaN       NaN\n",
              "4  C-505152   2019-132          NaN  ...       NaN        NaN       NaN\n",
              "\n",
              "[5 rows x 182 columns]"
            ]
          },
          "metadata": {
            "tags": []
          }
        },
        {
          "output_type": "stream",
          "text": [
            "==============\n",
            "Limits_AnalyticalMethods\n"
          ],
          "name": "stdout"
        },
        {
          "output_type": "display_data",
          "data": {
            "text/html": [
              "<div>\n",
              "<style scoped>\n",
              "    .dataframe tbody tr th:only-of-type {\n",
              "        vertical-align: middle;\n",
              "    }\n",
              "\n",
              "    .dataframe tbody tr th {\n",
              "        vertical-align: top;\n",
              "    }\n",
              "\n",
              "    .dataframe thead th {\n",
              "        text-align: right;\n",
              "    }\n",
              "</style>\n",
              "<table border=\"1\" class=\"dataframe\">\n",
              "  <thead>\n",
              "    <tr style=\"text-align: right;\">\n",
              "      <th></th>\n",
              "      <th>SortOrder</th>\n",
              "      <th>Analytic_Mthds</th>\n",
              "      <th>Constituent</th>\n",
              "      <th>LowerDetectLimit</th>\n",
              "      <th>UpperDetectLimit</th>\n",
              "      <th>Unit</th>\n",
              "      <th>Instrument</th>\n",
              "    </tr>\n",
              "  </thead>\n",
              "  <tbody>\n",
              "    <tr>\n",
              "      <th>0</th>\n",
              "      <td>1</td>\n",
              "      <td>C_ICPOES_MS-60</td>\n",
              "      <td>Al</td>\n",
              "      <td>0.01</td>\n",
              "      <td>25</td>\n",
              "      <td>%</td>\n",
              "      <td>ICP-OES</td>\n",
              "    </tr>\n",
              "    <tr>\n",
              "      <th>1</th>\n",
              "      <td>2</td>\n",
              "      <td>C_ICPOES_MS-60</td>\n",
              "      <td>Ca</td>\n",
              "      <td>0.01</td>\n",
              "      <td>35</td>\n",
              "      <td>%</td>\n",
              "      <td>ICP-OES</td>\n",
              "    </tr>\n",
              "    <tr>\n",
              "      <th>2</th>\n",
              "      <td>3</td>\n",
              "      <td>C_ICPOES_MS-60</td>\n",
              "      <td>Fe</td>\n",
              "      <td>0.01</td>\n",
              "      <td>30</td>\n",
              "      <td>%</td>\n",
              "      <td>ICP-OES</td>\n",
              "    </tr>\n",
              "    <tr>\n",
              "      <th>3</th>\n",
              "      <td>4</td>\n",
              "      <td>C_ICPOES_MS-60</td>\n",
              "      <td>K</td>\n",
              "      <td>0.01</td>\n",
              "      <td>25</td>\n",
              "      <td>%</td>\n",
              "      <td>ICP-OES</td>\n",
              "    </tr>\n",
              "    <tr>\n",
              "      <th>4</th>\n",
              "      <td>5</td>\n",
              "      <td>C_ICPOES_MS-60</td>\n",
              "      <td>Mg</td>\n",
              "      <td>0.01</td>\n",
              "      <td>30</td>\n",
              "      <td>%</td>\n",
              "      <td>ICP-OES</td>\n",
              "    </tr>\n",
              "  </tbody>\n",
              "</table>\n",
              "</div>"
            ],
            "text/plain": [
              "   SortOrder  Analytic_Mthds Constituent  ...  UpperDetectLimit  Unit Instrument\n",
              "0          1  C_ICPOES_MS-60          Al  ...                25     %    ICP-OES\n",
              "1          2  C_ICPOES_MS-60          Ca  ...                35     %    ICP-OES\n",
              "2          3  C_ICPOES_MS-60          Fe  ...                30     %    ICP-OES\n",
              "3          4  C_ICPOES_MS-60           K  ...                25     %    ICP-OES\n",
              "4          5  C_ICPOES_MS-60          Mg  ...                30     %    ICP-OES\n",
              "\n",
              "[5 rows x 7 columns]"
            ]
          },
          "metadata": {
            "tags": []
          }
        },
        {
          "output_type": "stream",
          "text": [
            "==============\n",
            "QAQC_Values\n"
          ],
          "name": "stdout"
        },
        {
          "output_type": "display_data",
          "data": {
            "text/html": [
              "<div>\n",
              "<style scoped>\n",
              "    .dataframe tbody tr th:only-of-type {\n",
              "        vertical-align: middle;\n",
              "    }\n",
              "\n",
              "    .dataframe tbody tr th {\n",
              "        vertical-align: top;\n",
              "    }\n",
              "\n",
              "    .dataframe thead th {\n",
              "        text-align: right;\n",
              "    }\n",
              "</style>\n",
              "<table border=\"1\" class=\"dataframe\">\n",
              "  <thead>\n",
              "    <tr style=\"text-align: right;\">\n",
              "      <th></th>\n",
              "      <th>SortOrder</th>\n",
              "      <th>GRM</th>\n",
              "      <th>ValueType</th>\n",
              "      <th>Al_pct_ICP60</th>\n",
              "      <th>Ca_pct_ICP60</th>\n",
              "      <th>Fe_pct_ICP60</th>\n",
              "      <th>K_pct_ICP60</th>\n",
              "      <th>Mg_pct_ICP60</th>\n",
              "      <th>P_pct_ICP60</th>\n",
              "      <th>S_pct_ICP60</th>\n",
              "      <th>Si_pct_ICP60</th>\n",
              "      <th>Ti_pct_ICP60</th>\n",
              "      <th>Ag_ppm_ICP60</th>\n",
              "      <th>As_ppm_ICP60</th>\n",
              "      <th>B_ppm_ICP60</th>\n",
              "      <th>Ba_ppm_ICP60</th>\n",
              "      <th>Be_ppm_ICP60</th>\n",
              "      <th>Bi_ppm_ICP60</th>\n",
              "      <th>Cd_ppm_ICP60</th>\n",
              "      <th>Ce_ppm_ICP60</th>\n",
              "      <th>Co_ppm_ICP60</th>\n",
              "      <th>Cr_ppm_ICP60</th>\n",
              "      <th>Cs_ppm_ICP60</th>\n",
              "      <th>Cu_ppm_ICP60</th>\n",
              "      <th>Dy_ppm_ICP60</th>\n",
              "      <th>Er_ppm_ICP60</th>\n",
              "      <th>Eu_ppm_ICP60</th>\n",
              "      <th>Ga_ppm_ICP60</th>\n",
              "      <th>Gd_ppm_ICP60</th>\n",
              "      <th>Ge_ppm_ICP60</th>\n",
              "      <th>Hf_ppm_ICP60</th>\n",
              "      <th>Ho_ppm_ICP60</th>\n",
              "      <th>In_ppm_ICP60</th>\n",
              "      <th>La_ppm_ICP60</th>\n",
              "      <th>Li_ppm_ICP60</th>\n",
              "      <th>Lu_ppm_ICP60</th>\n",
              "      <th>Mn_ppm_ICP60</th>\n",
              "      <th>Mo_ppm_ICP60</th>\n",
              "      <th>Nb_ppm_ICP60</th>\n",
              "      <th>Nd_ppm_ICP60</th>\n",
              "      <th>...</th>\n",
              "      <th>Ni_ppm_AR</th>\n",
              "      <th>P_ppm_AR</th>\n",
              "      <th>Pb_ppm_AR</th>\n",
              "      <th>Rb_ppm_AR</th>\n",
              "      <th>Re_ppm_AR</th>\n",
              "      <th>Sb_ppm_AR</th>\n",
              "      <th>Sc_ppm_AR</th>\n",
              "      <th>Se_ppm_AR</th>\n",
              "      <th>Sn_ppm_AR</th>\n",
              "      <th>Sr_ppm_AR</th>\n",
              "      <th>Ta_ppm_AR</th>\n",
              "      <th>Te_ppm_AR</th>\n",
              "      <th>Th_ppm_AR</th>\n",
              "      <th>Tl_ppm_AR</th>\n",
              "      <th>U_ppm_AR</th>\n",
              "      <th>V_ppm_AR</th>\n",
              "      <th>W_ppm_AR</th>\n",
              "      <th>Y_ppm_AR</th>\n",
              "      <th>Zn_ppm_AR</th>\n",
              "      <th>Zr_ppm_AR</th>\n",
              "      <th>Au_ppb_FA</th>\n",
              "      <th>Pd_ppb_FA</th>\n",
              "      <th>Pt_ppb_FA</th>\n",
              "      <th>Al2O3_pct_WDX</th>\n",
              "      <th>BaO_pct_WDX</th>\n",
              "      <th>CaO_pct_WDX</th>\n",
              "      <th>Cr2O3_pct_WDX</th>\n",
              "      <th>Fe2O3_pct_WDX</th>\n",
              "      <th>K2O_pct_WDX</th>\n",
              "      <th>LOI_pct_WDX</th>\n",
              "      <th>MgO_pct_WDX</th>\n",
              "      <th>MnO_pct_WDX</th>\n",
              "      <th>Na2O_pct_WDX</th>\n",
              "      <th>P2O5_pct_WDX</th>\n",
              "      <th>SiO2_pct_WDX</th>\n",
              "      <th>SrO_pct_WDX</th>\n",
              "      <th>TiO2_pct_WDX</th>\n",
              "      <th>V2O5_pct_WDX</th>\n",
              "      <th>F_pct_ISE</th>\n",
              "      <th>S_pct_IR</th>\n",
              "    </tr>\n",
              "  </thead>\n",
              "  <tbody>\n",
              "    <tr>\n",
              "      <th>0</th>\n",
              "      <td>1</td>\n",
              "      <td>AGV-1</td>\n",
              "      <td>Preferred</td>\n",
              "      <td>9.08</td>\n",
              "      <td>3.53</td>\n",
              "      <td>4.47</td>\n",
              "      <td>2.42</td>\n",
              "      <td>0.92</td>\n",
              "      <td>0.22</td>\n",
              "      <td>&lt;0.01</td>\n",
              "      <td>27.5</td>\n",
              "      <td>0.63</td>\n",
              "      <td>&lt;1</td>\n",
              "      <td>&lt;5</td>\n",
              "      <td>&lt;10</td>\n",
              "      <td>1230</td>\n",
              "      <td>&lt;5</td>\n",
              "      <td>&lt;0.1</td>\n",
              "      <td>&lt;0.2</td>\n",
              "      <td>NaN</td>\n",
              "      <td>15.00</td>\n",
              "      <td>10.0</td>\n",
              "      <td>1.30</td>\n",
              "      <td>60.0</td>\n",
              "      <td>3.60</td>\n",
              "      <td>1.70</td>\n",
              "      <td>1.60</td>\n",
              "      <td>20.0</td>\n",
              "      <td>5.00</td>\n",
              "      <td>1.3</td>\n",
              "      <td>5.1</td>\n",
              "      <td>NaN</td>\n",
              "      <td>&lt;0.2</td>\n",
              "      <td>38.0</td>\n",
              "      <td>12.0</td>\n",
              "      <td>0.27</td>\n",
              "      <td>710.0</td>\n",
              "      <td>2.7</td>\n",
              "      <td>15.0</td>\n",
              "      <td>33.0</td>\n",
              "      <td>...</td>\n",
              "      <td>NaN</td>\n",
              "      <td>NaN</td>\n",
              "      <td>NaN</td>\n",
              "      <td>NaN</td>\n",
              "      <td>NaN</td>\n",
              "      <td>NaN</td>\n",
              "      <td>NaN</td>\n",
              "      <td>NaN</td>\n",
              "      <td>NaN</td>\n",
              "      <td>NaN</td>\n",
              "      <td>NaN</td>\n",
              "      <td>NaN</td>\n",
              "      <td>NaN</td>\n",
              "      <td>NaN</td>\n",
              "      <td>NaN</td>\n",
              "      <td>NaN</td>\n",
              "      <td>NaN</td>\n",
              "      <td>NaN</td>\n",
              "      <td>NaN</td>\n",
              "      <td>NaN</td>\n",
              "      <td>0.6</td>\n",
              "      <td>NaN</td>\n",
              "      <td>NaN</td>\n",
              "      <td>17.20</td>\n",
              "      <td>0.14</td>\n",
              "      <td>4.94</td>\n",
              "      <td>&lt;0.01</td>\n",
              "      <td>6.77</td>\n",
              "      <td>2.92</td>\n",
              "      <td>1.20</td>\n",
              "      <td>1.53</td>\n",
              "      <td>0.09</td>\n",
              "      <td>4.26</td>\n",
              "      <td>0.50</td>\n",
              "      <td>58.80</td>\n",
              "      <td>0.08</td>\n",
              "      <td>1.05</td>\n",
              "      <td>0.02</td>\n",
              "      <td>0.04</td>\n",
              "      <td>NaN</td>\n",
              "    </tr>\n",
              "    <tr>\n",
              "      <th>1</th>\n",
              "      <td>2</td>\n",
              "      <td>AGV-1</td>\n",
              "      <td>Mean</td>\n",
              "      <td>9.15</td>\n",
              "      <td>3.42</td>\n",
              "      <td>4.72</td>\n",
              "      <td>2.40</td>\n",
              "      <td>0.88</td>\n",
              "      <td>0.21</td>\n",
              "      <td>&lt;0.01</td>\n",
              "      <td>27.86</td>\n",
              "      <td>0.60</td>\n",
              "      <td>&lt;1</td>\n",
              "      <td>&lt;30</td>\n",
              "      <td>&lt;10</td>\n",
              "      <td>1188</td>\n",
              "      <td>&lt;5</td>\n",
              "      <td>&lt;0.1</td>\n",
              "      <td>&lt;0.2</td>\n",
              "      <td>69.2</td>\n",
              "      <td>15.10</td>\n",
              "      <td>12.8</td>\n",
              "      <td>1.32</td>\n",
              "      <td>57.4</td>\n",
              "      <td>3.63</td>\n",
              "      <td>1.86</td>\n",
              "      <td>1.70</td>\n",
              "      <td>20.2</td>\n",
              "      <td>4.88</td>\n",
              "      <td>1.0</td>\n",
              "      <td>5.4</td>\n",
              "      <td>0.69</td>\n",
              "      <td>&lt;0.2</td>\n",
              "      <td>38.2</td>\n",
              "      <td>10.3</td>\n",
              "      <td>0.26</td>\n",
              "      <td>722.0</td>\n",
              "      <td>3.4</td>\n",
              "      <td>13.8</td>\n",
              "      <td>31.7</td>\n",
              "      <td>...</td>\n",
              "      <td>NaN</td>\n",
              "      <td>NaN</td>\n",
              "      <td>NaN</td>\n",
              "      <td>NaN</td>\n",
              "      <td>NaN</td>\n",
              "      <td>NaN</td>\n",
              "      <td>NaN</td>\n",
              "      <td>NaN</td>\n",
              "      <td>NaN</td>\n",
              "      <td>NaN</td>\n",
              "      <td>NaN</td>\n",
              "      <td>NaN</td>\n",
              "      <td>NaN</td>\n",
              "      <td>NaN</td>\n",
              "      <td>NaN</td>\n",
              "      <td>NaN</td>\n",
              "      <td>NaN</td>\n",
              "      <td>NaN</td>\n",
              "      <td>NaN</td>\n",
              "      <td>NaN</td>\n",
              "      <td>NaN</td>\n",
              "      <td>NaN</td>\n",
              "      <td>NaN</td>\n",
              "      <td>17.20</td>\n",
              "      <td>NaN</td>\n",
              "      <td>4.98</td>\n",
              "      <td>&lt;0.01</td>\n",
              "      <td>6.84</td>\n",
              "      <td>2.95</td>\n",
              "      <td>1.92</td>\n",
              "      <td>1.53</td>\n",
              "      <td>0.09</td>\n",
              "      <td>4.20</td>\n",
              "      <td>0.50</td>\n",
              "      <td>59.40</td>\n",
              "      <td>NaN</td>\n",
              "      <td>1.09</td>\n",
              "      <td>NaN</td>\n",
              "      <td>0.05</td>\n",
              "      <td>NaN</td>\n",
              "    </tr>\n",
              "    <tr>\n",
              "      <th>2</th>\n",
              "      <td>11</td>\n",
              "      <td>CBT-QCM-1</td>\n",
              "      <td>Preferred</td>\n",
              "      <td>0.23</td>\n",
              "      <td>33.40</td>\n",
              "      <td>0.29</td>\n",
              "      <td>0.11</td>\n",
              "      <td>2.99</td>\n",
              "      <td>0.03</td>\n",
              "      <td>0.33</td>\n",
              "      <td>0.98</td>\n",
              "      <td>0.01</td>\n",
              "      <td>&lt;1</td>\n",
              "      <td>5.97</td>\n",
              "      <td>&lt;10</td>\n",
              "      <td>16000</td>\n",
              "      <td>&lt;5</td>\n",
              "      <td>&lt;0.1</td>\n",
              "      <td>&lt;0.2</td>\n",
              "      <td>3900.0</td>\n",
              "      <td>1.70</td>\n",
              "      <td>&lt;10</td>\n",
              "      <td>0.30</td>\n",
              "      <td>8.0</td>\n",
              "      <td>3.80</td>\n",
              "      <td>1.00</td>\n",
              "      <td>9.30</td>\n",
              "      <td>NaN</td>\n",
              "      <td>18.30</td>\n",
              "      <td>&lt;1</td>\n",
              "      <td>&lt;1</td>\n",
              "      <td>0.56</td>\n",
              "      <td>&lt;0.2</td>\n",
              "      <td>2800.0</td>\n",
              "      <td>&lt;10</td>\n",
              "      <td>0.11</td>\n",
              "      <td>387.0</td>\n",
              "      <td>&lt;2</td>\n",
              "      <td>6.0</td>\n",
              "      <td>884.0</td>\n",
              "      <td>...</td>\n",
              "      <td>NaN</td>\n",
              "      <td>NaN</td>\n",
              "      <td>NaN</td>\n",
              "      <td>NaN</td>\n",
              "      <td>NaN</td>\n",
              "      <td>NaN</td>\n",
              "      <td>NaN</td>\n",
              "      <td>NaN</td>\n",
              "      <td>NaN</td>\n",
              "      <td>NaN</td>\n",
              "      <td>NaN</td>\n",
              "      <td>NaN</td>\n",
              "      <td>NaN</td>\n",
              "      <td>NaN</td>\n",
              "      <td>NaN</td>\n",
              "      <td>NaN</td>\n",
              "      <td>NaN</td>\n",
              "      <td>NaN</td>\n",
              "      <td>NaN</td>\n",
              "      <td>NaN</td>\n",
              "      <td>NaN</td>\n",
              "      <td>NaN</td>\n",
              "      <td>NaN</td>\n",
              "      <td>0.41</td>\n",
              "      <td>1.79</td>\n",
              "      <td>46.70</td>\n",
              "      <td>&lt;0.01</td>\n",
              "      <td>0.41</td>\n",
              "      <td>0.13</td>\n",
              "      <td>41.00</td>\n",
              "      <td>4.95</td>\n",
              "      <td>0.05</td>\n",
              "      <td>0.09</td>\n",
              "      <td>0.07</td>\n",
              "      <td>2.10</td>\n",
              "      <td>0.18</td>\n",
              "      <td>0.02</td>\n",
              "      <td>&lt;0.01</td>\n",
              "      <td>NaN</td>\n",
              "      <td>NaN</td>\n",
              "    </tr>\n",
              "    <tr>\n",
              "      <th>3</th>\n",
              "      <td>12</td>\n",
              "      <td>CBT-QCM-1</td>\n",
              "      <td>Mean</td>\n",
              "      <td>0.23</td>\n",
              "      <td>32.70</td>\n",
              "      <td>0.28</td>\n",
              "      <td>0.15</td>\n",
              "      <td>2.93</td>\n",
              "      <td>0.03</td>\n",
              "      <td>0.41</td>\n",
              "      <td>0.95</td>\n",
              "      <td>0.02</td>\n",
              "      <td>&lt;1</td>\n",
              "      <td>&lt;30</td>\n",
              "      <td>&lt;10</td>\n",
              "      <td>&gt;10000</td>\n",
              "      <td>&lt;5</td>\n",
              "      <td>&lt;0.1</td>\n",
              "      <td>0.2</td>\n",
              "      <td>3781.0</td>\n",
              "      <td>1.70</td>\n",
              "      <td>&lt;10</td>\n",
              "      <td>0.33</td>\n",
              "      <td>7.6</td>\n",
              "      <td>3.73</td>\n",
              "      <td>0.93</td>\n",
              "      <td>9.51</td>\n",
              "      <td>NaN</td>\n",
              "      <td>17.60</td>\n",
              "      <td>&lt;1</td>\n",
              "      <td>&lt;1</td>\n",
              "      <td>0.53</td>\n",
              "      <td>&lt;0.2</td>\n",
              "      <td>2640.0</td>\n",
              "      <td>&lt;10</td>\n",
              "      <td>0.09</td>\n",
              "      <td>NaN</td>\n",
              "      <td>&lt;2</td>\n",
              "      <td>7.0</td>\n",
              "      <td>898.0</td>\n",
              "      <td>...</td>\n",
              "      <td>NaN</td>\n",
              "      <td>NaN</td>\n",
              "      <td>NaN</td>\n",
              "      <td>NaN</td>\n",
              "      <td>NaN</td>\n",
              "      <td>NaN</td>\n",
              "      <td>NaN</td>\n",
              "      <td>NaN</td>\n",
              "      <td>NaN</td>\n",
              "      <td>NaN</td>\n",
              "      <td>NaN</td>\n",
              "      <td>NaN</td>\n",
              "      <td>NaN</td>\n",
              "      <td>NaN</td>\n",
              "      <td>NaN</td>\n",
              "      <td>NaN</td>\n",
              "      <td>NaN</td>\n",
              "      <td>NaN</td>\n",
              "      <td>NaN</td>\n",
              "      <td>NaN</td>\n",
              "      <td>NaN</td>\n",
              "      <td>NaN</td>\n",
              "      <td>NaN</td>\n",
              "      <td>0.41</td>\n",
              "      <td>1.83</td>\n",
              "      <td>46.60</td>\n",
              "      <td>&lt;0.01</td>\n",
              "      <td>0.42</td>\n",
              "      <td>0.13</td>\n",
              "      <td>41.90</td>\n",
              "      <td>4.87</td>\n",
              "      <td>0.05</td>\n",
              "      <td>0.06</td>\n",
              "      <td>0.07</td>\n",
              "      <td>2.23</td>\n",
              "      <td>NaN</td>\n",
              "      <td>0.03</td>\n",
              "      <td>NaN</td>\n",
              "      <td>NaN</td>\n",
              "      <td>NaN</td>\n",
              "    </tr>\n",
              "    <tr>\n",
              "      <th>4</th>\n",
              "      <td>21</td>\n",
              "      <td>DGPM-1</td>\n",
              "      <td>Preferred</td>\n",
              "      <td>4.82</td>\n",
              "      <td>0.17</td>\n",
              "      <td>1.36</td>\n",
              "      <td>2.23</td>\n",
              "      <td>0.32</td>\n",
              "      <td>0.04</td>\n",
              "      <td>0.31</td>\n",
              "      <td>&gt;30</td>\n",
              "      <td>0.33</td>\n",
              "      <td>&lt;1</td>\n",
              "      <td>180</td>\n",
              "      <td>93.6</td>\n",
              "      <td>1272</td>\n",
              "      <td>&lt;5</td>\n",
              "      <td>0.10</td>\n",
              "      <td>0.34</td>\n",
              "      <td>90.5</td>\n",
              "      <td>1.36</td>\n",
              "      <td>120</td>\n",
              "      <td>8.92</td>\n",
              "      <td>13.7</td>\n",
              "      <td>3.22</td>\n",
              "      <td>2.08</td>\n",
              "      <td>0.78</td>\n",
              "      <td>11.3</td>\n",
              "      <td>3.90</td>\n",
              "      <td>2.0</td>\n",
              "      <td>9.8</td>\n",
              "      <td>0.67</td>\n",
              "      <td>&lt;0.2</td>\n",
              "      <td>51.7</td>\n",
              "      <td>41.9</td>\n",
              "      <td>0.32</td>\n",
              "      <td>28.0</td>\n",
              "      <td>13.6</td>\n",
              "      <td>9.8</td>\n",
              "      <td>30.5</td>\n",
              "      <td>...</td>\n",
              "      <td>NaN</td>\n",
              "      <td>NaN</td>\n",
              "      <td>NaN</td>\n",
              "      <td>NaN</td>\n",
              "      <td>NaN</td>\n",
              "      <td>NaN</td>\n",
              "      <td>NaN</td>\n",
              "      <td>NaN</td>\n",
              "      <td>NaN</td>\n",
              "      <td>NaN</td>\n",
              "      <td>NaN</td>\n",
              "      <td>NaN</td>\n",
              "      <td>NaN</td>\n",
              "      <td>NaN</td>\n",
              "      <td>NaN</td>\n",
              "      <td>NaN</td>\n",
              "      <td>NaN</td>\n",
              "      <td>NaN</td>\n",
              "      <td>NaN</td>\n",
              "      <td>NaN</td>\n",
              "      <td>730.0</td>\n",
              "      <td>12.0</td>\n",
              "      <td>9.4</td>\n",
              "      <td>NaN</td>\n",
              "      <td>NaN</td>\n",
              "      <td>NaN</td>\n",
              "      <td>NaN</td>\n",
              "      <td>NaN</td>\n",
              "      <td>NaN</td>\n",
              "      <td>NaN</td>\n",
              "      <td>NaN</td>\n",
              "      <td>NaN</td>\n",
              "      <td>NaN</td>\n",
              "      <td>NaN</td>\n",
              "      <td>NaN</td>\n",
              "      <td>NaN</td>\n",
              "      <td>NaN</td>\n",
              "      <td>NaN</td>\n",
              "      <td>0.09</td>\n",
              "      <td>NaN</td>\n",
              "    </tr>\n",
              "  </tbody>\n",
              "</table>\n",
              "<p>5 rows × 135 columns</p>\n",
              "</div>"
            ],
            "text/plain": [
              "   SortOrder        GRM  ValueType  ...  V2O5_pct_WDX  F_pct_ISE  S_pct_IR\n",
              "0          1      AGV-1  Preferred  ...          0.02       0.04       NaN\n",
              "1          2      AGV-1       Mean  ...           NaN       0.05       NaN\n",
              "2         11  CBT-QCM-1  Preferred  ...         <0.01        NaN       NaN\n",
              "3         12  CBT-QCM-1       Mean  ...           NaN        NaN       NaN\n",
              "4         21     DGPM-1  Preferred  ...           NaN       0.09       NaN\n",
              "\n",
              "[5 rows x 135 columns]"
            ]
          },
          "metadata": {
            "tags": []
          }
        },
        {
          "output_type": "stream",
          "text": [
            "==============\n"
          ],
          "name": "stdout"
        }
      ]
    }
  ]
}