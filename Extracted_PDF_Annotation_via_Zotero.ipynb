{
  "nbformat": 4,
  "nbformat_minor": 0,
  "metadata": {
    "colab": {
      "name": "Extracted PDF Annotation via Zotero.ipynb",
      "provenance": [],
      "authorship_tag": "ABX9TyP86B8a8+BslrFbZlqY6RBE",
      "include_colab_link": true
    },
    "kernelspec": {
      "name": "python3",
      "display_name": "Python 3"
    },
    "language_info": {
      "name": "python"
    }
  },
  "cells": [
    {
      "cell_type": "markdown",
      "metadata": {
        "id": "view-in-github",
        "colab_type": "text"
      },
      "source": [
        "<a href=\"https://colab.research.google.com/github/skybristol/experiments/blob/dev/Extracted_PDF_Annotation_via_Zotero.ipynb\" target=\"_parent\"><img src=\"https://colab.research.google.com/assets/colab-badge.svg\" alt=\"Open In Colab\"/></a>"
      ]
    },
    {
      "cell_type": "markdown",
      "metadata": {
        "id": "jtzwSnLRFKAJ"
      },
      "source": [
        "I'm experimenting here with a process to turn annotations created within PDF files stored as part of a Zotero library into metadata contents and structured annotations for the bibliographic record. This is essentially for cases where there is no good citation metadata already in existence somewhere on the web (e.g., for certain types of government reports) and we need to extract that content from within PDFs. It's also for cases where built-in structured PDF metadata is no good, which is the case for anything other than professionally built PDFs (e.g., just exporting a PDF from your word processor does not build a good PDF). This technique also holds promise for setting up training data for building various kinds of entity recognition models to auto-extract particular concepts from full texts processed with NLP.\n",
        "\n",
        "I used the ZotFile plugins for Zotero, inspired by [this video](https://www.youtube.com/watch?v=_Fjhad-Z61o&t=1251s). In Zotero, the process includes storing the PDF file as an attachment so that Zotero is \"managing\" it, annotating the file using some type of PDF markup tool (I used Preview on Mac), and then running the ZotFile tool to extract annotations from the PDF which creates a rich text (html) note for the item in Zotero. The notes are synced to the group library with Zotero online where they can be picked up for processing.\n",
        "\n",
        "For annotation, I used a combination of highlighting particular text and then tagging that text with a keyword corresponding to a target part of the citation metadata I'm trying to identify (e.g., title, authors, etc.). I should then be able to pull these two pieces out of the generated markdown into a data structure that I can feed back into the corresponding record via the Zotero API.\n",
        "\n",
        "For the Python processing workflow part of this, I used the pyzotero package to connect to the Zotero group library, read items with notes, and then processed those items to generate structured data from the HTML notes that can be reinjected back into the items."
      ]
    },
    {
      "cell_type": "code",
      "metadata": {
        "id": "ump_4YY_PwtX"
      },
      "source": [
        "!pip install pyzotero"
      ],
      "execution_count": null,
      "outputs": []
    },
    {
      "cell_type": "code",
      "metadata": {
        "id": "tah2x2bj9UWH"
      },
      "source": [
        "from bs4 import BeautifulSoup\n",
        "import re\n",
        "from pyzotero import zotero\n",
        "from getpass import getpass"
      ],
      "execution_count": 1,
      "outputs": []
    },
    {
      "cell_type": "markdown",
      "metadata": {
        "id": "4NDeZC__aA8Q"
      },
      "source": [
        "This function handles the process of working a given Zotero child item's note content to detect if it was generated using the ZotFile process and then extracting the annotations into a usable data structure (list of dictionaries)."
      ]
    },
    {
      "cell_type": "code",
      "metadata": {
        "id": "vULdcZcWA-5V"
      },
      "source": [
        "annotation_property_map = [\n",
        "    {\n",
        "        \"property_name\": \"title\",\n",
        "        \"property_type\": \"single\"\n",
        "    },\n",
        "    {\n",
        "        \"property_name\": \"date\",\n",
        "        \"property_type\": \"single\"\n",
        "    },\n",
        "    {\n",
        "        \"property_name\": \"institution\",\n",
        "        \"property_type\": \"single\"\n",
        "    },\n",
        "    {\n",
        "        \"property_name\": \"author\",\n",
        "        \"property_type\": \"multi\"\n",
        "    },\n",
        "    {\n",
        "        \"property_name\": \"project\",\n",
        "        \"property_type\": \"tag\"\n",
        "    },\n",
        "    {\n",
        "        \"property_name\": \"place\",\n",
        "        \"property_type\": \"tag\"\n",
        "    },\n",
        "    {\n",
        "        \"property_name\": \"commodity\",\n",
        "        \"property_type\": \"tag\"\n",
        "    },\n",
        "]\n",
        "\n",
        "def structured_annotations(item_key, annotation_html, property_map=annotation_property_map):\n",
        "    extract_keywords = [i[\"property_name\"] for i in property_map]\n",
        "\n",
        "    annotations_soup = BeautifulSoup(annotation_html, 'html.parser')\n",
        "    pattern = '\\\"(.*?)\\\"'\n",
        "\n",
        "    paragraphs = annotations_soup.find_all(\"p\")\n",
        "\n",
        "    if \"Extracted Annotations\" not in paragraphs[0].text:\n",
        "        return None\n",
        "\n",
        "    annotation_texts = list()\n",
        "    for index,p in enumerate(paragraphs):\n",
        "        if p.text.split()[0] in extract_keywords:\n",
        "            prop = p.text.split()[0]\n",
        "            annotation_text = re.search(pattern, paragraphs[index - 1].text)\n",
        "            if annotation_text is not None:\n",
        "                annotation_texts.append({\n",
        "                    \"item_key\": item_key,\n",
        "                    \"text\": annotation_text.group(1),\n",
        "                    \"property\": prop\n",
        "                })\n",
        "    return annotation_texts\n",
        "\n",
        "def update_zotero_item(\n",
        "    item_key, \n",
        "    annotations_list, \n",
        "    zotero_api, \n",
        "    commit_update=True,\n",
        "    property_map=annotation_property_map):\n",
        "    update_item = zotero_api.item(item_key)\n",
        "    if not update_item:\n",
        "        return\n",
        "\n",
        "    available_updates = [i for i in annotations_list if i[\"item_key\"] == item_key]\n",
        "    if available_updates:\n",
        "        single_value_props = [i[\"property_name\"] for i in property_map if i[\"property_type\"] == \"single\"]\n",
        "        tag_props = [i[\"property_name\"] for i in property_map if i[\"property_type\"] == \"tag\"]\n",
        "\n",
        "        for prop in single_value_props:\n",
        "            update_value = next((i[\"text\"] for i in available_updates if i[\"property\"] == prop), None)\n",
        "            if update_value is not None:\n",
        "                update_item[\"data\"][prop] = update_value\n",
        "\n",
        "        update_item[\"data\"][\"place\"] = \",\".join([i[\"text\"] for i in available_updates if i[\"property\"] == \"place\"])\n",
        "        update_item[\"data\"][\"creators\"] = [{'creatorType': 'author', 'name': i[\"text\"]} for i in available_updates if i[\"property\"] == \"author\"]\n",
        "        update_item[\"data\"][\"tags\"] = [{'tag': i[\"text\"]} for i in available_updates if i[\"property\"] in tag_props]\n",
        "\n",
        "    if commit_update:\n",
        "        zotero_api.update_item(update_item)\n",
        "\n",
        "    return update_item\n"
      ],
      "execution_count": 2,
      "outputs": []
    },
    {
      "cell_type": "markdown",
      "metadata": {
        "id": "dLX1_JRaaSCz"
      },
      "source": [
        "To interface with the Zotero API, you need to provide a library ID and an API key. This should work for anyone with a group library that has followed the same process I outlined above."
      ]
    },
    {
      "cell_type": "code",
      "metadata": {
        "colab": {
          "base_uri": "https://localhost:8080/"
        },
        "id": "NHy-0rgMP2HT",
        "outputId": "dc2fae69-6ba7-4976-af93-206285eb4140"
      },
      "source": [
        "zot = zotero.Zotero(input(\"Library ID \"), \"group\", getpass(prompt=\"API Key \"))"
      ],
      "execution_count": 3,
      "outputs": [
        {
          "output_type": "stream",
          "text": [
            "Library ID 4373054\n",
            "API Key ··········\n"
          ],
          "name": "stdout"
        }
      ]
    },
    {
      "cell_type": "markdown",
      "metadata": {
        "id": "1sK-iahFadzi"
      },
      "source": [
        "This process would need to be worked out further in production practice, but we essentially walk the items in a given library looking for notes. There might be some more efficient way to zero in on these, but I haven't figured it out yet with pyzotero. Here, we make a pass through every item, look for items with children, get the children, and then get any that have notes. I assume that this might be additive where all note items that can be processed will be yielding annotations for the given parent item. I send the note html along with the associated item key to the function to return available structured annotations for further processing. Since every annotation will essentially contain a key/value pair (property and text content), we can simply build out an array of these with their item keys for further processing."
      ]
    },
    {
      "cell_type": "code",
      "metadata": {
        "id": "s5SPrL0oX-Fa"
      },
      "source": [
        "item_annotations = list()\n",
        "for item in zot.all_top():\n",
        "    if item[\"meta\"][\"numChildren\"] > 0:\n",
        "        note_children = [i for i in zot.children(item[\"key\"]) if i[\"data\"][\"itemType\"] == \"note\"]\n",
        "        if note_children:\n",
        "            for note_child in note_children:\n",
        "                extracted_annotations = structured_annotations(item[\"key\"], note_child[\"data\"][\"note\"])\n",
        "                if extracted_annotations:\n",
        "                    item_annotations.extend(extracted_annotations)\n"
      ],
      "execution_count": 4,
      "outputs": []
    },
    {
      "cell_type": "markdown",
      "metadata": {
        "id": "IJB3IitmbQAd"
      },
      "source": [
        "In this case, we got the one item where I've annotated and then extracted text snippets corresponding to specific metadata elements I'm identifying and wanting to work with."
      ]
    },
    {
      "cell_type": "code",
      "metadata": {
        "colab": {
          "base_uri": "https://localhost:8080/"
        },
        "id": "SvMrVsZJZ5D4",
        "outputId": "96b3dea4-3324-4432-9e87-c5781680cfad"
      },
      "source": [
        "item_annotations"
      ],
      "execution_count": 5,
      "outputs": [
        {
          "output_type": "execute_result",
          "data": {
            "text/plain": [
              "[{'item_key': 'QZFHM2ZK',\n",
              "  'property': 'institution',\n",
              "  'text': 'Avino Silver & Gold Mines Ltd.'},\n",
              " {'item_key': 'QZFHM2ZK',\n",
              "  'property': 'title',\n",
              "  'text': 'Resource Estimate Update for the Avino Property, Durango, Mexico'},\n",
              " {'item_key': 'QZFHM2ZK', 'property': 'date', 'text': 'JANUARY 13, 2021'},\n",
              " {'item_key': 'QZFHM2ZK', 'property': 'author', 'text': 'Hassan Ghaffari'},\n",
              " {'item_key': 'QZFHM2ZK', 'property': 'author', 'text': \"Michael F. O'Brien\"},\n",
              " {'item_key': 'QZFHM2ZK', 'property': 'author', 'text': 'Barnard Foo'},\n",
              " {'item_key': 'QZFHM2ZK',\n",
              "  'property': 'author',\n",
              "  'text': 'Jianhui (John) Huang'},\n",
              " {'item_key': 'QZFHM2ZK', 'property': 'place', 'text': 'San Gonzalo Mine'},\n",
              " {'item_key': 'QZFHM2ZK', 'property': 'place', 'text': 'Durango, Mexico'},\n",
              " {'item_key': 'QZFHM2ZK',\n",
              "  'property': 'place',\n",
              "  'text': 'Elena Tolosa (ET) Mine'},\n",
              " {'item_key': 'MFA5N9X9',\n",
              "  'property': 'institution',\n",
              "  'text': 'BULLFROG GOLD CORP.'},\n",
              " {'item_key': 'MFA5N9X9',\n",
              "  'property': 'title',\n",
              "  'text': 'NI 43-101 Technical Report Mineral Resource Estimate Bullfrog Gold Project Nye County, Nevada'},\n",
              " {'item_key': 'MFA5N9X9', 'property': 'date', 'text': 'August 9, 2017'},\n",
              " {'item_key': 'MFA5N9X9', 'property': 'author', 'text': 'Rex Bryan'},\n",
              " {'item_key': 'MFA5N9X9',\n",
              "  'property': 'project',\n",
              "  'text': 'Bullfrog Gold Project'},\n",
              " {'item_key': 'MFA5N9X9',\n",
              "  'property': 'place',\n",
              "  'text': 'Bullfrog Mining District'},\n",
              " {'item_key': 'MFA5N9X9', 'property': 'place', 'text': 'Bullfrog Hills'},\n",
              " {'item_key': 'MFA5N9X9', 'property': 'place', 'text': 'Nye County'},\n",
              " {'item_key': 'MFA5N9X9', 'property': 'place', 'text': 'Nevada'},\n",
              " {'item_key': 'MFA5N9X9', 'property': 'commodity', 'text': 'gold'},\n",
              " {'item_key': 'MFA5N9X9', 'property': 'commodity', 'text': 'silver'}]"
            ]
          },
          "metadata": {
            "tags": []
          },
          "execution_count": 5
        }
      ]
    },
    {
      "cell_type": "markdown",
      "metadata": {
        "id": "cY4e7qQYLdoC"
      },
      "source": [
        "I added an additional function to work through the annotations gathered and commit them back to the respective Zotero items cataloging the annotated files. This basically roundtrips the process, letting us propose a workflow concentrated on marking up \"messy\" PDF files using meta keywords and then leveraging Zotero and ZotFile to build out the catalog records from the annotation markup."
      ]
    },
    {
      "cell_type": "code",
      "metadata": {
        "id": "TuhPsN7b3HhM"
      },
      "source": [
        "for item_key in list(set([i[\"item_key\"] for i in item_annotations])):\n",
        "    update_zotero_item(item_key, item_annotations, zot, commit_update=True)"
      ],
      "execution_count": 6,
      "outputs": []
    },
    {
      "cell_type": "markdown",
      "metadata": {
        "id": "gJFRZHCoH4oE"
      },
      "source": [
        "What I did above so far is a reasonable start, but there are a few issues.\n",
        "\n",
        "* This is pretty brittle at this point and requires a very specific convention to be followed in annotating a PDF text. This would need to be made a bit more robust in terms of dealing with text strings and different things people might do in free and open annotations. I mitigated this a little bit in the function by first looking for a set of keywords identifying the specific bits of annotation that we want to go after and then getting the highlighted text the annotation is identifying. However, some type of conventions would need to be established and followed in terms of highlighting a chunk of text and then marking up its particular significance. If we want to simply pick out the major elements of reasonably complete citation metadata, then something like I tried here should work well enough.\n",
        "* I still need to work out the best way to feed everything back into building more usable report reference items in Zotero once metadata properties are extracted. That should be pretty straightforward, but I want to fiddle with the simplest workflow possible where someone would mark up a bunch of PDFs quickly, load the files to the Zotero library without making report items from them, and then see if the whole process can work from there.\n",
        "\n",
        "My takeaway so far is that it's actually really nice and fast to simply open up a PDF file and start marking it up. Theoretically, this could be done on a whole batch of PDFs totally separate from Zotero, bulk import those to Zotero, run the ZotFile extraction on the annotations, and then generate properly documented items. For the types of files this applies to, Zotero is not going to recognize that they should be \"report\" type items, so that part of things would need to be handled through the API. As noted, the real point here is to train an AI to do this work, at least within some contextual boundaries. But even if it was a person sitting down doing this work, it should be much faster to open a PDF, mark it up following a particular convention to identify the important bits, and then have a system take over to parse and catalog the files."
      ]
    }
  ]
}