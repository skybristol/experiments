{
 "cells": [
  {
   "cell_type": "markdown",
   "metadata": {},
   "source": [
    "This notebook demonstrates how someone might go about pulling PDF file attachments from a Zotero group library for processing in some other environment (e.g., segmentation, vectorization, and AI-powered pipelines). We are using Zotero for managing collections of documents that are not otherwise readily accessible through some other repository. We use the metadata model to contain citation details along with feedback from pipeline processing of different kinds.\n",
    "\n",
    "In Zotero group libraries, file content is stored as \"attachments\" to Zotero library items. These are available using the itemType parameter in the API with 'attachment' as the value. There can be other types of attachments in addition to PDFs; mostly markdown files from notes that are either extracted from marked up PDF files (using the Zotfile extension) or notes written by a user through the Zotero client.\n",
    "\n",
    "### Dependencies\n",
    "* Pyzotero package installed from PyPi or CondaForge\n",
    "* Zoteor group library ID that you want to operate on\n",
    "* API key with access to the group library"
   ]
  },
  {
   "cell_type": "code",
   "execution_count": 1,
   "metadata": {},
   "outputs": [],
   "source": [
    "from pyzotero import zotero\n",
    "from getpass import getpass"
   ]
  },
  {
   "cell_type": "markdown",
   "metadata": {},
   "source": [
    "The following will prompt for a library ID and API key. You can change the code to pull the IDs in from env variables or however you wish to go about it."
   ]
  },
  {
   "cell_type": "code",
   "execution_count": 2,
   "metadata": {},
   "outputs": [],
   "source": [
    "library_id = input('Zotero Group Library ID')\n",
    "api_key = getpass(prompt='API Key')"
   ]
  },
  {
   "cell_type": "markdown",
   "metadata": {},
   "source": [
    "Establish connection to Zotero"
   ]
  },
  {
   "cell_type": "code",
   "execution_count": 3,
   "metadata": {},
   "outputs": [],
   "source": [
    "zot = zotero.Zotero(\n",
    "    library_id,\n",
    "    'group',\n",
    "    api_key\n",
    ")"
   ]
  },
  {
   "cell_type": "markdown",
   "metadata": {},
   "source": [
    "### Get Attachment Items\n",
    "\n",
    "There are several ways of interacting with a group library using the API. As a REST API, things are a little slow and cumbersome in trying to deal with a sizable library. In the example here, we have nearly 15K reports with PDF attachments to work through, throttled at essentially 50 records at a time. You can create a generator using either the makeiter() or iterfollow() methods. Here, I use the everything() method to simply grab every item of type 'attachment' in one lengthy run. That gives us all the necessary identifiers to operate a file retrieval operation, which we can parallelize within reason."
   ]
  },
  {
   "cell_type": "code",
   "execution_count": 4,
   "metadata": {},
   "outputs": [],
   "source": [
    "attachments = zot.everything(zot.items(itemType='attachment'))"
   ]
  },
  {
   "cell_type": "markdown",
   "metadata": {},
   "source": [
    "### PDF Attachments\n",
    "\n",
    "If our goal is to get all PDFs for processing elsewhere using something like the pyzotero dump() wrapper, we can tease out just the vital identifiers from the records pulled above to operate on. It is important to retain traceability back to the library and metadata item identifiers so that any extracted information can be linked to core metadata in future. The following function and list comprehension will pull out the library ID, the metadata key that is our core reference point to an individual report, and the attachment key for the PDF. It also pulls the original file name as stored in Zotero and puts together a potential file name, made up of the identifiers, that can be used if desired."
   ]
  },
  {
   "cell_type": "code",
   "execution_count": 10,
   "metadata": {},
   "outputs": [],
   "source": [
    "def file_meta_from_item(item):\n",
    "    if 'up' in item['links'] and 'enclosure' in item['links'] and item['links']['enclosure']['type'] == 'application/pdf':\n",
    "        lib_id = item['library']['id']\n",
    "        meta_key = item['links']['up']['href'].split('/')[-1]\n",
    "        attachment_key = item['links']['self']['href'].split('/')[-1]\n",
    "        linked_file_name = f\"{lib_id}_{meta_key}_{attachment_key}.pdf\"\n",
    "        original_file_name = item['links']['enclosure']['title']\n",
    "\n",
    "        return {\n",
    "            'library_id': lib_id,\n",
    "            'metadata_key': meta_key,\n",
    "            'attachment_key': attachment_key,\n",
    "            'linked_file_name': linked_file_name,\n",
    "            'original_file_name': original_file_name\n",
    "        }\n",
    "\n",
    "pdf_attachments = [file_meta_from_item(i) for i in attachments]\n",
    "pdf_attachments = [i for i in pdf_attachments if i is not None]\n"
   ]
  },
  {
   "cell_type": "markdown",
   "metadata": {},
   "source": [
    "### Operational Concept\n",
    "\n",
    "In an operational mode, working with the Zotero API can be done fairly efficiently by storing a cache of relevant information taken as a snapshot at a point in time. Zotero libraries use a sequential versioning scheme, and the API supports querying for changes after a particular version. In the following code block, I pull the max version number from the attachments API run that I used. I then use Pandas to dump the basic information I pulled in this case to a parquet file for ease of use in a subsequent step to download files. Below that, I demonstrate the dump method with pyzotero to take a given file and drop it to storage. In a real world case, you would want to spin something up to write data to an appropriate location for processing. Pyzotero is not aware of something like S3 or other cloud storage protocols, so you will need to work out an appropriate routing or method based on your environment."
   ]
  },
  {
   "cell_type": "code",
   "execution_count": 19,
   "metadata": {},
   "outputs": [
    {
     "name": "stdout",
     "output_type": "stream",
     "text": [
      "MAX VERSION: 77250\n"
     ]
    }
   ],
   "source": [
    "import pandas as pd\n",
    "\n",
    "print(\"MAX VERSION:\", max([i['version'] for i in attachments]))\n",
    "\n",
    "df_pdf_attachments = pd.DataFrame(pdf_attachments)\n",
    "df_pdf_attachments.to_parquet(f'{library_id}.parquet')"
   ]
  },
  {
   "cell_type": "code",
   "execution_count": 25,
   "metadata": {},
   "outputs": [
    {
     "name": "stdout",
     "output_type": "stream",
     "text": [
      "C3433BTD\n",
      "4530692_PRQ264BE_C3433BTD.pdf\n"
     ]
    }
   ],
   "source": [
    "sample_record = df_pdf_attachments.sample().iloc[0].to_dict()\n",
    "print(sample_record['attachment_key'])\n",
    "print(sample_record['linked_file_name'])\n",
    "\n",
    "zot.dump(\n",
    "    sample_record['attachment_key'],\n",
    "    filename=sample_record['linked_file_name'],\n",
    "    path='./'\n",
    ")"
   ]
  }
 ],
 "metadata": {
  "kernelspec": {
   "display_name": "myenv",
   "language": "python",
   "name": "python3"
  },
  "language_info": {
   "codemirror_mode": {
    "name": "ipython",
    "version": 3
   },
   "file_extension": ".py",
   "mimetype": "text/x-python",
   "name": "python",
   "nbconvert_exporter": "python",
   "pygments_lexer": "ipython3",
   "version": "3.11.4"
  },
  "orig_nbformat": 4
 },
 "nbformat": 4,
 "nbformat_minor": 2
}
