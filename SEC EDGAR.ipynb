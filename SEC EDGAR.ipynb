{
 "cells": [
  {
   "cell_type": "markdown",
   "id": "dd21bd11-462c-4b41-93df-13c251a7cd3f",
   "metadata": {},
   "source": [
    "This notebook explores a new source of information we need to work through for the \"Assessment Analytical Framework\" we are developing to support mineral resource assessments in the USGS. The framework consists of various technologies designed to produce analysis-ready data for the assessment process. A big part of that is the development of workflows, as automated as possible, that pull source data and information and \"mobilize\" them up for use.\n",
    "\n",
    "For many years, we've been collecting and working with a type of technical report required of mining companies based in Canada (NI 43-101 Technical Report) as a source for mineral deposit type information and other geoscientific details. The Securities and Exchange Commission (SEC) in the U.S. now also [requires this type of information](https://www.sec.gov/corpfin/secg-modernization-property-disclosures-mining-registrants) to be filed as a regular submission from any publicly traded mining companies in the U.S. Similar to the NI 43-101 Reports that we have assembled for use in a Zotero collection, we also need to start pulling and organizing the  S-K 1300 Technical Reports required by the SEC. All of the same basic requirements apply:\n",
    "\n",
    "* Provide an online locale for the reports that is easily accessible and manageable by assessment geologists and science support staff\n",
    "* Provide for consistent, publicly citable references in reports and articles, including ensuring long-term viability of the citable references\n",
    "* Provide a mechanism for routine annotation of reports by assessment geologists and science support staff\n",
    "* Provide a means for the report contents to be fed into AI/ML pipelines for further processing to identify/link entities (mineral deposit sites, etc.) and automate aspects of turning information into analyzable data\n",
    "\n",
    "As an improvement over the situation with the [SEDAR](https://www.sedar.com/) source for NI 43-101 Reports where we have a web site expressly protected against robot interfaces, the SEC's EDGAR platform provides some decent [direct data interfaces](https://www.sec.gov/edgar/sec-api-documentation) to support automated retrieval of the company submissions we are interested in. Data from the SEC is of great interest in a lot of different circumstances, and their data handling and availability seems to be subsequently quite mature.\n",
    "\n",
    "Our initial starting point is likely the set of two bulk data downloads compiled nightly. Both of these are zip files with JSON documents for each unique identified company over which the SEC exercises regulatory authority. One of these contains a set of \"company facts,\" and the other lists the submissions the companies have filed with the SEC (which should include the S-K 1300 Technical Reports).\n",
    "\n",
    "Many times, bulk downloads are a much better starting point or even long-term source for data from an origin point like this. They give us a big tranche of data that we have to download initially and spin up into some kind of our own data infrastructure for use, but they help us avoid a number of problems that can arise when trying to operate against what are often purpose-built APIs that may be less than fully stable or may not provide the most efficient means for us to obtain the answers we want. In this case as with many others, we really only want a small slice of what the overall source contains (the SEC regulates many companies, only some of which are involved in mineral resources).\n",
    "\n",
    "The nighly files appear to contain current information, and it's not yet clear if we will need to tap some other source (like the live APIs) for historic facts (if we are interested in any of those) or submissions. One way or the other, we need to narrow in on those companies required to file S-K 1300 Technical Reports. The remainder of this notebook starts to crack open the bulk downloads to explore how we might go about effectively working this source into our analytical framework."
   ]
  },
  {
   "cell_type": "code",
   "execution_count": 2,
   "id": "16dcebf2-3bcb-4841-aef4-e66e83f41454",
   "metadata": {},
   "outputs": [],
   "source": [
    "import json\n",
    "from glob import glob"
   ]
  },
  {
   "cell_type": "markdown",
   "id": "6391e1e8-afdb-4998-ae33-a3a8feef56dc",
   "metadata": {
    "tags": []
   },
   "source": [
    "# Company Facts\n",
    "The company facts download pulled on 8/15/2022 contains 16,410 files, presumably representing each of the uniquely identified companies with a \"CIK\" identifier that the SEC tracks. I pulled just a few of these to take a look."
   ]
  },
  {
   "cell_type": "code",
   "execution_count": 3,
   "id": "bbf9c321-d4ab-4193-be3d-203a0117226a",
   "metadata": {},
   "outputs": [
    {
     "data": {
      "text/plain": [
       "['/home/skybristol/experiments/data/sec_edgar/companyfacts/CIK0001892274.json',\n",
       " '/home/skybristol/experiments/data/sec_edgar/companyfacts/CIK0001898496.json',\n",
       " '/home/skybristol/experiments/data/sec_edgar/companyfacts/CIK0001885827.json']"
      ]
     },
     "execution_count": 3,
     "metadata": {},
     "output_type": "execute_result"
    }
   ],
   "source": [
    "sample_companyfacts_files = glob('/home/skybristol/experiments/data/sec_edgar/companyfacts/*')\n",
    "sample_companyfacts_files"
   ]
  },
  {
   "cell_type": "code",
   "execution_count": 4,
   "id": "7a9ff586-0c97-48b2-bbb2-e67f8b930146",
   "metadata": {},
   "outputs": [],
   "source": [
    "sample_companyfacts = json.load(open(sample_companyfacts_files[0], \"r\"))"
   ]
  },
  {
   "cell_type": "markdown",
   "id": "f37b1cb3-65ec-4d18-a164-3831f6cc64e6",
   "metadata": {},
   "source": [
    "Beyond the CIK identifier the SEC uses, there is a name for a company, which is likely a whole other issue we may or may not need to deal with. There might be some scenarios for downstream uses of these data where we need to effectively link together multiple sources of data tied to a given company entity. There might be different derivations of the names to deal with or temporal issues where company names/identifiers change."
   ]
  },
  {
   "cell_type": "code",
   "execution_count": 5,
   "id": "09685ec6-3184-4c5e-bec1-1eacd2d171ca",
   "metadata": {},
   "outputs": [
    {
     "data": {
      "text/plain": [
       "'Visionary Education Technology Holdings Group Inc.'"
      ]
     },
     "execution_count": 5,
     "metadata": {},
     "output_type": "execute_result"
    }
   ],
   "source": [
    "sample_companyfacts[\"entityName\"]"
   ]
  },
  {
   "cell_type": "markdown",
   "id": "604605c9-be26-452e-be8b-8c867d101c28",
   "metadata": {},
   "source": [
    "## Company Facts leading to \"Mining Registrant\"\n",
    "The bulk of the data in the company facts information is contained in a part of the structure coded as \"facts/us-gaap.\" A short bit of digging shows that the properties here track to a [standard financial reporting taxonomy](https://www.fasb.org/xbrl) the SEC has [adopted](https://www.sec.gov/info/edgar/edgartaxonomies.shtml#USGAAP2019). This gives us a nice starting point to understand the data and figure out what we can use for what purposes.\n",
    "\n",
    "We can approach our problem from a couple different perspectives. It might be useful to identify all of the companies who are considered \"mining registrants.\" This is the term the SEC uses in its [guidance](https://www.sec.gov/corpfin/secg-modernization-property-disclosures-mining-registrants). So, one question is, how do we figure out which companies (of the, presumably, 16,410) are mining registrants? We need to do some digging to see if there is something specific or a combination of attributes that would help us work this out."
   ]
  },
  {
   "cell_type": "code",
   "execution_count": 6,
   "id": "22036cd5-8256-43e6-8ccd-6ee15c635d31",
   "metadata": {},
   "outputs": [
    {
     "data": {
      "text/plain": [
       "['AccountsPayableCurrent',\n",
       " 'AccountsReceivableGross',\n",
       " 'AccountsReceivableNet',\n",
       " 'AccountsReceivableNetCurrent',\n",
       " 'AccountsReceivableRelatedParties',\n",
       " 'AccountsReceivableRelatedPartiesCurrent',\n",
       " 'AccruedIncomeTaxes',\n",
       " 'AccruedIncomeTaxesCurrent',\n",
       " 'AccruedLiabilitiesCurrent',\n",
       " 'AccruedLiabilitiesForCommissionsExpenseAndTaxes',\n",
       " 'AccumulatedDepreciationDepletionAndAmortizationPropertyPlantAndEquipment',\n",
       " 'AccumulatedOtherComprehensiveIncomeLossNetOfTax',\n",
       " 'AdditionalPaidInCapital',\n",
       " 'AllowanceForDoubtfulAccountsReceivable',\n",
       " 'AntidilutiveSecuritiesExcludedFromComputationOfEarningsPerShareAmount',\n",
       " 'AssetImpairmentCharges',\n",
       " 'Assets',\n",
       " 'AssetsCurrent',\n",
       " 'BusinessCombinationPriceOfAcquisitionExpected',\n",
       " 'BusinessCombinationRecognizedIdentifiableAssetsAcquiredAndLiabilitiesAssumedIndefiniteLivedIntangibleAssets',\n",
       " 'BusinessCombinationRecognizedIdentifiableAssetsAcquiredGoodwillAndLiabilitiesAssumedNet',\n",
       " 'CapitalExpenditureDiscontinuedOperations',\n",
       " 'Cash',\n",
       " 'CashCashEquivalentsRestrictedCashAndRestrictedCashEquivalents',\n",
       " 'CashCashEquivalentsRestrictedCashAndRestrictedCashEquivalentsPeriodIncreaseDecreaseIncludingExchangeRateEffect',\n",
       " 'CommonStockNoParValue',\n",
       " 'CommonStockParOrStatedValuePerShare',\n",
       " 'CommonStockSharesOutstanding',\n",
       " 'ComprehensiveIncomeNetOfTax',\n",
       " 'ComprehensiveIncomeNetOfTaxAttributableToNoncontrollingInterest',\n",
       " 'ContractualObligation',\n",
       " 'ContractualObligationDueAfterFifthYear',\n",
       " 'ContractualObligationDueInSecondAndThirdYear',\n",
       " 'CostOfRevenue',\n",
       " 'CurrentIncomeTaxExpenseBenefit',\n",
       " 'DebtInstrumentPeriodicPaymentPrincipal',\n",
       " 'DeferredIncomeTaxExpenseBenefit',\n",
       " 'DeferredIncomeTaxLiabilities',\n",
       " 'DeferredRevenue',\n",
       " 'DeferredTaxAssetsGoodwillAndIntangibleAssets',\n",
       " 'DeferredTaxAssetsGross',\n",
       " 'DeferredTaxAssetsLiabilitiesNet',\n",
       " 'DeferredTaxAssetsNet',\n",
       " 'DeferredTaxAssetsOperatingLossCarryforwards',\n",
       " 'DeferredTaxAssetsPropertyPlantAndEquipment',\n",
       " 'DeferredTaxAssetsTaxDeferredExpenseOther',\n",
       " 'DeferredTaxAssetsValuationAllowance',\n",
       " 'DeferredTaxLiabilities',\n",
       " 'DeferredTaxLiabilitiesFinancingArrangements',\n",
       " 'DeferredTaxLiabilitiesGoodwillAndIntangibleAssets',\n",
       " 'DeferredTaxLiabilitiesOther',\n",
       " 'DeferredTaxLiabilitiesPropertyPlantAndEquipment',\n",
       " 'DepositAssets',\n",
       " 'Depreciation',\n",
       " 'DepreciationAndAmortization',\n",
       " 'DueFromOtherRelatedParties',\n",
       " 'DueFromRelatedParties',\n",
       " 'DueToRelatedPartiesCurrent',\n",
       " 'EarningsPerShareBasic',\n",
       " 'EarningsPerShareDiluted',\n",
       " 'EffectiveIncomeTaxRateReconciliationAtFederalStatutoryIncomeTaxRate',\n",
       " 'EffectOfExchangeRateOnCashCashEquivalentsRestrictedCashAndRestrictedCashEquivalents',\n",
       " 'FiniteLivedIntangibleAssetsNet',\n",
       " 'GeneralAndAdministrativeExpense',\n",
       " 'Goodwill',\n",
       " 'GoodwillAndIntangibleAssetImpairment',\n",
       " 'GrossProfit',\n",
       " 'ImpairmentOfIntangibleAssetsIndefinitelivedExcludingGoodwill',\n",
       " 'IncomeLossFromContinuingOperationsAttributableToNoncontrollingEntity',\n",
       " 'IncomeTaxExaminationEstimateOfPossibleLoss',\n",
       " 'IncomeTaxExaminationPenaltiesAndInterestAccrued',\n",
       " 'IncomeTaxExpenseBenefit',\n",
       " 'IncomeTaxesPaidNet',\n",
       " 'IncomeTaxReconciliationChangeInEnactedTaxRate',\n",
       " 'IncomeTaxReconciliationDeductions',\n",
       " 'IncomeTaxReconciliationIncomeTaxExpenseBenefitAtFederalStatutoryIncomeTaxRate',\n",
       " 'IncomeTaxReconciliationNondeductibleExpense',\n",
       " 'IncreaseDecreaseDueFromOtherRelatedParties',\n",
       " 'IncreaseDecreaseInAccountsPayable',\n",
       " 'IncreaseDecreaseInAccountsReceivable',\n",
       " 'IncreaseDecreaseInAccountsReceivableRelatedParties',\n",
       " 'IncreaseDecreaseInAccruedLiabilities',\n",
       " 'IncreaseDecreaseInDeferredRevenue',\n",
       " 'IncreaseDecreaseInIncomeTaxes',\n",
       " 'IncreaseDecreaseInInventories',\n",
       " 'IncreaseDecreaseInOtherCurrentAssets',\n",
       " 'IntangibleAssetsCurrent',\n",
       " 'IntangibleAssetsNetExcludingGoodwill',\n",
       " 'InterestExpense',\n",
       " 'InterestExpenseOther',\n",
       " 'InterestPaidNet',\n",
       " 'InventoryGross',\n",
       " 'InventoryLandHeldForDevelopmentAndSale',\n",
       " 'InventoryNet',\n",
       " 'InventoryValuationReserves',\n",
       " 'Land',\n",
       " 'LesseeOperatingLeaseLiabilityPaymentsDueNextTwelveMonths',\n",
       " 'LesseeOperatingLeaseLiabilityPaymentsDueYearFive',\n",
       " 'LesseeOperatingLeaseLiabilityPaymentsDueYearFour',\n",
       " 'LesseeOperatingLeaseLiabilityPaymentsDueYearThree',\n",
       " 'LesseeOperatingLeaseLiabilityPaymentsDueYearTwo',\n",
       " 'LesseeOperatingLeaseLiabilityUndiscountedExcessAmount',\n",
       " 'Liabilities',\n",
       " 'LiabilitiesAndStockholdersEquity',\n",
       " 'LiabilitiesCurrent',\n",
       " 'LineOfCreditFacilityDecreaseForgiveness1',\n",
       " 'LoansAndLeasesReceivableAllowance',\n",
       " 'LoansAndLeasesReceivableRelatedParties',\n",
       " 'LoansPayable',\n",
       " 'LoansPayableToBank',\n",
       " 'LoansPayableToBankCurrent',\n",
       " 'LongTermDebtCurrent',\n",
       " 'LongTermDebtPercentageBearingFixedInterestRate',\n",
       " 'LongTermLoansFromBank',\n",
       " 'LongTermLoansPayable',\n",
       " 'MinorityInterest',\n",
       " 'NetCashProvidedByUsedInFinancingActivities',\n",
       " 'NetCashProvidedByUsedInInvestingActivities',\n",
       " 'NetCashProvidedByUsedInOperatingActivities',\n",
       " 'NetIncomeLoss',\n",
       " 'OperatingExpenses',\n",
       " 'OperatingIncomeLoss',\n",
       " 'OperatingLeaseLiability',\n",
       " 'OperatingLeaseLiabilityCurrent',\n",
       " 'OperatingLeaseLiabilityNoncurrent',\n",
       " 'OperatingLeaseRightOfUseAsset',\n",
       " 'OperatingLeasesFutureMinimumPaymentsDue',\n",
       " 'OperatingLeaseWeightedAverageDiscountRatePercent',\n",
       " 'OtherComprehensiveIncomeForeignCurrencyTransactionAndTranslationAdjustmentBeforeTaxPortionAttributableToNoncontrollingInterest',\n",
       " 'OtherComprehensiveIncomeForeignCurrencyTransactionAndTranslationAdjustmentNetOfTaxPortionAttributableToParent',\n",
       " 'OtherComprehensiveIncomeLossTax',\n",
       " 'OtherIncome',\n",
       " 'OtherNoncashIncomeExpense',\n",
       " 'OtherPaymentsToAcquireBusinesses',\n",
       " 'PaymentsForDeposits',\n",
       " 'PaymentsForDepositsOnRealEstateAcquisitions',\n",
       " 'PaymentsForProceedsFromShortTermInvestments',\n",
       " 'PaymentsForRent',\n",
       " 'PaymentsToAcquireBusinessesGross',\n",
       " 'PrepaidExpenseAndOtherAssetsCurrent',\n",
       " 'ProceedsFromBankDebt',\n",
       " 'ProceedsFromLoans',\n",
       " 'ProceedsFromMortgageDeposits',\n",
       " 'ProceedsFromRepaymentsOfRelatedPartyDebt',\n",
       " 'ProfessionalFees',\n",
       " 'ProfitLoss',\n",
       " 'PropertyPlantAndEquipmentAdditions',\n",
       " 'PropertyPlantAndEquipmentGross',\n",
       " 'PropertyPlantAndEquipmentNet',\n",
       " 'PropertyPlantAndEquipmentOther',\n",
       " 'PropertyPlantAndEquipmentOtherAccumulatedDepreciation',\n",
       " 'RepaymentsOfFirstMortgageBond',\n",
       " 'RestrictedCash',\n",
       " 'RestrictedCashNoncurrent',\n",
       " 'RetainedEarningsAccumulatedDeficit',\n",
       " 'Revenues',\n",
       " 'SalariesAndWages',\n",
       " 'ShortTermBorrowings',\n",
       " 'ShortTermInvestments',\n",
       " 'StockholdersEquity',\n",
       " 'StockholdersEquityIncludingPortionAttributableToNoncontrollingInterest',\n",
       " 'TaxesPayableCurrent',\n",
       " 'ValuationAllowanceDeferredTaxAssetChangeInAmount',\n",
       " 'WeightedAverageNumberOfDilutedSharesOutstanding',\n",
       " 'WeightedAverageNumberOfSharesOutstandingBasic']"
      ]
     },
     "execution_count": 6,
     "metadata": {},
     "output_type": "execute_result"
    }
   ],
   "source": [
    "list(sample_companyfacts[\"facts\"]['us-gaap'].keys())"
   ]
  },
  {
   "cell_type": "code",
   "execution_count": 9,
   "id": "f05a4036-6cb6-460f-8eed-35accf6a8784",
   "metadata": {},
   "outputs": [
    {
     "data": {
      "text/plain": [
       "{'label': 'Assets',\n",
       " 'description': 'Sum of the carrying amounts as of the balance sheet date of all assets that are recognized. Assets are probable future economic benefits obtained or controlled by an entity as a result of past transactions or events.',\n",
       " 'units': {'USD': [{'end': '2021-03-31',\n",
       "    'val': 13667102,\n",
       "    'accn': '0001683168-22-005640',\n",
       "    'fy': 2022,\n",
       "    'fp': 'FY',\n",
       "    'form': '20-F',\n",
       "    'filed': '2022-08-12',\n",
       "    'frame': 'CY2021Q1I'},\n",
       "   {'end': '2022-03-31',\n",
       "    'val': 36226584,\n",
       "    'accn': '0001683168-22-005640',\n",
       "    'fy': 2022,\n",
       "    'fp': 'FY',\n",
       "    'form': '20-F',\n",
       "    'filed': '2022-08-12',\n",
       "    'frame': 'CY2022Q1I'}]}}"
      ]
     },
     "execution_count": 9,
     "metadata": {},
     "output_type": "execute_result"
    }
   ],
   "source": [
    "sample_companyfacts[\"facts\"]['us-gaap']['Assets']"
   ]
  },
  {
   "cell_type": "code",
   "execution_count": 8,
   "id": "63c63c51-7af9-404d-bf02-2e2a00da8246",
   "metadata": {},
   "outputs": [
    {
     "data": {
      "text/plain": [
       "{'label': 'Land',\n",
       " 'description': 'Amount before accumulated depletion of real estate held for productive use, excluding land held for sale.',\n",
       " 'units': {'USD': [{'end': '2022-03-31',\n",
       "    'val': 4400000,\n",
       "    'accn': '0001683168-22-005640',\n",
       "    'fy': 2022,\n",
       "    'fp': 'FY',\n",
       "    'form': '20-F',\n",
       "    'filed': '2022-08-12',\n",
       "    'frame': 'CY2022Q1I'}]}}"
      ]
     },
     "execution_count": 8,
     "metadata": {},
     "output_type": "execute_result"
    }
   ],
   "source": [
    "sample_companyfacts[\"facts\"]['us-gaap']['Land']"
   ]
  },
  {
   "cell_type": "markdown",
   "id": "b9651a21-2fab-460a-873c-b62f846b06ad",
   "metadata": {},
   "source": [
    "# Submissions\n",
    "The main thing we are after from the SEC EDGAR source are the S-K 1300 Technical Reports. These should be contained and referenced in the submissions part of the EDGAR data model. Here, we grab up a few of these files to take a look at what they contain."
   ]
  },
  {
   "cell_type": "code",
   "execution_count": 11,
   "id": "4f5ec8c7-b3c8-44e8-b0bd-b628772067cb",
   "metadata": {},
   "outputs": [
    {
     "data": {
      "text/plain": [
       "['/home/skybristol/experiments/data/sec_edgar/submissions/CIK0001942630.json',\n",
       " '/home/skybristol/experiments/data/sec_edgar/submissions/CIK0001942661.json',\n",
       " '/home/skybristol/experiments/data/sec_edgar/submissions/CIK0001942693.json']"
      ]
     },
     "execution_count": 11,
     "metadata": {},
     "output_type": "execute_result"
    }
   ],
   "source": [
    "sample_submissions_files = glob('/home/skybristol/experiments/data/sec_edgar/submissions/*')\n",
    "sample_submissions_files"
   ]
  },
  {
   "cell_type": "code",
   "execution_count": 16,
   "id": "476a8e50-37dd-4fc2-b9b1-98a9c9eb567b",
   "metadata": {},
   "outputs": [],
   "source": [
    "sample_submissions = json.load(open(sample_submissions_files[2], \"r\"))"
   ]
  },
  {
   "cell_type": "code",
   "execution_count": 17,
   "id": "01c60d4b-07b8-4749-8f22-fd10b3a5e3ff",
   "metadata": {},
   "outputs": [
    {
     "data": {
      "text/plain": [
       "{'cik': '1942693',\n",
       " 'entityType': 'other',\n",
       " 'sic': '',\n",
       " 'sicDescription': '',\n",
       " 'insiderTransactionForOwnerExists': 0,\n",
       " 'insiderTransactionForIssuerExists': 0,\n",
       " 'name': 'Imagen Lakeshore Dental Support Services, LLC',\n",
       " 'tickers': [],\n",
       " 'exchanges': [],\n",
       " 'ein': '883222397',\n",
       " 'description': '',\n",
       " 'website': '',\n",
       " 'investorWebsite': '',\n",
       " 'category': '',\n",
       " 'fiscalYearEnd': '1231',\n",
       " 'stateOfIncorporation': 'DE',\n",
       " 'stateOfIncorporationDescription': 'DE',\n",
       " 'addresses': {'mailing': {'street1': '16220 NORTH SCOTTSDALE ROAD',\n",
       "   'street2': 'SUITE 300',\n",
       "   'city': 'SCOTTSDALE',\n",
       "   'stateOrCountry': 'AZ',\n",
       "   'zipCode': '85254',\n",
       "   'stateOrCountryDescription': 'AZ'},\n",
       "  'business': {'street1': '16220 NORTH SCOTTSDALE ROAD',\n",
       "   'street2': 'SUITE 300',\n",
       "   'city': 'SCOTTSDALE',\n",
       "   'stateOrCountry': 'AZ',\n",
       "   'zipCode': '85254',\n",
       "   'stateOrCountryDescription': 'AZ'}},\n",
       " 'phone': '(480) 590-3396',\n",
       " 'flags': '',\n",
       " 'formerNames': [],\n",
       " 'filings': {'recent': {'accessionNumber': ['0001942693-22-000001'],\n",
       "   'filingDate': ['2022-08-12'],\n",
       "   'reportDate': [''],\n",
       "   'acceptanceDateTime': ['2022-08-12T13:32:11.000Z'],\n",
       "   'act': ['33'],\n",
       "   'form': ['D'],\n",
       "   'fileNumber': ['021-455830'],\n",
       "   'filmNumber': ['221159205'],\n",
       "   'items': ['06b'],\n",
       "   'size': [8645],\n",
       "   'isXBRL': [0],\n",
       "   'isInlineXBRL': [0],\n",
       "   'primaryDocument': ['xslFormDX01/primary_doc.xml'],\n",
       "   'primaryDocDescription': ['']},\n",
       "  'files': []}}"
      ]
     },
     "execution_count": 17,
     "metadata": {},
     "output_type": "execute_result"
    }
   ],
   "source": [
    "sample_submissions"
   ]
  },
  {
   "cell_type": "markdown",
   "id": "1be01957-8a96-4a8b-905d-a7ca41adfbd4",
   "metadata": {},
   "source": [
    "There are actually some interesting additional useful company details contained in this structure that may or may not be in the company facts information. I'm particularly intrigued by a potential array of formerNames that could be quite helpful.\n",
    "\n",
    "We're going to need to dig through some more examples to figure out how to use the submission information effectively. It looks like we might be able to find what we need within the filings part of the document structure if we can suss out what an S-K 1300 filing looks like. We can do this by digging up a company that we know has to file the reports, tracing them through the SEC EDGAR data structures, and seeing if we can learn the query pattern we could use. We'll start that next using an [example](https://www.sec.gov/Archives/edgar/data/1001838/000155837022002995/scco-20211231ex968d77397.pdf) Mike Zientek provided."
   ]
  },
  {
   "cell_type": "code",
   "execution_count": null,
   "id": "a8f12a27-a001-4517-aac2-5932c562f3eb",
   "metadata": {},
   "outputs": [],
   "source": []
  }
 ],
 "metadata": {
  "kernelspec": {
   "display_name": "Python 3 (ipykernel)",
   "language": "python",
   "name": "python3"
  },
  "language_info": {
   "codemirror_mode": {
    "name": "ipython",
    "version": 3
   },
   "file_extension": ".py",
   "mimetype": "text/x-python",
   "name": "python",
   "nbconvert_exporter": "python",
   "pygments_lexer": "ipython3",
   "version": "3.10.5"
  }
 },
 "nbformat": 4,
 "nbformat_minor": 5
}
