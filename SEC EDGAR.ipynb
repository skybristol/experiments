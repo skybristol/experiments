{
 "cells": [
  {
   "cell_type": "markdown",
   "id": "dd21bd11-462c-4b41-93df-13c251a7cd3f",
   "metadata": {},
   "source": [
    "This notebook explores a new source of information we need to work through for the \"Assessment Analytical Framework\" we are developing to support mineral resource assessments in the USGS. The framework consists of various technologies designed to produce analysis-ready data for the assessment process. A big part of that is the development of workflows, as automated as possible, that pull source data and information and \"mobilize\" them up for use.\n",
    "\n",
    "For many years, we've been collecting and working with a type of technical report required of mining companies based in Canada (NI 43-101 Technical Report) as a source for mineral deposit type information and other geoscientific details. The Securities and Exchange Commission (SEC) in the U.S. now also [requires this type of information](https://www.sec.gov/corpfin/secg-modernization-property-disclosures-mining-registrants) to be filed as a regular submission from any publicly traded mining companies in the U.S. Similar to the NI 43-101 Reports that we have assembled for use in a Zotero collection, we also need to start pulling and organizing the  S-K 1300 Technical Reports required by the SEC. All of the same basic requirements apply:\n",
    "\n",
    "* Provide an online locale for the reports that is easily accessible and manageable by assessment geologists and science support staff\n",
    "* Provide for consistent, publicly citable references in reports and articles, including ensuring long-term viability of the citable references\n",
    "* Provide a mechanism for routine annotation of reports by assessment geologists and science support staff\n",
    "* Provide a means for the report contents to be fed into AI/ML pipelines for further processing to identify/link entities (mineral deposit sites, etc.) and automate aspects of turning information into analyzable data\n",
    "\n",
    "As an improvement over the situation with the [SEDAR](https://www.sedar.com/) source for NI 43-101 Reports where we have a web site expressly protected against robot interfaces, the SEC's EDGAR platform provides some decent [direct data interfaces](https://www.sec.gov/edgar/sec-api-documentation) to support automated retrieval of the company submissions we are interested in. Data from the SEC is of great interest in a lot of different circumstances, and their data handling and availability seems to be subsequently quite mature.\n",
    "\n",
    "Our initial starting point is likely the set of two bulk data downloads compiled nightly. Both of these are zip files with JSON documents for each unique identified company over which the SEC exercises regulatory authority. One of these contains a set of \"company facts,\" and the other lists the submissions the companies have filed with the SEC (which should include the S-K 1300 Technical Reports).\n",
    "\n",
    "Many times, bulk downloads are a much better starting point or even long-term source for data from an origin point like this. They give us a big tranche of data that we have to download initially and spin up into some kind of our own data infrastructure for use, but they help us avoid a number of problems that can arise when trying to operate against what are often purpose-built APIs that may be less than fully stable or may not provide the most efficient means for us to obtain the answers we want. In this case as with many others, we really only want a small slice of what the overall source contains (the SEC regulates many companies, only some of which are involved in mineral resources).\n",
    "\n",
    "The nighly files appear to contain current information, and it's not yet clear if we will need to tap some other source (like the live APIs) for historic facts (if we are interested in any of those) or submissions. One way or the other, we need to narrow in on those companies required to file S-K 1300 Technical Reports. The remainder of this notebook starts to crack open the bulk downloads to explore how we might go about effectively working this source into our analytical framework."
   ]
  },
  {
   "cell_type": "code",
   "execution_count": 1,
   "id": "952a7a0d-3fe1-43e9-abd1-f38bcb859fe8",
   "metadata": {},
   "outputs": [
    {
     "name": "stdout",
     "output_type": "stream",
     "text": [
      "Defaulting to user installation because normal site-packages is not writeable\n",
      "Requirement already satisfied: nested_lookup in /home/skybristol/.local/lib/python3.10/site-packages (0.2.25)\n",
      "Requirement already satisfied: six in /opt/conda/envs/default/lib/python3.10/site-packages (from nested_lookup) (1.16.0)\n"
     ]
    }
   ],
   "source": [
    "!pip install nested_lookup"
   ]
  },
  {
   "cell_type": "code",
   "execution_count": 25,
   "id": "16dcebf2-3bcb-4841-aef4-e66e83f41454",
   "metadata": {},
   "outputs": [],
   "source": [
    "import json\n",
    "from glob import glob\n",
    "from nested_lookup import nested_lookup\n",
    "import pandas as pd"
   ]
  },
  {
   "cell_type": "markdown",
   "id": "6391e1e8-afdb-4998-ae33-a3a8feef56dc",
   "metadata": {
    "tags": []
   },
   "source": [
    "# Company Facts\n",
    "The company facts download pulled on 8/15/2022 contains 16,410 files, presumably representing each of the uniquely identified companies with a \"CIK\" identifier that the SEC tracks. I pulled just a few of these to take a look."
   ]
  },
  {
   "cell_type": "code",
   "execution_count": 3,
   "id": "bbf9c321-d4ab-4193-be3d-203a0117226a",
   "metadata": {},
   "outputs": [
    {
     "data": {
      "text/plain": [
       "['/home/skybristol/experiments/data/sec_edgar/companyfacts/CIK0001892274.json',\n",
       " '/home/skybristol/experiments/data/sec_edgar/companyfacts/CIK0001001838.json',\n",
       " '/home/skybristol/experiments/data/sec_edgar/companyfacts/CIK0001898496.json',\n",
       " '/home/skybristol/experiments/data/sec_edgar/companyfacts/CIK0001885827.json']"
      ]
     },
     "execution_count": 3,
     "metadata": {},
     "output_type": "execute_result"
    }
   ],
   "source": [
    "sample_companyfacts_files = glob('/home/skybristol/experiments/data/sec_edgar/companyfacts/*')\n",
    "sample_companyfacts_files"
   ]
  },
  {
   "cell_type": "code",
   "execution_count": 4,
   "id": "7a9ff586-0c97-48b2-bbb2-e67f8b930146",
   "metadata": {},
   "outputs": [],
   "source": [
    "sample_companyfacts = json.load(open(sample_companyfacts_files[0], \"r\"))"
   ]
  },
  {
   "cell_type": "markdown",
   "id": "f37b1cb3-65ec-4d18-a164-3831f6cc64e6",
   "metadata": {},
   "source": [
    "Beyond the CIK identifier the SEC uses, there is a name for a company, which is likely a whole other issue we may or may not need to deal with. There might be some scenarios for downstream uses of these data where we need to effectively link together multiple sources of data tied to a given company entity. There might be different derivations of the names to deal with or temporal issues where company names/identifiers change."
   ]
  },
  {
   "cell_type": "code",
   "execution_count": 5,
   "id": "09685ec6-3184-4c5e-bec1-1eacd2d171ca",
   "metadata": {},
   "outputs": [
    {
     "data": {
      "text/plain": [
       "'Visionary Education Technology Holdings Group Inc.'"
      ]
     },
     "execution_count": 5,
     "metadata": {},
     "output_type": "execute_result"
    }
   ],
   "source": [
    "sample_companyfacts[\"entityName\"]"
   ]
  },
  {
   "cell_type": "markdown",
   "id": "604605c9-be26-452e-be8b-8c867d101c28",
   "metadata": {},
   "source": [
    "## Company Facts leading to \"Mining Registrant\"\n",
    "The bulk of the data in the company facts information is contained in a part of the structure coded as \"facts/us-gaap.\" A short bit of digging shows that the properties here track to a [standard financial reporting taxonomy](https://www.fasb.org/xbrl) the SEC has [adopted](https://www.sec.gov/info/edgar/edgartaxonomies.shtml#USGAAP2019). This gives us a nice starting point to understand the data and figure out what we can use for what purposes.\n",
    "\n",
    "We can approach our problem from a couple different perspectives. It might be useful to identify all of the companies who are considered \"mining registrants.\" This is the term the SEC uses in its [guidance](https://www.sec.gov/corpfin/secg-modernization-property-disclosures-mining-registrants). So, one question is, how do we figure out which companies (of the, presumably, 16,410) are mining registrants? We need to do some digging to see if there is something specific or a combination of attributes that would help us work this out."
   ]
  },
  {
   "cell_type": "code",
   "execution_count": 6,
   "id": "22036cd5-8256-43e6-8ccd-6ee15c635d31",
   "metadata": {},
   "outputs": [
    {
     "data": {
      "text/plain": [
       "['AccountsPayableCurrent',\n",
       " 'AccountsReceivableGross',\n",
       " 'AccountsReceivableNet',\n",
       " 'AccountsReceivableNetCurrent',\n",
       " 'AccountsReceivableRelatedParties',\n",
       " 'AccountsReceivableRelatedPartiesCurrent',\n",
       " 'AccruedIncomeTaxes',\n",
       " 'AccruedIncomeTaxesCurrent',\n",
       " 'AccruedLiabilitiesCurrent',\n",
       " 'AccruedLiabilitiesForCommissionsExpenseAndTaxes',\n",
       " 'AccumulatedDepreciationDepletionAndAmortizationPropertyPlantAndEquipment',\n",
       " 'AccumulatedOtherComprehensiveIncomeLossNetOfTax',\n",
       " 'AdditionalPaidInCapital',\n",
       " 'AllowanceForDoubtfulAccountsReceivable',\n",
       " 'AntidilutiveSecuritiesExcludedFromComputationOfEarningsPerShareAmount',\n",
       " 'AssetImpairmentCharges',\n",
       " 'Assets',\n",
       " 'AssetsCurrent',\n",
       " 'BusinessCombinationPriceOfAcquisitionExpected',\n",
       " 'BusinessCombinationRecognizedIdentifiableAssetsAcquiredAndLiabilitiesAssumedIndefiniteLivedIntangibleAssets',\n",
       " 'BusinessCombinationRecognizedIdentifiableAssetsAcquiredGoodwillAndLiabilitiesAssumedNet',\n",
       " 'CapitalExpenditureDiscontinuedOperations',\n",
       " 'Cash',\n",
       " 'CashCashEquivalentsRestrictedCashAndRestrictedCashEquivalents',\n",
       " 'CashCashEquivalentsRestrictedCashAndRestrictedCashEquivalentsPeriodIncreaseDecreaseIncludingExchangeRateEffect',\n",
       " 'CommonStockNoParValue',\n",
       " 'CommonStockParOrStatedValuePerShare',\n",
       " 'CommonStockSharesOutstanding',\n",
       " 'ComprehensiveIncomeNetOfTax',\n",
       " 'ComprehensiveIncomeNetOfTaxAttributableToNoncontrollingInterest',\n",
       " 'ContractualObligation',\n",
       " 'ContractualObligationDueAfterFifthYear',\n",
       " 'ContractualObligationDueInSecondAndThirdYear',\n",
       " 'CostOfRevenue',\n",
       " 'CurrentIncomeTaxExpenseBenefit',\n",
       " 'DebtInstrumentPeriodicPaymentPrincipal',\n",
       " 'DeferredIncomeTaxExpenseBenefit',\n",
       " 'DeferredIncomeTaxLiabilities',\n",
       " 'DeferredRevenue',\n",
       " 'DeferredTaxAssetsGoodwillAndIntangibleAssets',\n",
       " 'DeferredTaxAssetsGross',\n",
       " 'DeferredTaxAssetsLiabilitiesNet',\n",
       " 'DeferredTaxAssetsNet',\n",
       " 'DeferredTaxAssetsOperatingLossCarryforwards',\n",
       " 'DeferredTaxAssetsPropertyPlantAndEquipment',\n",
       " 'DeferredTaxAssetsTaxDeferredExpenseOther',\n",
       " 'DeferredTaxAssetsValuationAllowance',\n",
       " 'DeferredTaxLiabilities',\n",
       " 'DeferredTaxLiabilitiesFinancingArrangements',\n",
       " 'DeferredTaxLiabilitiesGoodwillAndIntangibleAssets',\n",
       " 'DeferredTaxLiabilitiesOther',\n",
       " 'DeferredTaxLiabilitiesPropertyPlantAndEquipment',\n",
       " 'DepositAssets',\n",
       " 'Depreciation',\n",
       " 'DepreciationAndAmortization',\n",
       " 'DueFromOtherRelatedParties',\n",
       " 'DueFromRelatedParties',\n",
       " 'DueToRelatedPartiesCurrent',\n",
       " 'EarningsPerShareBasic',\n",
       " 'EarningsPerShareDiluted',\n",
       " 'EffectiveIncomeTaxRateReconciliationAtFederalStatutoryIncomeTaxRate',\n",
       " 'EffectOfExchangeRateOnCashCashEquivalentsRestrictedCashAndRestrictedCashEquivalents',\n",
       " 'FiniteLivedIntangibleAssetsNet',\n",
       " 'GeneralAndAdministrativeExpense',\n",
       " 'Goodwill',\n",
       " 'GoodwillAndIntangibleAssetImpairment',\n",
       " 'GrossProfit',\n",
       " 'ImpairmentOfIntangibleAssetsIndefinitelivedExcludingGoodwill',\n",
       " 'IncomeLossFromContinuingOperationsAttributableToNoncontrollingEntity',\n",
       " 'IncomeTaxExaminationEstimateOfPossibleLoss',\n",
       " 'IncomeTaxExaminationPenaltiesAndInterestAccrued',\n",
       " 'IncomeTaxExpenseBenefit',\n",
       " 'IncomeTaxesPaidNet',\n",
       " 'IncomeTaxReconciliationChangeInEnactedTaxRate',\n",
       " 'IncomeTaxReconciliationDeductions',\n",
       " 'IncomeTaxReconciliationIncomeTaxExpenseBenefitAtFederalStatutoryIncomeTaxRate',\n",
       " 'IncomeTaxReconciliationNondeductibleExpense',\n",
       " 'IncreaseDecreaseDueFromOtherRelatedParties',\n",
       " 'IncreaseDecreaseInAccountsPayable',\n",
       " 'IncreaseDecreaseInAccountsReceivable',\n",
       " 'IncreaseDecreaseInAccountsReceivableRelatedParties',\n",
       " 'IncreaseDecreaseInAccruedLiabilities',\n",
       " 'IncreaseDecreaseInDeferredRevenue',\n",
       " 'IncreaseDecreaseInIncomeTaxes',\n",
       " 'IncreaseDecreaseInInventories',\n",
       " 'IncreaseDecreaseInOtherCurrentAssets',\n",
       " 'IntangibleAssetsCurrent',\n",
       " 'IntangibleAssetsNetExcludingGoodwill',\n",
       " 'InterestExpense',\n",
       " 'InterestExpenseOther',\n",
       " 'InterestPaidNet',\n",
       " 'InventoryGross',\n",
       " 'InventoryLandHeldForDevelopmentAndSale',\n",
       " 'InventoryNet',\n",
       " 'InventoryValuationReserves',\n",
       " 'Land',\n",
       " 'LesseeOperatingLeaseLiabilityPaymentsDueNextTwelveMonths',\n",
       " 'LesseeOperatingLeaseLiabilityPaymentsDueYearFive',\n",
       " 'LesseeOperatingLeaseLiabilityPaymentsDueYearFour',\n",
       " 'LesseeOperatingLeaseLiabilityPaymentsDueYearThree',\n",
       " 'LesseeOperatingLeaseLiabilityPaymentsDueYearTwo',\n",
       " 'LesseeOperatingLeaseLiabilityUndiscountedExcessAmount',\n",
       " 'Liabilities',\n",
       " 'LiabilitiesAndStockholdersEquity',\n",
       " 'LiabilitiesCurrent',\n",
       " 'LineOfCreditFacilityDecreaseForgiveness1',\n",
       " 'LoansAndLeasesReceivableAllowance',\n",
       " 'LoansAndLeasesReceivableRelatedParties',\n",
       " 'LoansPayable',\n",
       " 'LoansPayableToBank',\n",
       " 'LoansPayableToBankCurrent',\n",
       " 'LongTermDebtCurrent',\n",
       " 'LongTermDebtPercentageBearingFixedInterestRate',\n",
       " 'LongTermLoansFromBank',\n",
       " 'LongTermLoansPayable',\n",
       " 'MinorityInterest',\n",
       " 'NetCashProvidedByUsedInFinancingActivities',\n",
       " 'NetCashProvidedByUsedInInvestingActivities',\n",
       " 'NetCashProvidedByUsedInOperatingActivities',\n",
       " 'NetIncomeLoss',\n",
       " 'OperatingExpenses',\n",
       " 'OperatingIncomeLoss',\n",
       " 'OperatingLeaseLiability',\n",
       " 'OperatingLeaseLiabilityCurrent',\n",
       " 'OperatingLeaseLiabilityNoncurrent',\n",
       " 'OperatingLeaseRightOfUseAsset',\n",
       " 'OperatingLeasesFutureMinimumPaymentsDue',\n",
       " 'OperatingLeaseWeightedAverageDiscountRatePercent',\n",
       " 'OtherComprehensiveIncomeForeignCurrencyTransactionAndTranslationAdjustmentBeforeTaxPortionAttributableToNoncontrollingInterest',\n",
       " 'OtherComprehensiveIncomeForeignCurrencyTransactionAndTranslationAdjustmentNetOfTaxPortionAttributableToParent',\n",
       " 'OtherComprehensiveIncomeLossTax',\n",
       " 'OtherIncome',\n",
       " 'OtherNoncashIncomeExpense',\n",
       " 'OtherPaymentsToAcquireBusinesses',\n",
       " 'PaymentsForDeposits',\n",
       " 'PaymentsForDepositsOnRealEstateAcquisitions',\n",
       " 'PaymentsForProceedsFromShortTermInvestments',\n",
       " 'PaymentsForRent',\n",
       " 'PaymentsToAcquireBusinessesGross',\n",
       " 'PrepaidExpenseAndOtherAssetsCurrent',\n",
       " 'ProceedsFromBankDebt',\n",
       " 'ProceedsFromLoans',\n",
       " 'ProceedsFromMortgageDeposits',\n",
       " 'ProceedsFromRepaymentsOfRelatedPartyDebt',\n",
       " 'ProfessionalFees',\n",
       " 'ProfitLoss',\n",
       " 'PropertyPlantAndEquipmentAdditions',\n",
       " 'PropertyPlantAndEquipmentGross',\n",
       " 'PropertyPlantAndEquipmentNet',\n",
       " 'PropertyPlantAndEquipmentOther',\n",
       " 'PropertyPlantAndEquipmentOtherAccumulatedDepreciation',\n",
       " 'RepaymentsOfFirstMortgageBond',\n",
       " 'RestrictedCash',\n",
       " 'RestrictedCashNoncurrent',\n",
       " 'RetainedEarningsAccumulatedDeficit',\n",
       " 'Revenues',\n",
       " 'SalariesAndWages',\n",
       " 'ShortTermBorrowings',\n",
       " 'ShortTermInvestments',\n",
       " 'StockholdersEquity',\n",
       " 'StockholdersEquityIncludingPortionAttributableToNoncontrollingInterest',\n",
       " 'TaxesPayableCurrent',\n",
       " 'ValuationAllowanceDeferredTaxAssetChangeInAmount',\n",
       " 'WeightedAverageNumberOfDilutedSharesOutstanding',\n",
       " 'WeightedAverageNumberOfSharesOutstandingBasic']"
      ]
     },
     "execution_count": 6,
     "metadata": {},
     "output_type": "execute_result"
    }
   ],
   "source": [
    "list(sample_companyfacts[\"facts\"]['us-gaap'].keys())"
   ]
  },
  {
   "cell_type": "code",
   "execution_count": 7,
   "id": "f05a4036-6cb6-460f-8eed-35accf6a8784",
   "metadata": {},
   "outputs": [
    {
     "data": {
      "text/plain": [
       "{'label': 'Assets',\n",
       " 'description': 'Sum of the carrying amounts as of the balance sheet date of all assets that are recognized. Assets are probable future economic benefits obtained or controlled by an entity as a result of past transactions or events.',\n",
       " 'units': {'USD': [{'end': '2021-03-31',\n",
       "    'val': 13667102,\n",
       "    'accn': '0001683168-22-005640',\n",
       "    'fy': 2022,\n",
       "    'fp': 'FY',\n",
       "    'form': '20-F',\n",
       "    'filed': '2022-08-12',\n",
       "    'frame': 'CY2021Q1I'},\n",
       "   {'end': '2022-03-31',\n",
       "    'val': 36226584,\n",
       "    'accn': '0001683168-22-005640',\n",
       "    'fy': 2022,\n",
       "    'fp': 'FY',\n",
       "    'form': '20-F',\n",
       "    'filed': '2022-08-12',\n",
       "    'frame': 'CY2022Q1I'}]}}"
      ]
     },
     "execution_count": 7,
     "metadata": {},
     "output_type": "execute_result"
    }
   ],
   "source": [
    "sample_companyfacts[\"facts\"]['us-gaap']['Assets']"
   ]
  },
  {
   "cell_type": "code",
   "execution_count": 8,
   "id": "63c63c51-7af9-404d-bf02-2e2a00da8246",
   "metadata": {},
   "outputs": [
    {
     "data": {
      "text/plain": [
       "{'label': 'Land',\n",
       " 'description': 'Amount before accumulated depletion of real estate held for productive use, excluding land held for sale.',\n",
       " 'units': {'USD': [{'end': '2022-03-31',\n",
       "    'val': 4400000,\n",
       "    'accn': '0001683168-22-005640',\n",
       "    'fy': 2022,\n",
       "    'fp': 'FY',\n",
       "    'form': '20-F',\n",
       "    'filed': '2022-08-12',\n",
       "    'frame': 'CY2022Q1I'}]}}"
      ]
     },
     "execution_count": 8,
     "metadata": {},
     "output_type": "execute_result"
    }
   ],
   "source": [
    "sample_companyfacts[\"facts\"]['us-gaap']['Land']"
   ]
  },
  {
   "cell_type": "markdown",
   "id": "b9651a21-2fab-460a-873c-b62f846b06ad",
   "metadata": {},
   "source": [
    "# Submissions\n",
    "The main thing we are after from the SEC EDGAR source are the S-K 1300 Technical Reports. These should be contained and referenced in the submissions part of the EDGAR data model. Here, we grab up a few of these files to take a look at what they contain."
   ]
  },
  {
   "cell_type": "code",
   "execution_count": 9,
   "id": "4f5ec8c7-b3c8-44e8-b0bd-b628772067cb",
   "metadata": {},
   "outputs": [
    {
     "data": {
      "text/plain": [
       "['/home/skybristol/experiments/data/sec_edgar/submissions/CIK0001942630.json',\n",
       " '/home/skybristol/experiments/data/sec_edgar/submissions/CIK0001001838.json',\n",
       " '/home/skybristol/experiments/data/sec_edgar/submissions/CIK0001942661.json',\n",
       " '/home/skybristol/experiments/data/sec_edgar/submissions/CIK0001001838-submissions-001.json',\n",
       " '/home/skybristol/experiments/data/sec_edgar/submissions/CIK0001942693.json']"
      ]
     },
     "execution_count": 9,
     "metadata": {},
     "output_type": "execute_result"
    }
   ],
   "source": [
    "sample_submissions_files = glob('/home/skybristol/experiments/data/sec_edgar/submissions/*')\n",
    "sample_submissions_files"
   ]
  },
  {
   "cell_type": "code",
   "execution_count": 10,
   "id": "476a8e50-37dd-4fc2-b9b1-98a9c9eb567b",
   "metadata": {},
   "outputs": [],
   "source": [
    "sample_submissions = json.load(open(sample_submissions_files[0], \"r\"))"
   ]
  },
  {
   "cell_type": "code",
   "execution_count": 11,
   "id": "01c60d4b-07b8-4749-8f22-fd10b3a5e3ff",
   "metadata": {},
   "outputs": [
    {
     "data": {
      "text/plain": [
       "{'cik': '1942630',\n",
       " 'entityType': 'other',\n",
       " 'sic': '',\n",
       " 'sicDescription': '',\n",
       " 'insiderTransactionForOwnerExists': 0,\n",
       " 'insiderTransactionForIssuerExists': 0,\n",
       " 'name': 'MOV Fund III, a series of DV Deals, LP',\n",
       " 'tickers': [],\n",
       " 'exchanges': [],\n",
       " 'ein': '000000000',\n",
       " 'description': '',\n",
       " 'website': '',\n",
       " 'investorWebsite': '',\n",
       " 'category': '',\n",
       " 'fiscalYearEnd': '1231',\n",
       " 'stateOfIncorporation': 'DE',\n",
       " 'stateOfIncorporationDescription': 'DE',\n",
       " 'addresses': {'mailing': {'street1': '119 SOUTH MAIN STREET',\n",
       "   'street2': 'SUITE 220',\n",
       "   'city': 'SEATTLE',\n",
       "   'stateOrCountry': 'WA',\n",
       "   'zipCode': '98104',\n",
       "   'stateOrCountryDescription': 'WA'},\n",
       "  'business': {'street1': '119 SOUTH MAIN STREET',\n",
       "   'street2': 'SUITE 220',\n",
       "   'city': 'SEATTLE',\n",
       "   'stateOrCountry': 'WA',\n",
       "   'zipCode': '98104',\n",
       "   'stateOrCountryDescription': 'WA'}},\n",
       " 'phone': '3603409337',\n",
       " 'flags': '',\n",
       " 'formerNames': [],\n",
       " 'filings': {'recent': {'accessionNumber': ['0001942630-22-000002'],\n",
       "   'filingDate': ['2022-08-12'],\n",
       "   'reportDate': [''],\n",
       "   'acceptanceDateTime': ['2022-08-12T11:30:18.000Z'],\n",
       "   'act': ['33'],\n",
       "   'form': ['D'],\n",
       "   'fileNumber': ['021-455790'],\n",
       "   'filmNumber': ['221158698'],\n",
       "   'items': ['06b,3C.1'],\n",
       "   'size': [7030],\n",
       "   'isXBRL': [0],\n",
       "   'isInlineXBRL': [0],\n",
       "   'primaryDocument': ['xslFormDX01/primary_doc.xml'],\n",
       "   'primaryDocDescription': ['']},\n",
       "  'files': []}}"
      ]
     },
     "execution_count": 11,
     "metadata": {},
     "output_type": "execute_result"
    }
   ],
   "source": [
    "sample_submissions"
   ]
  },
  {
   "cell_type": "markdown",
   "id": "1be01957-8a96-4a8b-905d-a7ca41adfbd4",
   "metadata": {},
   "source": [
    "There are actually some interesting additional useful company details contained in this structure that may or may not be in the company facts information. I'm particularly intrigued by a potential array of formerNames that could be quite helpful.\n",
    "\n",
    "We're going to need to dig through some more examples to figure out how to use the submission information effectively. It looks like we might be able to find what we need within the filings part of the document structure if we can suss out what an S-K 1300 filing looks like. We can do this by digging up a company that we know has to file the reports, tracing them through the SEC EDGAR data structures, and seeing if we can learn the query pattern we could use. We'll start that next using an [example](https://www.sec.gov/Archives/edgar/data/1001838/000155837022002995/scco-20211231ex968d77397.pdf) Mike Zientek provided."
   ]
  },
  {
   "cell_type": "markdown",
   "id": "2bd71d04-2928-4953-9dc4-2d1b97311d70",
   "metadata": {},
   "source": [
    "# Mining Registrant\n",
    "\n",
    "I tracked down the CIK identifier for the [Southern Copper Corporation](https://www.sec.gov/edgar/browse/?CIK=1001838&owner=exclude) that was the company behind an example we have. I added these into my sample data here, and we'll take a look.\n",
    "\n",
    "Note: This code block contains simple examples for how we might progress through core logic to run part of our data management operation. First, the SEC EDGAR system is like a lot of data systems where identifiers can take on different logical forms depending on where they are being referenced. In using the web interface for an EDGAR search, we see a reference to a CIK identifier in the URL like this - CIK=1001838. That's pretty much a numeric ID. In the bulk download, we have JSON files that have a \"zero-padded\" 10-character string form of the CIK ID preceded by \"CIK.\" That's simple logic to deal with in code, but we might want to formalize it somewhere so that we can quickly transform into different forms of identifiers specific to a given source. We can start by building out functions for this and other things we need to do and then eventually move to packaging those functions into a deployable library of some kind. I provide a couple other stubs for functional code to start working through EDGAR source data."
   ]
  },
  {
   "cell_type": "code",
   "execution_count": 29,
   "id": "319a9583-4c8e-4b03-a489-4140eb8bd677",
   "metadata": {},
   "outputs": [],
   "source": [
    "def cik_str(cik_id, prefix=\"CIK\"):\n",
    "    \"\"\"\n",
    "    Simple function to transform an SEC EDGAR CIK identifier into a string.\n",
    "    \"\"\"\n",
    "    padded_id = str(cik_id).zfill(10)\n",
    "    return prefix + padded_id\n",
    "\n",
    "def cik_data_files(\n",
    "    cik_id, \n",
    "    source_type=\"companyfacts\", \n",
    "    source_path=\"/home/skybristol/experiments/data/sec_edgar\"\n",
    "):\n",
    "    cik_id_str = cik_str(cik_id)\n",
    "    data_files = glob(\"/\".join([source_path, source_type, cik_id_str + \"*\"]))\n",
    "    return data_files\n",
    "\n",
    "def load_data_file(path=None, cik_id=None, source_type=None):\n",
    "    if path is not None:\n",
    "        return json.load(open(path, \"r\"))\n",
    "    \n",
    "    if cik_id is not None:\n",
    "        return [json.load(open(p, \"r\")) for p in cik_data_files(cik_id, source_type)]\n",
    "            "
   ]
  },
  {
   "cell_type": "markdown",
   "id": "7c865cf5-c5fa-406f-b684-4ec828cace6f",
   "metadata": {},
   "source": [
    "In a future scenario, we might be able to develop something like a \"mining company registry\" as a data component in our analytical framework. That might include U.S. mining companies as well as Canadian and other jurisdictions and could have various kinds of information that we need to use, including things like important identifiers for companies that would facilitate processes for going after up to date information. Here, we just put down one of those we know about so we can use our functions to go after source data for the Southern Copper Corp."
   ]
  },
  {
   "cell_type": "code",
   "execution_count": 13,
   "id": "dcbb3f94-0392-4dff-b3d2-9779fec5dc41",
   "metadata": {},
   "outputs": [],
   "source": [
    "sample_cik_id = 1001838"
   ]
  },
  {
   "cell_type": "markdown",
   "id": "5c61a15d-88eb-4e80-96fe-8bf45b73bf09",
   "metadata": {},
   "source": [
    "Looking at the file structure from the bulk data download, we see that we have a single source JSON file for company facts, but in this case, we have two different submissions files. You can see this -submissions-00{n}.json dynamic for other companies as well."
   ]
  },
  {
   "cell_type": "code",
   "execution_count": 14,
   "id": "c7362f6d-87b4-4c91-a05d-adeb80e7258c",
   "metadata": {},
   "outputs": [
    {
     "data": {
      "text/plain": [
       "['/home/skybristol/experiments/data/sec_edgar/companyfacts/CIK0001001838.json']"
      ]
     },
     "metadata": {},
     "output_type": "display_data"
    },
    {
     "data": {
      "text/plain": [
       "['/home/skybristol/experiments/data/sec_edgar/submissions/CIK0001001838.json',\n",
       " '/home/skybristol/experiments/data/sec_edgar/submissions/CIK0001001838-submissions-001.json']"
      ]
     },
     "metadata": {},
     "output_type": "display_data"
    }
   ],
   "source": [
    "sample_company_facts_source_files = cik_data_files(sample_cik_id)\n",
    "sample_company_submission_source_files = cik_data_files(sample_cik_id, \"submissions\")\n",
    "\n",
    "display(sample_company_facts_source_files)\n",
    "display(sample_company_submission_source_files)"
   ]
  },
  {
   "cell_type": "code",
   "execution_count": 15,
   "id": "b9dcdc92-52a1-4cfa-9a98-c00e02276bc3",
   "metadata": {},
   "outputs": [],
   "source": [
    "sample_company_facts = load_data_file(sample_company_facts_source_files[0])"
   ]
  },
  {
   "cell_type": "markdown",
   "id": "6a6ad711-ad5e-4234-9035-08edc8420be5",
   "metadata": {},
   "source": [
    "After fiddling around looking through company facts for our sample case, I don't know what all utility might come from these records. There are a couple of interesting properties in the data like RevenueMineralSales and ExplorationExpenseMining. These show up in the company facts file for our sample company. The facts reported like this are tied to a beginning and end date and seem to contain a tally of what a given company is needing to report to the SEC. Reporting mineral sales revenue and mining-related expenses might be useful for some things we might imagine. However, the labels for these indicate the properties were deprecated in 2018, so maybe they won't be reliable as a way to identify mining companies, at least for later filings.\n",
    "\n",
    "I went poking around the \"Financial Accounting Standards Board,\" which is where the references point for the schema used in the SEC EDGAR source data. As expected, I don't see this property listed in the current 2022 standard that seems to be in review status, but I also don't see if in the listing of deprecated properties.\n",
    "\n",
    "Side note: The FASB is a non-profit indistry organization that nevertheless charges a fee for full access to the standards. I found a review version of the latest 2022 standard to poke around, but all of it's URI references (unique, resolvable identifiers for individual properties) loop through a paywall. So, it's not really an open standard or accessible reference. I get the fact that a non-profit has to fund its most important operations somehow, but charging for basic access to the definitions of terms in a standard like this is pretty heinous. Government agencies like the SEC need deeper level policy and rules that push them to make anything behind what they are adopting as a standard fully open and accessible as well as the data themselves."
   ]
  },
  {
   "cell_type": "markdown",
   "id": "7cff0747-fca9-444d-959d-3168a243ab29",
   "metadata": {},
   "source": [
    "Looking into the submissions information, there are actually more useful descriptive properties about the company in the \"header\" part of the data structure. Most notably, I found sic and sicDescription in our example case and tracked those down as Standard Industry Code from the SEC (something our NMIC colleagues probably already know all about)."
   ]
  },
  {
   "cell_type": "code",
   "execution_count": 30,
   "id": "387f8218-13d7-4432-b031-ab52884ea82d",
   "metadata": {},
   "outputs": [],
   "source": [
    "sample_company_submissions = load_data_file(\n",
    "    cik_id=sample_cik_id,\n",
    "    source_type=\"submissions\"\n",
    ")"
   ]
  },
  {
   "cell_type": "code",
   "execution_count": 38,
   "id": "27a07de9-40d2-42ae-b267-af61807a90f4",
   "metadata": {},
   "outputs": [
    {
     "data": {
      "text/plain": [
       "['1000', 'Metal Mining']"
      ]
     },
     "execution_count": 38,
     "metadata": {},
     "output_type": "execute_result"
    }
   ],
   "source": [
    "nested_lookup(\"sic\", sample_company_submissions, wild=True)"
   ]
  },
  {
   "cell_type": "markdown",
   "id": "532f9b22-5ee3-46e7-83f3-36f81a0e0082",
   "metadata": {},
   "source": [
    "Here's a quick look at the SIC values in the [table from the SEC](https://www.sec.gov/corpfin/division-of-corporation-finance-standard-industrial-classification-sic-code-list)with \"MINING\" in the industry title. Some of these probably don't apply, and there are probably some others without mining in the title we should consider. Someone who knows this field should take a look at this and see if we can come up with the SIC codes for companies who will be the \"mining registrants\" that we care about. We can also simply bypass that idea and go straight to looking for S-K 1300 report filings, which I'll get into next, but I think it would still be useful to understand the classification and come up with a dynamic registry of mining companies from the SEC's perspective that we want to know something about in our framework."
   ]
  },
  {
   "cell_type": "code",
   "execution_count": 39,
   "id": "0e2bce58-99c9-4275-a0d4-7d51d0786b3c",
   "metadata": {},
   "outputs": [],
   "source": [
    "sec_sic_tables = pd.read_html(\"https://www.sec.gov/corpfin/division-of-corporation-finance-standard-industrial-classification-sic-code-list\")\n",
    "\n",
    "sec_sic_tables[0].loc[sec_sic_tables[0][\"Industry Title\"].str.contains(\"MINING\")]"
   ]
  },
  {
   "cell_type": "code",
   "execution_count": 43,
   "id": "8ea92c09-31db-4418-b148-b60beeb3cb19",
   "metadata": {},
   "outputs": [
    {
     "data": {
      "text/html": [
       "<div>\n",
       "<style scoped>\n",
       "    .dataframe tbody tr th:only-of-type {\n",
       "        vertical-align: middle;\n",
       "    }\n",
       "\n",
       "    .dataframe tbody tr th {\n",
       "        vertical-align: top;\n",
       "    }\n",
       "\n",
       "    .dataframe thead th {\n",
       "        text-align: right;\n",
       "    }\n",
       "</style>\n",
       "<table border=\"1\" class=\"dataframe\">\n",
       "  <thead>\n",
       "    <tr style=\"text-align: right;\">\n",
       "      <th></th>\n",
       "      <th>SIC Code</th>\n",
       "      <th>Office</th>\n",
       "      <th>Industry Title</th>\n",
       "    </tr>\n",
       "  </thead>\n",
       "  <tbody>\n",
       "    <tr>\n",
       "      <th>5</th>\n",
       "      <td>1000</td>\n",
       "      <td>Office of Energy &amp; Transportation</td>\n",
       "      <td>METAL MINING</td>\n",
       "    </tr>\n",
       "    <tr>\n",
       "      <th>8</th>\n",
       "      <td>1220</td>\n",
       "      <td>Office of Energy &amp; Transportation</td>\n",
       "      <td>BITUMINOUS COAL &amp; LIGNITE MINING</td>\n",
       "    </tr>\n",
       "    <tr>\n",
       "      <th>9</th>\n",
       "      <td>1221</td>\n",
       "      <td>Office of Energy &amp; Transportation</td>\n",
       "      <td>BITUMINOUS COAL &amp; LIGNITE SURFACE MINING</td>\n",
       "    </tr>\n",
       "    <tr>\n",
       "      <th>14</th>\n",
       "      <td>1400</td>\n",
       "      <td>Office of Energy &amp; Transportation</td>\n",
       "      <td>MINING &amp; QUARRYING OF NONMETALLIC MINERALS (NO...</td>\n",
       "    </tr>\n",
       "    <tr>\n",
       "      <th>152</th>\n",
       "      <td>3530</td>\n",
       "      <td>Office of Technology</td>\n",
       "      <td>CONSTRUCTION, MINING &amp; MATERIALS HANDLING MACH...</td>\n",
       "    </tr>\n",
       "    <tr>\n",
       "      <th>154</th>\n",
       "      <td>3532</td>\n",
       "      <td>Office of Technology</td>\n",
       "      <td>MINING MACHINERY &amp; EQUIP (NO OIL &amp; GAS FIELD M...</td>\n",
       "    </tr>\n",
       "    <tr>\n",
       "      <th>293</th>\n",
       "      <td>5082</td>\n",
       "      <td>Office of Trade &amp; Services</td>\n",
       "      <td>WHOLESALE-CONSTRUCTION &amp; MINING (NO PETRO) MAC...</td>\n",
       "    </tr>\n",
       "  </tbody>\n",
       "</table>\n",
       "</div>"
      ],
      "text/plain": [
       "     SIC Code                             Office  \\\n",
       "5        1000  Office of Energy & Transportation   \n",
       "8        1220  Office of Energy & Transportation   \n",
       "9        1221  Office of Energy & Transportation   \n",
       "14       1400  Office of Energy & Transportation   \n",
       "152      3530               Office of Technology   \n",
       "154      3532               Office of Technology   \n",
       "293      5082         Office of Trade & Services   \n",
       "\n",
       "                                        Industry Title  \n",
       "5                                         METAL MINING  \n",
       "8                     BITUMINOUS COAL & LIGNITE MINING  \n",
       "9             BITUMINOUS COAL & LIGNITE SURFACE MINING  \n",
       "14   MINING & QUARRYING OF NONMETALLIC MINERALS (NO...  \n",
       "152  CONSTRUCTION, MINING & MATERIALS HANDLING MACH...  \n",
       "154  MINING MACHINERY & EQUIP (NO OIL & GAS FIELD M...  \n",
       "293  WHOLESALE-CONSTRUCTION & MINING (NO PETRO) MAC...  "
      ]
     },
     "execution_count": 43,
     "metadata": {},
     "output_type": "execute_result"
    }
   ],
   "source": []
  },
  {
   "cell_type": "markdown",
   "id": "68403e82-a241-43df-bb9a-f3170840fb6d",
   "metadata": {},
   "source": [
    "Looking at the submissions bulk source data, the stuff that comes from the \"secondary\" file appears to be a continuation of older filings without the company information in the \"primary\" file. This must have something to do with how the EDGAR system is pushing the data out.\n",
    "\n",
    "The data on files are organized into arrays of values within the keys that are presumably ordered within the JSON output so that we can load them into a different structure like a table. At least each property has the same number of items in its array."
   ]
  },
  {
   "cell_type": "code",
   "execution_count": 53,
   "id": "4f73026d-5e12-445c-856a-b63ef40ecdb8",
   "metadata": {},
   "outputs": [
    {
     "name": "stdout",
     "output_type": "stream",
     "text": [
      "accessionNumber 1001\n",
      "filingDate 1001\n",
      "reportDate 1001\n",
      "acceptanceDateTime 1001\n",
      "act 1001\n",
      "form 1001\n",
      "fileNumber 1001\n",
      "filmNumber 1001\n",
      "items 1001\n",
      "size 1001\n",
      "isXBRL 1001\n",
      "isInlineXBRL 1001\n",
      "primaryDocument 1001\n",
      "primaryDocDescription 1001\n",
      "\n",
      "accessionNumber 63\n",
      "filingDate 63\n",
      "reportDate 63\n",
      "acceptanceDateTime 63\n",
      "act 63\n",
      "form 63\n",
      "fileNumber 63\n",
      "filmNumber 63\n",
      "items 63\n",
      "size 63\n",
      "isXBRL 63\n",
      "isInlineXBRL 63\n",
      "primaryDocument 63\n",
      "primaryDocDescription 63\n"
     ]
    }
   ],
   "source": [
    "for k,v in sample_company_submissions[0][\"filings\"][\"recent\"].items():\n",
    "    print(k, len(v))\n",
    "\n",
    "print()\n",
    "    \n",
    "for k,v in sample_company_submissions[1].items():\n",
    "    print(k, len(v))"
   ]
  },
  {
   "cell_type": "markdown",
   "id": "04b4e402-ae31-4644-aab9-d93e549d055e",
   "metadata": {},
   "source": [
    "Putting things together into something more familiar like a table structure, we can use Pandas and concat the two primary data structures."
   ]
  },
  {
   "cell_type": "code",
   "execution_count": 56,
   "id": "2ebd085e-d259-4a20-8217-28d411bcc1aa",
   "metadata": {},
   "outputs": [],
   "source": [
    "sample_company_filings = pd.concat([\n",
    "    pd.DataFrame(sample_company_submissions[0][\"filings\"][\"recent\"]),\n",
    "    pd.DataFrame(sample_company_submissions[1])\n",
    "])"
   ]
  },
  {
   "cell_type": "code",
   "execution_count": 57,
   "id": "9312947d-655e-4f3d-abbf-0f4db27ec007",
   "metadata": {},
   "outputs": [
    {
     "data": {
      "text/html": [
       "<div>\n",
       "<style scoped>\n",
       "    .dataframe tbody tr th:only-of-type {\n",
       "        vertical-align: middle;\n",
       "    }\n",
       "\n",
       "    .dataframe tbody tr th {\n",
       "        vertical-align: top;\n",
       "    }\n",
       "\n",
       "    .dataframe thead th {\n",
       "        text-align: right;\n",
       "    }\n",
       "</style>\n",
       "<table border=\"1\" class=\"dataframe\">\n",
       "  <thead>\n",
       "    <tr style=\"text-align: right;\">\n",
       "      <th></th>\n",
       "      <th>accessionNumber</th>\n",
       "      <th>filingDate</th>\n",
       "      <th>reportDate</th>\n",
       "      <th>acceptanceDateTime</th>\n",
       "      <th>act</th>\n",
       "      <th>form</th>\n",
       "      <th>fileNumber</th>\n",
       "      <th>filmNumber</th>\n",
       "      <th>items</th>\n",
       "      <th>size</th>\n",
       "      <th>isXBRL</th>\n",
       "      <th>isInlineXBRL</th>\n",
       "      <th>primaryDocument</th>\n",
       "      <th>primaryDocDescription</th>\n",
       "    </tr>\n",
       "  </thead>\n",
       "  <tbody>\n",
       "    <tr>\n",
       "      <th>0</th>\n",
       "      <td>0001415889-22-008188</td>\n",
       "      <td>2022-08-03</td>\n",
       "      <td>2022-08-03</td>\n",
       "      <td>2022-08-03T16:16:09.000Z</td>\n",
       "      <td></td>\n",
       "      <td>4</td>\n",
       "      <td></td>\n",
       "      <td></td>\n",
       "      <td></td>\n",
       "      <td>4942</td>\n",
       "      <td>0</td>\n",
       "      <td>0</td>\n",
       "      <td>xslF345X03/form4-08032022_040847.xml</td>\n",
       "      <td></td>\n",
       "    </tr>\n",
       "    <tr>\n",
       "      <th>1</th>\n",
       "      <td>0001415889-22-008184</td>\n",
       "      <td>2022-08-03</td>\n",
       "      <td>2022-08-03</td>\n",
       "      <td>2022-08-03T16:16:07.000Z</td>\n",
       "      <td></td>\n",
       "      <td>4</td>\n",
       "      <td></td>\n",
       "      <td></td>\n",
       "      <td></td>\n",
       "      <td>4836</td>\n",
       "      <td>0</td>\n",
       "      <td>0</td>\n",
       "      <td>xslF345X03/form4-08032022_040818.xml</td>\n",
       "      <td></td>\n",
       "    </tr>\n",
       "    <tr>\n",
       "      <th>2</th>\n",
       "      <td>0001415889-22-008187</td>\n",
       "      <td>2022-08-03</td>\n",
       "      <td>2022-08-03</td>\n",
       "      <td>2022-08-03T16:16:03.000Z</td>\n",
       "      <td></td>\n",
       "      <td>4</td>\n",
       "      <td></td>\n",
       "      <td></td>\n",
       "      <td></td>\n",
       "      <td>4899</td>\n",
       "      <td>0</td>\n",
       "      <td>0</td>\n",
       "      <td>xslF345X03/form4-08032022_040841.xml</td>\n",
       "      <td></td>\n",
       "    </tr>\n",
       "    <tr>\n",
       "      <th>3</th>\n",
       "      <td>0001415889-22-008183</td>\n",
       "      <td>2022-08-03</td>\n",
       "      <td>2022-08-03</td>\n",
       "      <td>2022-08-03T16:15:56.000Z</td>\n",
       "      <td></td>\n",
       "      <td>4</td>\n",
       "      <td></td>\n",
       "      <td></td>\n",
       "      <td></td>\n",
       "      <td>4825</td>\n",
       "      <td>0</td>\n",
       "      <td>0</td>\n",
       "      <td>xslF345X03/form4-08032022_040812.xml</td>\n",
       "      <td></td>\n",
       "    </tr>\n",
       "    <tr>\n",
       "      <th>4</th>\n",
       "      <td>0001415889-22-008186</td>\n",
       "      <td>2022-08-03</td>\n",
       "      <td>2022-08-03</td>\n",
       "      <td>2022-08-03T16:15:51.000Z</td>\n",
       "      <td></td>\n",
       "      <td>4</td>\n",
       "      <td></td>\n",
       "      <td></td>\n",
       "      <td></td>\n",
       "      <td>4823</td>\n",
       "      <td>0</td>\n",
       "      <td>0</td>\n",
       "      <td>xslF345X03/form4-08032022_040830.xml</td>\n",
       "      <td></td>\n",
       "    </tr>\n",
       "    <tr>\n",
       "      <th>...</th>\n",
       "      <td>...</td>\n",
       "      <td>...</td>\n",
       "      <td>...</td>\n",
       "      <td>...</td>\n",
       "      <td>...</td>\n",
       "      <td>...</td>\n",
       "      <td>...</td>\n",
       "      <td>...</td>\n",
       "      <td>...</td>\n",
       "      <td>...</td>\n",
       "      <td>...</td>\n",
       "      <td>...</td>\n",
       "      <td>...</td>\n",
       "      <td>...</td>\n",
       "    </tr>\n",
       "    <tr>\n",
       "      <th>58</th>\n",
       "      <td>0000007649-96-000014</td>\n",
       "      <td>1996-11-14</td>\n",
       "      <td>1996-09-30</td>\n",
       "      <td>1996-11-14T00:00:00.000Z</td>\n",
       "      <td></td>\n",
       "      <td>10-Q</td>\n",
       "      <td>001-14066</td>\n",
       "      <td>96664242</td>\n",
       "      <td></td>\n",
       "      <td>65904</td>\n",
       "      <td>0</td>\n",
       "      <td>0</td>\n",
       "      <td></td>\n",
       "      <td></td>\n",
       "    </tr>\n",
       "    <tr>\n",
       "      <th>59</th>\n",
       "      <td>0000950127-96-000096</td>\n",
       "      <td>1996-10-08</td>\n",
       "      <td></td>\n",
       "      <td>1996-10-08T00:00:00.000Z</td>\n",
       "      <td></td>\n",
       "      <td>4</td>\n",
       "      <td>001-14066</td>\n",
       "      <td>96640814</td>\n",
       "      <td></td>\n",
       "      <td>10289</td>\n",
       "      <td>0</td>\n",
       "      <td>0</td>\n",
       "      <td></td>\n",
       "      <td></td>\n",
       "    </tr>\n",
       "    <tr>\n",
       "      <th>60</th>\n",
       "      <td>0000007649-96-000010</td>\n",
       "      <td>1996-08-14</td>\n",
       "      <td>1996-06-30</td>\n",
       "      <td>1996-08-14T00:00:00.000Z</td>\n",
       "      <td></td>\n",
       "      <td>10-Q</td>\n",
       "      <td>001-14066</td>\n",
       "      <td>96614000</td>\n",
       "      <td></td>\n",
       "      <td>63202</td>\n",
       "      <td>0</td>\n",
       "      <td>0</td>\n",
       "      <td></td>\n",
       "      <td></td>\n",
       "    </tr>\n",
       "    <tr>\n",
       "      <th>61</th>\n",
       "      <td>0000950103-96-000875</td>\n",
       "      <td>1996-05-14</td>\n",
       "      <td>1996-03-31</td>\n",
       "      <td>1996-05-14T00:00:00.000Z</td>\n",
       "      <td></td>\n",
       "      <td>10-Q</td>\n",
       "      <td>001-14066</td>\n",
       "      <td>96564362</td>\n",
       "      <td></td>\n",
       "      <td>45084</td>\n",
       "      <td>0</td>\n",
       "      <td>0</td>\n",
       "      <td></td>\n",
       "      <td></td>\n",
       "    </tr>\n",
       "    <tr>\n",
       "      <th>62</th>\n",
       "      <td>0000950147-96-000013</td>\n",
       "      <td>1996-01-12</td>\n",
       "      <td></td>\n",
       "      <td>1996-01-12T00:00:00.000Z</td>\n",
       "      <td></td>\n",
       "      <td>SC 13D</td>\n",
       "      <td>005-44663</td>\n",
       "      <td>96503128</td>\n",
       "      <td></td>\n",
       "      <td>53667</td>\n",
       "      <td>0</td>\n",
       "      <td>0</td>\n",
       "      <td></td>\n",
       "      <td>SCHEDULE 13D</td>\n",
       "    </tr>\n",
       "  </tbody>\n",
       "</table>\n",
       "<p>1064 rows × 14 columns</p>\n",
       "</div>"
      ],
      "text/plain": [
       "         accessionNumber  filingDate  reportDate        acceptanceDateTime  \\\n",
       "0   0001415889-22-008188  2022-08-03  2022-08-03  2022-08-03T16:16:09.000Z   \n",
       "1   0001415889-22-008184  2022-08-03  2022-08-03  2022-08-03T16:16:07.000Z   \n",
       "2   0001415889-22-008187  2022-08-03  2022-08-03  2022-08-03T16:16:03.000Z   \n",
       "3   0001415889-22-008183  2022-08-03  2022-08-03  2022-08-03T16:15:56.000Z   \n",
       "4   0001415889-22-008186  2022-08-03  2022-08-03  2022-08-03T16:15:51.000Z   \n",
       "..                   ...         ...         ...                       ...   \n",
       "58  0000007649-96-000014  1996-11-14  1996-09-30  1996-11-14T00:00:00.000Z   \n",
       "59  0000950127-96-000096  1996-10-08              1996-10-08T00:00:00.000Z   \n",
       "60  0000007649-96-000010  1996-08-14  1996-06-30  1996-08-14T00:00:00.000Z   \n",
       "61  0000950103-96-000875  1996-05-14  1996-03-31  1996-05-14T00:00:00.000Z   \n",
       "62  0000950147-96-000013  1996-01-12              1996-01-12T00:00:00.000Z   \n",
       "\n",
       "   act    form fileNumber filmNumber items   size  isXBRL  isInlineXBRL  \\\n",
       "0            4                               4942       0             0   \n",
       "1            4                               4836       0             0   \n",
       "2            4                               4899       0             0   \n",
       "3            4                               4825       0             0   \n",
       "4            4                               4823       0             0   \n",
       "..  ..     ...        ...        ...   ...    ...     ...           ...   \n",
       "58        10-Q  001-14066   96664242        65904       0             0   \n",
       "59           4  001-14066   96640814        10289       0             0   \n",
       "60        10-Q  001-14066   96614000        63202       0             0   \n",
       "61        10-Q  001-14066   96564362        45084       0             0   \n",
       "62      SC 13D  005-44663   96503128        53667       0             0   \n",
       "\n",
       "                         primaryDocument primaryDocDescription  \n",
       "0   xslF345X03/form4-08032022_040847.xml                        \n",
       "1   xslF345X03/form4-08032022_040818.xml                        \n",
       "2   xslF345X03/form4-08032022_040841.xml                        \n",
       "3   xslF345X03/form4-08032022_040812.xml                        \n",
       "4   xslF345X03/form4-08032022_040830.xml                        \n",
       "..                                   ...                   ...  \n",
       "58                                                              \n",
       "59                                                              \n",
       "60                                                              \n",
       "61                                                              \n",
       "62                                                SCHEDULE 13D  \n",
       "\n",
       "[1064 rows x 14 columns]"
      ]
     },
     "execution_count": 57,
     "metadata": {},
     "output_type": "execute_result"
    }
   ],
   "source": [
    "sample_company_filings"
   ]
  },
  {
   "cell_type": "markdown",
   "id": "a9f975c2-cfd7-4556-aa17-be12d51a1076",
   "metadata": {},
   "source": [
    "Our basic objective at this point is, give me something that points toward a filing for an \"S-K 1300 Technical Report\" from this company, and tell me how to get it. There are a couple properties in the filings data here that seem like they could give us that clue, but a look at the unique values doesn't seem to turn anything up.\n",
    "\n",
    "Looking at the EDGAR user interface for our [sample company](https://www.sec.gov/edgar/browse/?CIK=1001838&owner=exclude) that should have one of these reports, I do notice an interesting thing that it shows and links to what appears to be the exact same JSON file we pulled down via the bulk download, which tells me we're probably connecting dots appropriately. Initially, I tried to look at the \"form\" and \"primaryDocDescription\" properties to see if I could suss out what classifies the files we're interested in. There aren't any values there that make sense for that, though.\n",
    "\n",
    "Looking at the link that Mike Zientek sent along earlier, though, there's a pattern in the URL that looks a little like the accessionNumber from the EDGAR data, which seems reasonable. \n",
    "\n",
    "https://www.sec.gov/Archives/edgar/data/1001838/000155837022002995/scco-20211231ex968d77397.pdf\n",
    "\n",
    "Parsing the value to match that seems to include some numbers, a two character year, and some more numbers, we do turn up a record from the URL pattern. From this point of view, this seems to show up as a \"10-K (Annual Report)\" in the terminology used in the EDGAR system. Digging around in the user interface does land us on what appears to be a robust [archival accession](https://www.sec.gov/ix?doc=/Archives/edgar/data/0001001838/000155837022002995/scco-20211231x10ka.htm) for this whole report and its exhibits, which is where I think we'll get to the technical reports when those exist.\n",
    "\n",
    "Somehow, we need to programmaticaly identify that a company has a technical report includes with a required filing and suss out the link to the actual PDF file. With that, we could create reasonable bibliographic metadata for the citation, include the link to the original source, and stash our own copy of the PDF if we wanted to. However, I'm not yet seeing a clear pathway to get there from what the SEC EDGAR system puts out in their API and bulk data downloads."
   ]
  },
  {
   "cell_type": "code",
   "execution_count": 63,
   "id": "fa34573c-633f-460c-94d4-0178c36ad7b8",
   "metadata": {},
   "outputs": [
    {
     "data": {
      "text/html": [
       "<div>\n",
       "<style scoped>\n",
       "    .dataframe tbody tr th:only-of-type {\n",
       "        vertical-align: middle;\n",
       "    }\n",
       "\n",
       "    .dataframe tbody tr th {\n",
       "        vertical-align: top;\n",
       "    }\n",
       "\n",
       "    .dataframe thead th {\n",
       "        text-align: right;\n",
       "    }\n",
       "</style>\n",
       "<table border=\"1\" class=\"dataframe\">\n",
       "  <thead>\n",
       "    <tr style=\"text-align: right;\">\n",
       "      <th></th>\n",
       "      <th>accessionNumber</th>\n",
       "      <th>filingDate</th>\n",
       "      <th>reportDate</th>\n",
       "      <th>acceptanceDateTime</th>\n",
       "      <th>act</th>\n",
       "      <th>form</th>\n",
       "      <th>fileNumber</th>\n",
       "      <th>filmNumber</th>\n",
       "      <th>items</th>\n",
       "      <th>size</th>\n",
       "      <th>isXBRL</th>\n",
       "      <th>isInlineXBRL</th>\n",
       "      <th>primaryDocument</th>\n",
       "      <th>primaryDocDescription</th>\n",
       "    </tr>\n",
       "  </thead>\n",
       "  <tbody>\n",
       "    <tr>\n",
       "      <th>29</th>\n",
       "      <td>0001558370-22-002995</td>\n",
       "      <td>2022-03-08</td>\n",
       "      <td>2021-12-31</td>\n",
       "      <td>2022-03-07T21:13:56.000Z</td>\n",
       "      <td>34</td>\n",
       "      <td>10-K/A</td>\n",
       "      <td>001-14066</td>\n",
       "      <td>22720169</td>\n",
       "      <td></td>\n",
       "      <td>235002213</td>\n",
       "      <td>1</td>\n",
       "      <td>1</td>\n",
       "      <td>scco-20211231x10ka.htm</td>\n",
       "      <td>10-K/A</td>\n",
       "    </tr>\n",
       "  </tbody>\n",
       "</table>\n",
       "</div>"
      ],
      "text/plain": [
       "         accessionNumber  filingDate  reportDate        acceptanceDateTime  \\\n",
       "29  0001558370-22-002995  2022-03-08  2021-12-31  2022-03-07T21:13:56.000Z   \n",
       "\n",
       "   act    form fileNumber filmNumber items       size  isXBRL  isInlineXBRL  \\\n",
       "29  34  10-K/A  001-14066   22720169        235002213       1             1   \n",
       "\n",
       "           primaryDocument primaryDocDescription  \n",
       "29  scco-20211231x10ka.htm                10-K/A  "
      ]
     },
     "execution_count": 63,
     "metadata": {},
     "output_type": "execute_result"
    }
   ],
   "source": [
    "sample_company_filings[sample_company_filings.accessionNumber == \"0001558370-22-002995\"]"
   ]
  },
  {
   "cell_type": "code",
   "execution_count": 61,
   "id": "1a616b6b-27ab-4065-829e-43da0c22beb8",
   "metadata": {},
   "outputs": [
    {
     "data": {
      "text/plain": [
       "array(['4', '4/A', '10-Q', '8-K', 'DEFA14A', 'DEF 14A', '10-K/A', '10-K',\n",
       "       'NT 10-K', 'UPLOAD', 'CORRESP', '3', 'PX14A6G', 'S-8 POS', '5',\n",
       "       '8-K/A', '424B2', 'FWP', '424B3', 'ARS', 'S-3ASR', 'SC 13D/A',\n",
       "       '425', 'S-8', 'PRE 14A', 'EFFECT', 'S-4/A', 'S-4', '144',\n",
       "       'DEFR14A', 'PRER14A', 'SC 13G/A', 'DEF 14C', 'PRE 14C', '424B4',\n",
       "       'S-3/A', 'S-3', '10-Q/A', 'SC 13G', 'SC 13D', 'PREM14A', '15-12B',\n",
       "       '11-K', 'NT 11-K', '10-K405/A', '10-K405'], dtype=object)"
      ]
     },
     "metadata": {},
     "output_type": "display_data"
    },
    {
     "data": {
      "text/plain": [
       "array(['', '10-Q', 'FORM 8-K', 'FORM 4 -', 'DEFA14A', '10-K/A', '10-K',\n",
       "       'NT 10-K', 'FORM 4/A -', 'PRIMARY DOCUMENT', 'DEF 14A',\n",
       "       'FORM 10-K/A', '8-K', 'FORM 3 -', 'S-8 POS', 'FORM 5 -', '8-K/A',\n",
       "       '424B2', 'FWP', '424B3', 'AUTO-GENERATED PAPER DOCUMENT', 'S-3ASR',\n",
       "       '10-K FILING', 'FINAL PROSPECTUS SUPPLEMENT',\n",
       "       'FREE WRITING PROSPECTUS', 'PRELIMINARY PROSPECTUS SUPPLEMENT',\n",
       "       'FORM 8K', 'SC 13D/A', '425', 'RULE 425 FILING', 'FORM 425',\n",
       "       'FORM S-3ASR', 'FORM 4 SUBMISSION',\n",
       "       'SCHEDULE 13D/A - AMENDMENT 14', 'S-8', 'PRE 14A',\n",
       "       'CURRENT REPORT OF MATERIAL EVENTS OR CORPORATE CHANGES',\n",
       "       'QUARTERLY REPORT PURSUANT TO SECTIONS 13 OR 15(D)',\n",
       "       'AMENDMENT TO ANNUAL REPORT PURSUANT TO SECTION 13 AND 15(D)',\n",
       "       'S-4/A', 'S-4', '4/A', '4',\n",
       "       'FILING FOR PROPOSED SALE OF SECURITIES UNDER RULE 144',\n",
       "       'AMENDMENT TO FORM 8-K',\n",
       "       'DEFINITIVE REVISED PROXY SOLICITING MATERIALS',\n",
       "       'ANNUAL REPORT PURSUANT TO SECTION 13 AND 15(D)',\n",
       "       'DEFINITIVE PROXY STATEMENT',\n",
       "       'PRELIMINARY PROXY NOT RELATED TO A CONTESTED MATTER OR MERGER/ACQUISITION',\n",
       "       'DEF 14C', 'PRE 14C', 'AMENDMENT #4 TO SCHEDULE 13D', '424B4',\n",
       "       'S-3/A', 'AMENDMENT NO. 3 TO SCHEDULE 13D', 'S-3', 'FORM 8-K/A',\n",
       "       '3', 'SOUTHERN PERU COPPER CORP.', '10-Q/A', 'PRER14A',\n",
       "       'AMENDMENT NO. 5 TO SCHEDULE 13D', 'SCHEDULE 13D/A',\n",
       "       'FORM 4 - CERRO TRADING', 'SC 13D', 'PREM14A', '15-12B', '11-K',\n",
       "       'SOUTHERN PERU COPPER CORP', 'SOUTHERN PERU COPPER', '5',\n",
       "       'SOUTHERN PERU', '144', 'FORM 4', 'FORM 10-Q',\n",
       "       'MAIN DOCUMENT DESCRIPTION', 'FORM 4 FOR RAMIRO G. PERU',\n",
       "       'FORM 4 FOR J. STEVEN WHISLER', 'FORM 10-Q/A', '12B-25',\n",
       "       'FORM 10-K', 'AMENDMENT #2 TO SCHEDULE 13D', 'SCHEDULE 13D',\n",
       "       'T:\\\\EDGAR\\\\EPSTEIN\\\\756193.TXT', '10-K405/A',\n",
       "       'NOTICE AND PROXY STATEMENT', 'T:\\\\EDGAR\\\\GILL\\\\672871-1.SUB',\n",
       "       'T:\\\\EDGAR\\\\GILL\\\\AW020.TXT', 'T:\\\\EDGAR\\\\643288.SUB',\n",
       "       'T:\\\\EDGAR\\\\638259.TXT',\n",
       "       '3RD QUARTER 1999 SOUTHERN PERU COPPER CORPORATION',\n",
       "       '2ND QUARTER REPORT FOR SOUTHERN PERU COPPER CORP.',\n",
       "       'SOUTHERN PERU COPPER CORPORATION 1998 10-K405/A',\n",
       "       '1ST QUARTER REPORT FOR SOUTHERN PERU COPPER CORP.',\n",
       "       '10-K405 FOR SOUTHERN PERU COPPER CORP.',\n",
       "       'DEFINITIVE PROXY MATERIAL - SOUTHERN PERU COPPER',\n",
       "       'AMENDMENT NO. 2 TO SCHEDULE 13D',\n",
       "       'AMENDMENT NO. 1 TO SCHEDULE 13D', 'SOUTHERN PERU LIMITED',\n",
       "       'AMENDMENT NO. 1 TO S-4',\n",
       "       'SOUTHERN PERU COPPER CORP./SOUTHERN PERU LIMITED'], dtype=object)"
      ]
     },
     "metadata": {},
     "output_type": "display_data"
    }
   ],
   "source": [
    "display(sample_company_filings.form.unique())\n",
    "display(sample_company_filings.primaryDocDescription.unique())"
   ]
  },
  {
   "cell_type": "markdown",
   "id": "b538e8cf-0cad-41cd-8c47-63c12dc89ba6",
   "metadata": {},
   "source": []
  }
 ],
 "metadata": {
  "kernelspec": {
   "display_name": "Python 3 (ipykernel)",
   "language": "python",
   "name": "python3"
  },
  "language_info": {
   "codemirror_mode": {
    "name": "ipython",
    "version": 3
   },
   "file_extension": ".py",
   "mimetype": "text/x-python",
   "name": "python",
   "nbconvert_exporter": "python",
   "pygments_lexer": "ipython3",
   "version": "3.10.5"
  }
 },
 "nbformat": 4,
 "nbformat_minor": 5
}
